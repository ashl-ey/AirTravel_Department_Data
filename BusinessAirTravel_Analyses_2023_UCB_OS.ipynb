{
 "cells": [
  {
   "cell_type": "markdown",
   "id": "dd03e28e-469b-4dad-bb3a-463f66521522",
   "metadata": {},
   "source": [
    "Script for stratifying domestic versus international flights for business air travel carbon mitigation program at UC Berkeley\n",
    "Updated: October 16th, 2025\n",
    "Author: Ashley Smiley; ashley.smiley@berkeley.edu"
   ]
  },
  {
   "cell_type": "markdown",
   "id": "4be8b071-aa1b-4063-b824-825bce6a0cec",
   "metadata": {},
   "source": [
    "Booking metrics needed to run this script, along with departmental codes and fund keys\n",
    "Those data uploaded separately"
   ]
  },
  {
   "cell_type": "code",
   "execution_count": null,
   "id": "653ee98e-bff0-4522-9475-88062debee79",
   "metadata": {
    "tags": []
   },
   "outputs": [],
   "source": [
    "import pandas as pd \n",
    "import numpy as np\n",
    "import matplotlib.pyplot as plt\n",
    "%matplotlib inline"
   ]
  },
  {
   "cell_type": "markdown",
   "id": "6c239556-23de-42ff-9dd1-da085c08886a",
   "metadata": {},
   "source": [
    "**TNE Flights**"
   ]
  },
  {
   "cell_type": "code",
   "execution_count": 21,
   "id": "581a5f84-1f71-4145-aa05-6fe55dbdb648",
   "metadata": {},
   "outputs": [],
   "source": [
    "TNEFlights2023 = pd.read_csv('/Users/ashley/TNE2023.csv')"
   ]
  },
  {
   "cell_type": "code",
   "execution_count": 22,
   "id": "900ab15e-878a-4d12-9a7b-84630f002b12",
   "metadata": {
    "tags": []
   },
   "outputs": [
    {
     "data": {
      "text/plain": [
       "9899"
      ]
     },
     "execution_count": 22,
     "metadata": {},
     "output_type": "execute_result"
    }
   ],
   "source": [
    "len(TNEFlights2023['Invoice ID (or DBID)'])"
   ]
  },
  {
   "cell_type": "code",
   "execution_count": 23,
   "id": "84200ba0-7ccd-4755-9d25-00ff5a8ccef7",
   "metadata": {
    "tags": []
   },
   "outputs": [
    {
     "data": {
      "text/plain": [
       "9494"
      ]
     },
     "execution_count": 23,
     "metadata": {},
     "output_type": "execute_result"
    }
   ],
   "source": [
    "TNEFlights2023['Invoice ID (or DBID)'].nunique()"
   ]
  },
  {
   "cell_type": "code",
   "execution_count": 24,
   "id": "3654007a-b816-4da9-9a93-a074f0841d0b",
   "metadata": {
    "tags": []
   },
   "outputs": [
    {
     "data": {
      "text/plain": [
       "(9899, 17)"
      ]
     },
     "execution_count": 24,
     "metadata": {},
     "output_type": "execute_result"
    }
   ],
   "source": [
    "TNEFlights2023.shape"
   ]
  },
  {
   "cell_type": "code",
   "execution_count": 25,
   "id": "9671eaab-e13e-48b4-8d3a-2ccf14da8c05",
   "metadata": {
    "tags": []
   },
   "outputs": [
    {
     "data": {
      "text/plain": [
       "Origin                   object\n",
       "Voucher ID                int64\n",
       "Vendor Name              object\n",
       "Invoice Date             object\n",
       "Invoice ID (or DBID)     object\n",
       "Payment Date             object\n",
       "Invoice Amt             float64\n",
       "Line Description         object\n",
       "Paid Gross Amount       float64\n",
       "Account                   int64\n",
       "Fund                      int64\n",
       "Deptid                    int64\n",
       "ChartField 1             object\n",
       "ChartField 2             object\n",
       "Payment Method           object\n",
       "Account Descr            object\n",
       "Amount                  float64\n",
       "dtype: object"
      ]
     },
     "execution_count": 25,
     "metadata": {},
     "output_type": "execute_result"
    }
   ],
   "source": [
    "TNEFlights2023.dtypes"
   ]
  },
  {
   "cell_type": "code",
   "execution_count": 26,
   "id": "ed61b8c6-e832-4022-9757-c247c492216d",
   "metadata": {
    "tags": []
   },
   "outputs": [
    {
     "data": {
      "text/html": [
       "<div>\n",
       "<style scoped>\n",
       "    .dataframe tbody tr th:only-of-type {\n",
       "        vertical-align: middle;\n",
       "    }\n",
       "\n",
       "    .dataframe tbody tr th {\n",
       "        vertical-align: top;\n",
       "    }\n",
       "\n",
       "    .dataframe thead th {\n",
       "        text-align: right;\n",
       "    }\n",
       "</style>\n",
       "<table border=\"1\" class=\"dataframe\">\n",
       "  <thead>\n",
       "    <tr style=\"text-align: right;\">\n",
       "      <th></th>\n",
       "      <th>Origin</th>\n",
       "      <th>Voucher ID</th>\n",
       "      <th>Vendor Name</th>\n",
       "      <th>Invoice Date</th>\n",
       "      <th>Invoice ID (or DBID)</th>\n",
       "      <th>Payment Date</th>\n",
       "      <th>Invoice Amt</th>\n",
       "      <th>Line Description</th>\n",
       "      <th>Paid Gross Amount</th>\n",
       "      <th>Account</th>\n",
       "      <th>Fund</th>\n",
       "      <th>Deptid</th>\n",
       "      <th>ChartField 1</th>\n",
       "      <th>ChartField 2</th>\n",
       "      <th>Payment Method</th>\n",
       "      <th>Account Descr</th>\n",
       "      <th>Amount</th>\n",
       "    </tr>\n",
       "  </thead>\n",
       "  <tbody>\n",
       "    <tr>\n",
       "      <th>0</th>\n",
       "      <td>TRV</td>\n",
       "      <td>90499066</td>\n",
       "      <td>BARANI,MOHAMMAD</td>\n",
       "      <td>1/1/23</td>\n",
       "      <td>TRV000609648</td>\n",
       "      <td>1/13/23</td>\n",
       "      <td>3134.51</td>\n",
       "      <td>TRV000609648;BARANI</td>\n",
       "      <td>3134.51</td>\n",
       "      <td>57212</td>\n",
       "      <td>61939</td>\n",
       "      <td>24532</td>\n",
       "      <td>NaN</td>\n",
       "      <td>JBMAF</td>\n",
       "      <td>EFT</td>\n",
       "      <td>Out-of-State Travel - Air Fare</td>\n",
       "      <td>719.30</td>\n",
       "    </tr>\n",
       "    <tr>\n",
       "      <th>1</th>\n",
       "      <td>TRV</td>\n",
       "      <td>90498399</td>\n",
       "      <td>HARRIS,EVA</td>\n",
       "      <td>1/1/23</td>\n",
       "      <td>TRV000609649</td>\n",
       "      <td>1/9/23</td>\n",
       "      <td>1980.81</td>\n",
       "      <td>TRV000609649;HARRIS</td>\n",
       "      <td>1980.81</td>\n",
       "      <td>57221</td>\n",
       "      <td>62558</td>\n",
       "      <td>14000</td>\n",
       "      <td>NaN</td>\n",
       "      <td>CPH51</td>\n",
       "      <td>EFT</td>\n",
       "      <td>Foreign Travel - Air Fare</td>\n",
       "      <td>882.81</td>\n",
       "    </tr>\n",
       "    <tr>\n",
       "      <th>2</th>\n",
       "      <td>TRV</td>\n",
       "      <td>90510103</td>\n",
       "      <td>COHEN,RONALD</td>\n",
       "      <td>1/2/23</td>\n",
       "      <td>TRV000609654</td>\n",
       "      <td>4/7/23</td>\n",
       "      <td>2605.26</td>\n",
       "      <td>TRV000609654;COHEN</td>\n",
       "      <td>2605.26</td>\n",
       "      <td>57212</td>\n",
       "      <td>66350</td>\n",
       "      <td>10805</td>\n",
       "      <td>NaN</td>\n",
       "      <td>CCRXC</td>\n",
       "      <td>EFT</td>\n",
       "      <td>Out-of-State Travel - Air Fare</td>\n",
       "      <td>419.95</td>\n",
       "    </tr>\n",
       "    <tr>\n",
       "      <th>3</th>\n",
       "      <td>TRV</td>\n",
       "      <td>90498726</td>\n",
       "      <td>LIUZZO,LUCAS</td>\n",
       "      <td>1/2/23</td>\n",
       "      <td>TRV000609657</td>\n",
       "      <td>1/11/23</td>\n",
       "      <td>2594.20</td>\n",
       "      <td>TRV000609657;LIUZZO</td>\n",
       "      <td>2594.20</td>\n",
       "      <td>57212</td>\n",
       "      <td>61043</td>\n",
       "      <td>24532</td>\n",
       "      <td>NaN</td>\n",
       "      <td>JBANP</td>\n",
       "      <td>EFT</td>\n",
       "      <td>Out-of-State Travel - Air Fare</td>\n",
       "      <td>603.05</td>\n",
       "    </tr>\n",
       "    <tr>\n",
       "      <th>4</th>\n",
       "      <td>TRV</td>\n",
       "      <td>90499104</td>\n",
       "      <td>BAMMAN,DAVID</td>\n",
       "      <td>1/3/23</td>\n",
       "      <td>TRV000609694</td>\n",
       "      <td>1/13/23</td>\n",
       "      <td>3761.30</td>\n",
       "      <td>136371TRV000609694;BAMMAN</td>\n",
       "      <td>3761.30</td>\n",
       "      <td>57221</td>\n",
       "      <td>19900</td>\n",
       "      <td>14208</td>\n",
       "      <td>NaN</td>\n",
       "      <td>MMDAB</td>\n",
       "      <td>EFT</td>\n",
       "      <td>Foreign Travel - Air Fare</td>\n",
       "      <td>1635.67</td>\n",
       "    </tr>\n",
       "  </tbody>\n",
       "</table>\n",
       "</div>"
      ],
      "text/plain": [
       "  Origin  Voucher ID      Vendor Name Invoice Date Invoice ID (or DBID)  \\\n",
       "0    TRV    90499066  BARANI,MOHAMMAD       1/1/23         TRV000609648   \n",
       "1    TRV    90498399       HARRIS,EVA       1/1/23         TRV000609649   \n",
       "2    TRV    90510103     COHEN,RONALD       1/2/23         TRV000609654   \n",
       "3    TRV    90498726     LIUZZO,LUCAS       1/2/23         TRV000609657   \n",
       "4    TRV    90499104     BAMMAN,DAVID       1/3/23         TRV000609694   \n",
       "\n",
       "  Payment Date  Invoice Amt           Line Description  Paid Gross Amount  \\\n",
       "0      1/13/23      3134.51        TRV000609648;BARANI            3134.51   \n",
       "1       1/9/23      1980.81        TRV000609649;HARRIS            1980.81   \n",
       "2       4/7/23      2605.26         TRV000609654;COHEN            2605.26   \n",
       "3      1/11/23      2594.20        TRV000609657;LIUZZO            2594.20   \n",
       "4      1/13/23      3761.30  136371TRV000609694;BAMMAN            3761.30   \n",
       "\n",
       "   Account   Fund  Deptid ChartField 1 ChartField 2 Payment Method  \\\n",
       "0    57212  61939   24532          NaN        JBMAF            EFT   \n",
       "1    57221  62558   14000          NaN        CPH51            EFT   \n",
       "2    57212  66350   10805          NaN        CCRXC            EFT   \n",
       "3    57212  61043   24532          NaN        JBANP            EFT   \n",
       "4    57221  19900   14208          NaN        MMDAB            EFT   \n",
       "\n",
       "                    Account Descr   Amount  \n",
       "0  Out-of-State Travel - Air Fare   719.30  \n",
       "1       Foreign Travel - Air Fare   882.81  \n",
       "2  Out-of-State Travel - Air Fare   419.95  \n",
       "3  Out-of-State Travel - Air Fare   603.05  \n",
       "4       Foreign Travel - Air Fare  1635.67  "
      ]
     },
     "execution_count": 26,
     "metadata": {},
     "output_type": "execute_result"
    }
   ],
   "source": [
    "TNEFlights2023.head(5)"
   ]
  },
  {
   "cell_type": "code",
   "execution_count": 27,
   "id": "32d703e1-f797-4a6f-ba3b-2b6bafe74041",
   "metadata": {
    "tags": []
   },
   "outputs": [
    {
     "data": {
      "text/plain": [
       "Account\n",
       "57212    4115\n",
       "57211    3032\n",
       "57221    2540\n",
       "56715     212\n",
       "Name: count, dtype: int64"
      ]
     },
     "execution_count": 27,
     "metadata": {},
     "output_type": "execute_result"
    }
   ],
   "source": [
    "TNEFlights2023['Account'].value_counts()"
   ]
  },
  {
   "cell_type": "code",
   "execution_count": 29,
   "id": "5e89ab60-cf73-4fb3-b576-375bcb4962a0",
   "metadata": {
    "tags": []
   },
   "outputs": [
    {
     "data": {
      "text/plain": [
       "0          TRV000609648;BARANI\n",
       "1          TRV000609649;HARRIS\n",
       "2           TRV000609654;COHEN\n",
       "3          TRV000609657;LIUZZO\n",
       "4    136371TRV000609694;BAMMAN\n",
       "5            TRV000609702;CHOI\n",
       "6          TRV000609672;CURTIS\n",
       "7         136309ACollinsSUPERB\n",
       "8                    ID 136470\n",
       "9                    ID 136471\n",
       "Name: Line Description, dtype: object"
      ]
     },
     "execution_count": 29,
     "metadata": {},
     "output_type": "execute_result"
    }
   ],
   "source": [
    "TNEFlights2023['Line Description'].head(10)"
   ]
  },
  {
   "cell_type": "code",
   "execution_count": 8,
   "id": "627d97ab-b837-43f2-8d76-3e43c07cf4cb",
   "metadata": {
    "tags": []
   },
   "outputs": [],
   "source": [
    "drop_chartfields = ['ChartField 1', 'ChartField 2']"
   ]
  },
  {
   "cell_type": "code",
   "execution_count": 9,
   "id": "25d19b04-fb7b-4c21-808d-71062611326b",
   "metadata": {
    "tags": []
   },
   "outputs": [],
   "source": [
    "TNEFlights2023.drop(drop_chartfields, axis=1, inplace=True)"
   ]
  },
  {
   "cell_type": "code",
   "execution_count": 10,
   "id": "14b28370-5b5b-4353-a2bd-f9f78edd18a0",
   "metadata": {
    "tags": []
   },
   "outputs": [
    {
     "data": {
      "text/plain": [
       "(9899, 15)"
      ]
     },
     "execution_count": 10,
     "metadata": {},
     "output_type": "execute_result"
    }
   ],
   "source": [
    "TNEFlights2023.shape"
   ]
  },
  {
   "cell_type": "markdown",
   "id": "925d96bc-b3d0-45c3-af47-0f3fa5be4c15",
   "metadata": {},
   "source": [
    "**BCD Flights**"
   ]
  },
  {
   "cell_type": "code",
   "execution_count": 30,
   "id": "80dd6ed9-5cff-4d00-a9e9-27d80e30ca06",
   "metadata": {},
   "outputs": [],
   "source": [
    "BCD2023 = pd.read_csv('/Users/ashley/BCD2023.csv')"
   ]
  },
  {
   "cell_type": "code",
   "execution_count": 12,
   "id": "0fc324b3-0409-428c-9873-6f2558246c38",
   "metadata": {
    "tags": []
   },
   "outputs": [],
   "source": [
    "BCD2023['Invoice ID (or DBID)'] = BCD2023['Invoice ID (or DBID)'].map(lambda x: str(x)[:-2])"
   ]
  },
  {
   "cell_type": "code",
   "execution_count": 31,
   "id": "50ff4b46-d559-406a-981e-379d7f271e57",
   "metadata": {
    "tags": []
   },
   "outputs": [
    {
     "data": {
      "text/plain": [
       "2155"
      ]
     },
     "execution_count": 31,
     "metadata": {},
     "output_type": "execute_result"
    }
   ],
   "source": [
    "BCD2023['Invoice ID (or DBID)'].nunique()"
   ]
  },
  {
   "cell_type": "code",
   "execution_count": 32,
   "id": "0d145491-0e13-4502-8973-eaa9a49a3ab1",
   "metadata": {
    "tags": []
   },
   "outputs": [
    {
     "data": {
      "text/plain": [
       "(3907, 17)"
      ]
     },
     "execution_count": 32,
     "metadata": {},
     "output_type": "execute_result"
    }
   ],
   "source": [
    "BCD2023.shape"
   ]
  },
  {
   "cell_type": "code",
   "execution_count": 15,
   "id": "3037f2c0-967d-4d79-abd9-4a8b4c4d728a",
   "metadata": {
    "tags": []
   },
   "outputs": [],
   "source": [
    "AirFareFees = [9.75, 34.00]\n",
    "BCD2023[BCD2023.Amount.isin(AirFareFees) == False]\n",
    "BCD2023minusAirFareFees = BCD2023[BCD2023.Amount.isin(AirFareFees) == False]\n",
    "BCDFlights2023 = BCD2023minusAirFareFees[BCD2023minusAirFareFees['Amount'] > 0]"
   ]
  },
  {
   "cell_type": "code",
   "execution_count": 33,
   "id": "83e2511a-5bc8-45bf-8196-fef0cae538ac",
   "metadata": {
    "tags": []
   },
   "outputs": [
    {
     "data": {
      "text/plain": [
       "(2006, 17)"
      ]
     },
     "execution_count": 33,
     "metadata": {},
     "output_type": "execute_result"
    }
   ],
   "source": [
    "BCDFlights2023.shape"
   ]
  },
  {
   "cell_type": "code",
   "execution_count": 34,
   "id": "8cbd5b74-b8de-4cef-876c-78262d511893",
   "metadata": {
    "tags": []
   },
   "outputs": [
    {
     "data": {
      "text/plain": [
       "Account\n",
       "57239    1702\n",
       "57211     140\n",
       "57212     112\n",
       "57221      41\n",
       "56715      11\n",
       "Name: count, dtype: int64"
      ]
     },
     "execution_count": 34,
     "metadata": {},
     "output_type": "execute_result"
    }
   ],
   "source": [
    "BCDFlights2023['Account'].value_counts()"
   ]
  },
  {
   "cell_type": "code",
   "execution_count": 35,
   "id": "4f80e34f-5e3e-4c5b-b88b-78abb6d775df",
   "metadata": {
    "collapsed": true,
    "jupyter": {
     "outputs_hidden": true
    },
    "tags": []
   },
   "outputs": [
    {
     "data": {
      "text/plain": [
       "Origin                   object\n",
       "Voucher ID                int64\n",
       "Vendor Name              object\n",
       "Invoice Date             object\n",
       "Invoice ID (or DBID)     object\n",
       "Payment Date             object\n",
       "Invoice Amt             float64\n",
       "Line Description         object\n",
       "Paid Gross Amount       float64\n",
       "Account                   int64\n",
       "Fund                      int64\n",
       "Deptid                    int64\n",
       "ChartField 1             object\n",
       "ChartField 2             object\n",
       "Payment Method           object\n",
       "Account Descr            object\n",
       "Amount                  float64\n",
       "dtype: object"
      ]
     },
     "execution_count": 35,
     "metadata": {},
     "output_type": "execute_result"
    }
   ],
   "source": [
    "BCDFlights2023.dtypes"
   ]
  },
  {
   "cell_type": "code",
   "execution_count": 13,
   "id": "9383b1f0-8830-4acf-a297-fda2a1c17b71",
   "metadata": {
    "collapsed": true,
    "jupyter": {
     "outputs_hidden": true
    },
    "tags": []
   },
   "outputs": [
    {
     "data": {
      "text/html": [
       "<div>\n",
       "<style scoped>\n",
       "    .dataframe tbody tr th:only-of-type {\n",
       "        vertical-align: middle;\n",
       "    }\n",
       "\n",
       "    .dataframe tbody tr th {\n",
       "        vertical-align: top;\n",
       "    }\n",
       "\n",
       "    .dataframe thead th {\n",
       "        text-align: right;\n",
       "    }\n",
       "</style>\n",
       "<table border=\"1\" class=\"dataframe\">\n",
       "  <thead>\n",
       "    <tr style=\"text-align: right;\">\n",
       "      <th></th>\n",
       "      <th>Origin</th>\n",
       "      <th>Voucher ID</th>\n",
       "      <th>Vendor Name</th>\n",
       "      <th>Invoice Date</th>\n",
       "      <th>Invoice ID (or DBID)</th>\n",
       "      <th>Payment Date</th>\n",
       "      <th>Invoice Amt</th>\n",
       "      <th>Line Description</th>\n",
       "      <th>Paid Gross Amount</th>\n",
       "      <th>Account</th>\n",
       "      <th>Fund</th>\n",
       "      <th>Deptid</th>\n",
       "      <th>ChartField 1</th>\n",
       "      <th>ChartField 2</th>\n",
       "      <th>Payment Method</th>\n",
       "      <th>Account Descr</th>\n",
       "      <th>Amount</th>\n",
       "    </tr>\n",
       "  </thead>\n",
       "  <tbody>\n",
       "    <tr>\n",
       "      <th>0</th>\n",
       "      <td>TRV</td>\n",
       "      <td>13632554</td>\n",
       "      <td>US BANK BCD TRAVEL</td>\n",
       "      <td>1/2/23</td>\n",
       "      <td>5800308312</td>\n",
       "      <td>1/10/23</td>\n",
       "      <td>25.00</td>\n",
       "      <td>No Description</td>\n",
       "      <td>25.00</td>\n",
       "      <td>57239</td>\n",
       "      <td>69995</td>\n",
       "      <td>750</td>\n",
       "      <td>NaN</td>\n",
       "      <td>NaN</td>\n",
       "      <td>EFT</td>\n",
       "      <td>Travel DB US Bank Clearing</td>\n",
       "      <td>25.00</td>\n",
       "    </tr>\n",
       "    <tr>\n",
       "      <th>1</th>\n",
       "      <td>TRV</td>\n",
       "      <td>13632822</td>\n",
       "      <td>US BANK BCD TRAVEL</td>\n",
       "      <td>1/3/23</td>\n",
       "      <td>5800510702</td>\n",
       "      <td>1/11/23</td>\n",
       "      <td>297.80</td>\n",
       "      <td>No Description</td>\n",
       "      <td>297.80</td>\n",
       "      <td>57239</td>\n",
       "      <td>69995</td>\n",
       "      <td>750</td>\n",
       "      <td>NaN</td>\n",
       "      <td>NaN</td>\n",
       "      <td>EFT</td>\n",
       "      <td>Travel DB US Bank Clearing</td>\n",
       "      <td>297.80</td>\n",
       "    </tr>\n",
       "    <tr>\n",
       "      <th>2</th>\n",
       "      <td>TRV</td>\n",
       "      <td>13632819</td>\n",
       "      <td>US BANK BCD TRAVEL</td>\n",
       "      <td>1/3/23</td>\n",
       "      <td>5800510762</td>\n",
       "      <td>1/11/23</td>\n",
       "      <td>301.49</td>\n",
       "      <td>No Description</td>\n",
       "      <td>301.49</td>\n",
       "      <td>57239</td>\n",
       "      <td>69995</td>\n",
       "      <td>750</td>\n",
       "      <td>NaN</td>\n",
       "      <td>NaN</td>\n",
       "      <td>EFT</td>\n",
       "      <td>Travel DB US Bank Clearing</td>\n",
       "      <td>301.49</td>\n",
       "    </tr>\n",
       "    <tr>\n",
       "      <th>5</th>\n",
       "      <td>TRV</td>\n",
       "      <td>13633098</td>\n",
       "      <td>US BANK BCD TRAVEL</td>\n",
       "      <td>1/4/23</td>\n",
       "      <td>5800610989</td>\n",
       "      <td>1/12/23</td>\n",
       "      <td>220.27</td>\n",
       "      <td>No Description</td>\n",
       "      <td>220.27</td>\n",
       "      <td>57239</td>\n",
       "      <td>69995</td>\n",
       "      <td>750</td>\n",
       "      <td>NaN</td>\n",
       "      <td>NaN</td>\n",
       "      <td>EFT</td>\n",
       "      <td>Travel DB US Bank Clearing</td>\n",
       "      <td>220.27</td>\n",
       "    </tr>\n",
       "    <tr>\n",
       "      <th>6</th>\n",
       "      <td>TRV</td>\n",
       "      <td>13633099</td>\n",
       "      <td>US BANK BCD TRAVEL</td>\n",
       "      <td>1/4/23</td>\n",
       "      <td>5800613128</td>\n",
       "      <td>1/12/23</td>\n",
       "      <td>473.58</td>\n",
       "      <td>No Description</td>\n",
       "      <td>473.58</td>\n",
       "      <td>57239</td>\n",
       "      <td>69995</td>\n",
       "      <td>750</td>\n",
       "      <td>NaN</td>\n",
       "      <td>NaN</td>\n",
       "      <td>EFT</td>\n",
       "      <td>Travel DB US Bank Clearing</td>\n",
       "      <td>473.58</td>\n",
       "    </tr>\n",
       "  </tbody>\n",
       "</table>\n",
       "</div>"
      ],
      "text/plain": [
       "  Origin  Voucher ID         Vendor Name Invoice Date Invoice ID (or DBID)  \\\n",
       "0    TRV    13632554  US BANK BCD TRAVEL       1/2/23           5800308312   \n",
       "1    TRV    13632822  US BANK BCD TRAVEL       1/3/23           5800510702   \n",
       "2    TRV    13632819  US BANK BCD TRAVEL       1/3/23           5800510762   \n",
       "5    TRV    13633098  US BANK BCD TRAVEL       1/4/23           5800610989   \n",
       "6    TRV    13633099  US BANK BCD TRAVEL       1/4/23           5800613128   \n",
       "\n",
       "  Payment Date  Invoice Amt Line Description  Paid Gross Amount  Account  \\\n",
       "0      1/10/23        25.00   No Description              25.00    57239   \n",
       "1      1/11/23       297.80   No Description             297.80    57239   \n",
       "2      1/11/23       301.49   No Description             301.49    57239   \n",
       "5      1/12/23       220.27   No Description             220.27    57239   \n",
       "6      1/12/23       473.58   No Description             473.58    57239   \n",
       "\n",
       "    Fund  Deptid ChartField 1 ChartField 2 Payment Method  \\\n",
       "0  69995     750          NaN          NaN            EFT   \n",
       "1  69995     750          NaN          NaN            EFT   \n",
       "2  69995     750          NaN          NaN            EFT   \n",
       "5  69995     750          NaN          NaN            EFT   \n",
       "6  69995     750          NaN          NaN            EFT   \n",
       "\n",
       "                Account Descr  Amount  \n",
       "0  Travel DB US Bank Clearing   25.00  \n",
       "1  Travel DB US Bank Clearing  297.80  \n",
       "2  Travel DB US Bank Clearing  301.49  \n",
       "5  Travel DB US Bank Clearing  220.27  \n",
       "6  Travel DB US Bank Clearing  473.58  "
      ]
     },
     "execution_count": 13,
     "metadata": {},
     "output_type": "execute_result"
    }
   ],
   "source": [
    "BCDFlights2023.head(5)"
   ]
  },
  {
   "cell_type": "code",
   "execution_count": 18,
   "id": "c757d8e2-417a-4e05-bce8-8badefb761a3",
   "metadata": {
    "tags": []
   },
   "outputs": [],
   "source": [
    "BCDFlights2023 = BCDFlights2023[BCDFlights2023['Account'] != 57239]"
   ]
  },
  {
   "cell_type": "code",
   "execution_count": 19,
   "id": "be3d752f-9446-466f-82d5-6be4ede6c682",
   "metadata": {
    "tags": []
   },
   "outputs": [
    {
     "data": {
      "text/plain": [
       "(304, 17)"
      ]
     },
     "execution_count": 19,
     "metadata": {},
     "output_type": "execute_result"
    }
   ],
   "source": [
    "BCDFlights2023.shape"
   ]
  },
  {
   "cell_type": "code",
   "execution_count": 20,
   "id": "1a817b4f-3fef-4e0f-84c0-e18183fe80b6",
   "metadata": {
    "collapsed": true,
    "jupyter": {
     "outputs_hidden": true
    },
    "tags": []
   },
   "outputs": [
    {
     "data": {
      "text/plain": [
       "Origin                   object\n",
       "Voucher ID                int64\n",
       "Vendor Name              object\n",
       "Invoice Date             object\n",
       "Invoice ID (or DBID)     object\n",
       "Payment Date             object\n",
       "Invoice Amt             float64\n",
       "Line Description         object\n",
       "Paid Gross Amount       float64\n",
       "Account                   int64\n",
       "Fund                      int64\n",
       "Deptid                    int64\n",
       "ChartField 1             object\n",
       "ChartField 2             object\n",
       "Payment Method           object\n",
       "Account Descr            object\n",
       "Amount                  float64\n",
       "dtype: object"
      ]
     },
     "execution_count": 20,
     "metadata": {},
     "output_type": "execute_result"
    }
   ],
   "source": [
    "BCDFlights2023.dtypes"
   ]
  },
  {
   "cell_type": "markdown",
   "id": "f893c4ee-d8e0-4e4c-b40e-d8735678a88c",
   "metadata": {},
   "source": [
    "**Load data Laura shared that clears up some of the 57239 accounts**"
   ]
  },
  {
   "cell_type": "markdown",
   "id": "6e2e03cd-acc9-4ee2-a776-9e295ab33d86",
   "metadata": {},
   "source": [
    "**I start working with the new data here**"
   ]
  },
  {
   "cell_type": "code",
   "execution_count": 21,
   "id": "7ee06c4c-7bc8-4f6a-a27d-08d2c75bf0d8",
   "metadata": {
    "tags": []
   },
   "outputs": [],
   "source": [
    "BCDnewstack = pd.read_csv('/Users/ashley/BCD2023update.csv')"
   ]
  },
  {
   "cell_type": "code",
   "execution_count": 22,
   "id": "a55706ff-1c61-497b-913a-4e65766c2fc4",
   "metadata": {
    "tags": []
   },
   "outputs": [
    {
     "data": {
      "text/plain": [
       "(3243, 23)"
      ]
     },
     "execution_count": 22,
     "metadata": {},
     "output_type": "execute_result"
    }
   ],
   "source": [
    "BCDnewstack.shape"
   ]
  },
  {
   "cell_type": "code",
   "execution_count": 23,
   "id": "539843f5-4f21-4516-9eec-20f6b18f4e2c",
   "metadata": {
    "tags": []
   },
   "outputs": [],
   "source": [
    "BCDnewstack.drop('Function', axis=1, inplace=True)"
   ]
  },
  {
   "cell_type": "code",
   "execution_count": 24,
   "id": "99d8b065-f18c-4efa-beb1-39f0bf4afa73",
   "metadata": {
    "tags": []
   },
   "outputs": [],
   "source": [
    "more_columns_to_delete = ['Ticket Number', 'BFS ticket # after removed Airline codes', 'TicketNbr']"
   ]
  },
  {
   "cell_type": "code",
   "execution_count": 25,
   "id": "d8131114-72c4-426a-bd9f-8a8f71615efb",
   "metadata": {
    "tags": []
   },
   "outputs": [],
   "source": [
    "BCDnewstack.drop(more_columns_to_delete, axis=1, inplace=True)"
   ]
  },
  {
   "cell_type": "code",
   "execution_count": 26,
   "id": "b4693884-12ad-4c28-aa58-12f30c1566e9",
   "metadata": {
    "tags": []
   },
   "outputs": [
    {
     "data": {
      "text/plain": [
       "(3243, 19)"
      ]
     },
     "execution_count": 26,
     "metadata": {},
     "output_type": "execute_result"
    }
   ],
   "source": [
    "BCDnewstack.shape"
   ]
  },
  {
   "cell_type": "markdown",
   "id": "b943c8fc-37ea-497b-87c6-d0cc18d99d7b",
   "metadata": {},
   "source": [
    "**Replace the \"missing\" DBIDs with their correct ones**"
   ]
  },
  {
   "cell_type": "code",
   "execution_count": 27,
   "id": "49b6244d-1d3a-4263-8485-9cfbfdb235ed",
   "metadata": {
    "tags": []
   },
   "outputs": [],
   "source": [
    "BCDnewstack.iloc[:, 4] = BCDnewstack.iloc[:, -2]"
   ]
  },
  {
   "cell_type": "code",
   "execution_count": 28,
   "id": "2e97b572-eadf-4666-8732-dee6e70d23ca",
   "metadata": {
    "tags": []
   },
   "outputs": [],
   "source": [
    "BCDnewstack.drop('Direct Bill ID-S5', axis=1, inplace=True)"
   ]
  },
  {
   "cell_type": "code",
   "execution_count": 29,
   "id": "42cfa0e1-d3cd-4a09-a2ee-f198e5fc1c78",
   "metadata": {
    "tags": []
   },
   "outputs": [
    {
     "data": {
      "text/plain": [
       "(3243, 18)"
      ]
     },
     "execution_count": 29,
     "metadata": {},
     "output_type": "execute_result"
    }
   ],
   "source": [
    "BCDnewstack.shape"
   ]
  },
  {
   "cell_type": "markdown",
   "id": "afb4c6be-05db-4b79-8fb5-65544450c20e",
   "metadata": {},
   "source": [
    "**Laura gave us 4+ columns of data in one cell, so I broke it out here**"
   ]
  },
  {
   "cell_type": "code",
   "execution_count": 30,
   "id": "e31ec09e-d45b-480a-8f65-2dbad9dea6f8",
   "metadata": {
    "tags": []
   },
   "outputs": [],
   "source": [
    "BCDnewstack['COA'] = BCDnewstack['COA'].str.split('-').str[:4]"
   ]
  },
  {
   "cell_type": "code",
   "execution_count": 31,
   "id": "f615f876-2d66-48ae-bb6d-c7efd5566279",
   "metadata": {
    "tags": []
   },
   "outputs": [],
   "source": [
    "BCDnewstack[['delete', 'AccountCorrection', 'FundCorrection', 'DeptidCorrection']] = pd.DataFrame(BCDnewstack['COA'].tolist())"
   ]
  },
  {
   "cell_type": "code",
   "execution_count": 32,
   "id": "86746079-d57c-47b5-b55c-a576227f2934",
   "metadata": {
    "collapsed": true,
    "jupyter": {
     "outputs_hidden": true
    },
    "tags": []
   },
   "outputs": [
    {
     "data": {
      "text/html": [
       "<div>\n",
       "<style scoped>\n",
       "    .dataframe tbody tr th:only-of-type {\n",
       "        vertical-align: middle;\n",
       "    }\n",
       "\n",
       "    .dataframe tbody tr th {\n",
       "        vertical-align: top;\n",
       "    }\n",
       "\n",
       "    .dataframe thead th {\n",
       "        text-align: right;\n",
       "    }\n",
       "</style>\n",
       "<table border=\"1\" class=\"dataframe\">\n",
       "  <thead>\n",
       "    <tr style=\"text-align: right;\">\n",
       "      <th></th>\n",
       "      <th>Origin</th>\n",
       "      <th>Voucher ID</th>\n",
       "      <th>Vendor Name</th>\n",
       "      <th>Invoice Date</th>\n",
       "      <th>Invoice ID (or DBID)</th>\n",
       "      <th>Payment Date</th>\n",
       "      <th>Invoice Amt</th>\n",
       "      <th>Line Description</th>\n",
       "      <th>Paid Gross Amount</th>\n",
       "      <th>Account</th>\n",
       "      <th>...</th>\n",
       "      <th>ChartField 1</th>\n",
       "      <th>ChartField 2</th>\n",
       "      <th>Payment Method</th>\n",
       "      <th>Account Descr</th>\n",
       "      <th>Amount</th>\n",
       "      <th>COA</th>\n",
       "      <th>delete</th>\n",
       "      <th>AccountCorrection</th>\n",
       "      <th>FundCorrection</th>\n",
       "      <th>DeptidCorrection</th>\n",
       "    </tr>\n",
       "  </thead>\n",
       "  <tbody>\n",
       "    <tr>\n",
       "      <th>0</th>\n",
       "      <td>TRV</td>\n",
       "      <td>13649777</td>\n",
       "      <td>US BANK BCD TRAVEL</td>\n",
       "      <td>2/23/23</td>\n",
       "      <td>ABDE094372</td>\n",
       "      <td>3/7/23</td>\n",
       "      <td>462.67</td>\n",
       "      <td>No Description</td>\n",
       "      <td>462.67</td>\n",
       "      <td>57239</td>\n",
       "      <td>...</td>\n",
       "      <td>NaN</td>\n",
       "      <td>NaN</td>\n",
       "      <td>EFT</td>\n",
       "      <td>Travel DB US Bank Clearing</td>\n",
       "      <td>462.67</td>\n",
       "      <td>[1, 57212, 20225, 11981]</td>\n",
       "      <td>1</td>\n",
       "      <td>57212</td>\n",
       "      <td>20225</td>\n",
       "      <td>11981</td>\n",
       "    </tr>\n",
       "    <tr>\n",
       "      <th>1</th>\n",
       "      <td>TRV</td>\n",
       "      <td>13649802</td>\n",
       "      <td>US BANK BCD TRAVEL</td>\n",
       "      <td>2/23/23</td>\n",
       "      <td>ABDE094372</td>\n",
       "      <td>3/7/23</td>\n",
       "      <td>9.75</td>\n",
       "      <td>No Description</td>\n",
       "      <td>9.75</td>\n",
       "      <td>57239</td>\n",
       "      <td>...</td>\n",
       "      <td>NaN</td>\n",
       "      <td>NaN</td>\n",
       "      <td>EFT</td>\n",
       "      <td>Travel DB US Bank Clearing</td>\n",
       "      <td>9.75</td>\n",
       "      <td>[1, 57212, 20225, 11981]</td>\n",
       "      <td>1</td>\n",
       "      <td>57212</td>\n",
       "      <td>20225</td>\n",
       "      <td>11981</td>\n",
       "    </tr>\n",
       "    <tr>\n",
       "      <th>2</th>\n",
       "      <td>TRV</td>\n",
       "      <td>13659510</td>\n",
       "      <td>US BANK BCD TRAVEL</td>\n",
       "      <td>3/17/23</td>\n",
       "      <td>ACRE095756</td>\n",
       "      <td>4/4/23</td>\n",
       "      <td>775.12</td>\n",
       "      <td>No Description</td>\n",
       "      <td>775.12</td>\n",
       "      <td>57239</td>\n",
       "      <td>...</td>\n",
       "      <td>NaN</td>\n",
       "      <td>NaN</td>\n",
       "      <td>EFT</td>\n",
       "      <td>Travel DB US Bank Clearing</td>\n",
       "      <td>775.12</td>\n",
       "      <td>[1, 57211, 96576, 31178]</td>\n",
       "      <td>1</td>\n",
       "      <td>57211</td>\n",
       "      <td>96576</td>\n",
       "      <td>31178</td>\n",
       "    </tr>\n",
       "    <tr>\n",
       "      <th>3</th>\n",
       "      <td>TRV</td>\n",
       "      <td>13659522</td>\n",
       "      <td>US BANK BCD TRAVEL</td>\n",
       "      <td>3/17/23</td>\n",
       "      <td>ACRE095756</td>\n",
       "      <td>4/4/23</td>\n",
       "      <td>9.75</td>\n",
       "      <td>No Description</td>\n",
       "      <td>9.75</td>\n",
       "      <td>57239</td>\n",
       "      <td>...</td>\n",
       "      <td>NaN</td>\n",
       "      <td>NaN</td>\n",
       "      <td>EFT</td>\n",
       "      <td>Travel DB US Bank Clearing</td>\n",
       "      <td>9.75</td>\n",
       "      <td>[1, 57211, 96576, 31178]</td>\n",
       "      <td>1</td>\n",
       "      <td>57211</td>\n",
       "      <td>96576</td>\n",
       "      <td>31178</td>\n",
       "    </tr>\n",
       "    <tr>\n",
       "      <th>4</th>\n",
       "      <td>TRV</td>\n",
       "      <td>13701980</td>\n",
       "      <td>US BANK BCD TRAVEL</td>\n",
       "      <td>9/5/23</td>\n",
       "      <td>ADEL101812</td>\n",
       "      <td>9/12/23</td>\n",
       "      <td>298.97</td>\n",
       "      <td>No Description</td>\n",
       "      <td>298.97</td>\n",
       "      <td>57239</td>\n",
       "      <td>...</td>\n",
       "      <td>NaN</td>\n",
       "      <td>NaN</td>\n",
       "      <td>EFT</td>\n",
       "      <td>Travel DB US Bank Clearing</td>\n",
       "      <td>298.97</td>\n",
       "      <td>[1, 57211, 70450, 23398]</td>\n",
       "      <td>1</td>\n",
       "      <td>57211</td>\n",
       "      <td>70450</td>\n",
       "      <td>23398</td>\n",
       "    </tr>\n",
       "  </tbody>\n",
       "</table>\n",
       "<p>5 rows × 22 columns</p>\n",
       "</div>"
      ],
      "text/plain": [
       "  Origin  Voucher ID         Vendor Name Invoice Date Invoice ID (or DBID)  \\\n",
       "0    TRV    13649777  US BANK BCD TRAVEL      2/23/23           ABDE094372   \n",
       "1    TRV    13649802  US BANK BCD TRAVEL      2/23/23           ABDE094372   \n",
       "2    TRV    13659510  US BANK BCD TRAVEL      3/17/23           ACRE095756   \n",
       "3    TRV    13659522  US BANK BCD TRAVEL      3/17/23           ACRE095756   \n",
       "4    TRV    13701980  US BANK BCD TRAVEL       9/5/23           ADEL101812   \n",
       "\n",
       "  Payment Date  Invoice Amt Line Description  Paid Gross Amount  Account  ...  \\\n",
       "0       3/7/23       462.67   No Description             462.67    57239  ...   \n",
       "1       3/7/23         9.75   No Description               9.75    57239  ...   \n",
       "2       4/4/23       775.12   No Description             775.12    57239  ...   \n",
       "3       4/4/23         9.75   No Description               9.75    57239  ...   \n",
       "4      9/12/23       298.97   No Description             298.97    57239  ...   \n",
       "\n",
       "   ChartField 1  ChartField 2  Payment Method               Account Descr  \\\n",
       "0           NaN           NaN             EFT  Travel DB US Bank Clearing   \n",
       "1           NaN           NaN             EFT  Travel DB US Bank Clearing   \n",
       "2           NaN           NaN             EFT  Travel DB US Bank Clearing   \n",
       "3           NaN           NaN             EFT  Travel DB US Bank Clearing   \n",
       "4           NaN           NaN             EFT  Travel DB US Bank Clearing   \n",
       "\n",
       "   Amount                       COA  delete AccountCorrection FundCorrection  \\\n",
       "0  462.67  [1, 57212, 20225, 11981]       1             57212          20225   \n",
       "1    9.75  [1, 57212, 20225, 11981]       1             57212          20225   \n",
       "2  775.12  [1, 57211, 96576, 31178]       1             57211          96576   \n",
       "3    9.75  [1, 57211, 96576, 31178]       1             57211          96576   \n",
       "4  298.97  [1, 57211, 70450, 23398]       1             57211          70450   \n",
       "\n",
       "  DeptidCorrection  \n",
       "0            11981  \n",
       "1            11981  \n",
       "2            31178  \n",
       "3            31178  \n",
       "4            23398  \n",
       "\n",
       "[5 rows x 22 columns]"
      ]
     },
     "execution_count": 32,
     "metadata": {},
     "output_type": "execute_result"
    }
   ],
   "source": [
    "BCDnewstack.head(5)"
   ]
  },
  {
   "cell_type": "code",
   "execution_count": 33,
   "id": "2b86a961-9391-4eb3-b531-f41fbf342bfd",
   "metadata": {
    "tags": []
   },
   "outputs": [],
   "source": [
    "BCDnewstack.drop('delete', axis=1, inplace=True)"
   ]
  },
  {
   "cell_type": "markdown",
   "id": "91d62511-1af8-4bb5-9669-615b133c88ee",
   "metadata": {},
   "source": [
    "**I replaced the 57239 accounts with their correct ones as well as the Fund & Deptid codes**"
   ]
  },
  {
   "cell_type": "code",
   "execution_count": 34,
   "id": "c3297541-1099-47bb-a923-23df366cbf36",
   "metadata": {
    "tags": []
   },
   "outputs": [],
   "source": [
    "BCDnewstack['Account'] = BCDnewstack['AccountCorrection']"
   ]
  },
  {
   "cell_type": "code",
   "execution_count": 35,
   "id": "ca8723a1-98b9-4e86-805d-0f5fcc112a1e",
   "metadata": {
    "tags": []
   },
   "outputs": [],
   "source": [
    "BCDnewstack['Fund'] = BCDnewstack['FundCorrection']"
   ]
  },
  {
   "cell_type": "code",
   "execution_count": 36,
   "id": "2e0ed7b6-f36d-4861-8afb-225b119ccf0e",
   "metadata": {
    "tags": []
   },
   "outputs": [],
   "source": [
    "BCDnewstack['Deptid'] = BCDnewstack['DeptidCorrection']"
   ]
  },
  {
   "cell_type": "code",
   "execution_count": 37,
   "id": "0863685e-63d2-4202-a836-d082ad368b7f",
   "metadata": {
    "tags": []
   },
   "outputs": [
    {
     "data": {
      "text/plain": [
       "(3243, 21)"
      ]
     },
     "execution_count": 37,
     "metadata": {},
     "output_type": "execute_result"
    }
   ],
   "source": [
    "BCDnewstack.shape"
   ]
  },
  {
   "cell_type": "code",
   "execution_count": 38,
   "id": "78a8ac39-8620-454d-b8cd-11788978ff67",
   "metadata": {
    "tags": []
   },
   "outputs": [],
   "source": [
    "column_cleanup = ['AccountCorrection', 'FundCorrection', 'DeptidCorrection', 'COA']"
   ]
  },
  {
   "cell_type": "code",
   "execution_count": 39,
   "id": "aa0f80a5-fbfc-4524-83fe-b65d81613622",
   "metadata": {
    "tags": []
   },
   "outputs": [],
   "source": [
    "BCDnewstack.drop(column_cleanup, axis=1, inplace=True)"
   ]
  },
  {
   "cell_type": "code",
   "execution_count": 40,
   "id": "4b34e39c-38e2-44a4-984b-b05c088d9085",
   "metadata": {
    "tags": []
   },
   "outputs": [
    {
     "data": {
      "text/plain": [
       "(3243, 17)"
      ]
     },
     "execution_count": 40,
     "metadata": {},
     "output_type": "execute_result"
    }
   ],
   "source": [
    "BCDnewstack.shape"
   ]
  },
  {
   "cell_type": "code",
   "execution_count": 41,
   "id": "a45deaf7-c037-471a-a47e-15e7f05433f1",
   "metadata": {
    "collapsed": true,
    "jupyter": {
     "outputs_hidden": true
    },
    "tags": []
   },
   "outputs": [
    {
     "data": {
      "text/plain": [
       "Origin                   object\n",
       "Voucher ID                int64\n",
       "Vendor Name              object\n",
       "Invoice Date             object\n",
       "Invoice ID (or DBID)     object\n",
       "Payment Date             object\n",
       "Invoice Amt             float64\n",
       "Line Description         object\n",
       "Paid Gross Amount       float64\n",
       "Account                  object\n",
       "Fund                     object\n",
       "Deptid                   object\n",
       "ChartField 1            float64\n",
       "ChartField 2            float64\n",
       "Payment Method           object\n",
       "Account Descr            object\n",
       "Amount                  float64\n",
       "dtype: object"
      ]
     },
     "execution_count": 41,
     "metadata": {},
     "output_type": "execute_result"
    }
   ],
   "source": [
    "BCDnewstack.dtypes"
   ]
  },
  {
   "cell_type": "markdown",
   "id": "2e6cce99-c063-42e6-a6da-22febf065c7a",
   "metadata": {},
   "source": [
    "**Made sure all columns in both dataframes have matching datatypes before stacking**"
   ]
  },
  {
   "cell_type": "code",
   "execution_count": 42,
   "id": "883e5942-54cd-4ded-ade8-be5a44f70ab9",
   "metadata": {
    "tags": []
   },
   "outputs": [],
   "source": [
    "BCDnewstack['Account'] = BCDnewstack['Account'].astype(int)"
   ]
  },
  {
   "cell_type": "code",
   "execution_count": 43,
   "id": "41be6d97-e2ec-4a47-abf6-7848604faffb",
   "metadata": {
    "tags": []
   },
   "outputs": [],
   "source": [
    "BCDnewstack['Fund'] = BCDnewstack['Fund'].astype(int)"
   ]
  },
  {
   "cell_type": "code",
   "execution_count": 44,
   "id": "340b5708-13dc-4631-b135-b174544aa386",
   "metadata": {
    "tags": []
   },
   "outputs": [],
   "source": [
    "BCDnewstack['Deptid'] = BCDnewstack['Deptid'].astype(int)"
   ]
  },
  {
   "cell_type": "code",
   "execution_count": 45,
   "id": "5fd9285d-5691-4582-981b-3adc9e71b41e",
   "metadata": {
    "collapsed": true,
    "jupyter": {
     "outputs_hidden": true
    },
    "tags": []
   },
   "outputs": [
    {
     "data": {
      "text/html": [
       "<div>\n",
       "<style scoped>\n",
       "    .dataframe tbody tr th:only-of-type {\n",
       "        vertical-align: middle;\n",
       "    }\n",
       "\n",
       "    .dataframe tbody tr th {\n",
       "        vertical-align: top;\n",
       "    }\n",
       "\n",
       "    .dataframe thead th {\n",
       "        text-align: right;\n",
       "    }\n",
       "</style>\n",
       "<table border=\"1\" class=\"dataframe\">\n",
       "  <thead>\n",
       "    <tr style=\"text-align: right;\">\n",
       "      <th></th>\n",
       "      <th>Origin</th>\n",
       "      <th>Voucher ID</th>\n",
       "      <th>Vendor Name</th>\n",
       "      <th>Invoice Date</th>\n",
       "      <th>Invoice ID (or DBID)</th>\n",
       "      <th>Payment Date</th>\n",
       "      <th>Invoice Amt</th>\n",
       "      <th>Line Description</th>\n",
       "      <th>Paid Gross Amount</th>\n",
       "      <th>Account</th>\n",
       "      <th>Fund</th>\n",
       "      <th>Deptid</th>\n",
       "      <th>ChartField 1</th>\n",
       "      <th>ChartField 2</th>\n",
       "      <th>Payment Method</th>\n",
       "      <th>Account Descr</th>\n",
       "      <th>Amount</th>\n",
       "    </tr>\n",
       "  </thead>\n",
       "  <tbody>\n",
       "    <tr>\n",
       "      <th>0</th>\n",
       "      <td>TRV</td>\n",
       "      <td>13649777</td>\n",
       "      <td>US BANK BCD TRAVEL</td>\n",
       "      <td>2/23/23</td>\n",
       "      <td>ABDE094372</td>\n",
       "      <td>3/7/23</td>\n",
       "      <td>462.67</td>\n",
       "      <td>No Description</td>\n",
       "      <td>462.67</td>\n",
       "      <td>57212</td>\n",
       "      <td>20225</td>\n",
       "      <td>11981</td>\n",
       "      <td>NaN</td>\n",
       "      <td>NaN</td>\n",
       "      <td>EFT</td>\n",
       "      <td>Travel DB US Bank Clearing</td>\n",
       "      <td>462.67</td>\n",
       "    </tr>\n",
       "    <tr>\n",
       "      <th>1</th>\n",
       "      <td>TRV</td>\n",
       "      <td>13649802</td>\n",
       "      <td>US BANK BCD TRAVEL</td>\n",
       "      <td>2/23/23</td>\n",
       "      <td>ABDE094372</td>\n",
       "      <td>3/7/23</td>\n",
       "      <td>9.75</td>\n",
       "      <td>No Description</td>\n",
       "      <td>9.75</td>\n",
       "      <td>57212</td>\n",
       "      <td>20225</td>\n",
       "      <td>11981</td>\n",
       "      <td>NaN</td>\n",
       "      <td>NaN</td>\n",
       "      <td>EFT</td>\n",
       "      <td>Travel DB US Bank Clearing</td>\n",
       "      <td>9.75</td>\n",
       "    </tr>\n",
       "    <tr>\n",
       "      <th>2</th>\n",
       "      <td>TRV</td>\n",
       "      <td>13659510</td>\n",
       "      <td>US BANK BCD TRAVEL</td>\n",
       "      <td>3/17/23</td>\n",
       "      <td>ACRE095756</td>\n",
       "      <td>4/4/23</td>\n",
       "      <td>775.12</td>\n",
       "      <td>No Description</td>\n",
       "      <td>775.12</td>\n",
       "      <td>57211</td>\n",
       "      <td>96576</td>\n",
       "      <td>31178</td>\n",
       "      <td>NaN</td>\n",
       "      <td>NaN</td>\n",
       "      <td>EFT</td>\n",
       "      <td>Travel DB US Bank Clearing</td>\n",
       "      <td>775.12</td>\n",
       "    </tr>\n",
       "    <tr>\n",
       "      <th>3</th>\n",
       "      <td>TRV</td>\n",
       "      <td>13659522</td>\n",
       "      <td>US BANK BCD TRAVEL</td>\n",
       "      <td>3/17/23</td>\n",
       "      <td>ACRE095756</td>\n",
       "      <td>4/4/23</td>\n",
       "      <td>9.75</td>\n",
       "      <td>No Description</td>\n",
       "      <td>9.75</td>\n",
       "      <td>57211</td>\n",
       "      <td>96576</td>\n",
       "      <td>31178</td>\n",
       "      <td>NaN</td>\n",
       "      <td>NaN</td>\n",
       "      <td>EFT</td>\n",
       "      <td>Travel DB US Bank Clearing</td>\n",
       "      <td>9.75</td>\n",
       "    </tr>\n",
       "    <tr>\n",
       "      <th>4</th>\n",
       "      <td>TRV</td>\n",
       "      <td>13701980</td>\n",
       "      <td>US BANK BCD TRAVEL</td>\n",
       "      <td>9/5/23</td>\n",
       "      <td>ADEL101812</td>\n",
       "      <td>9/12/23</td>\n",
       "      <td>298.97</td>\n",
       "      <td>No Description</td>\n",
       "      <td>298.97</td>\n",
       "      <td>57211</td>\n",
       "      <td>70450</td>\n",
       "      <td>23398</td>\n",
       "      <td>NaN</td>\n",
       "      <td>NaN</td>\n",
       "      <td>EFT</td>\n",
       "      <td>Travel DB US Bank Clearing</td>\n",
       "      <td>298.97</td>\n",
       "    </tr>\n",
       "  </tbody>\n",
       "</table>\n",
       "</div>"
      ],
      "text/plain": [
       "  Origin  Voucher ID         Vendor Name Invoice Date Invoice ID (or DBID)  \\\n",
       "0    TRV    13649777  US BANK BCD TRAVEL      2/23/23           ABDE094372   \n",
       "1    TRV    13649802  US BANK BCD TRAVEL      2/23/23           ABDE094372   \n",
       "2    TRV    13659510  US BANK BCD TRAVEL      3/17/23           ACRE095756   \n",
       "3    TRV    13659522  US BANK BCD TRAVEL      3/17/23           ACRE095756   \n",
       "4    TRV    13701980  US BANK BCD TRAVEL       9/5/23           ADEL101812   \n",
       "\n",
       "  Payment Date  Invoice Amt Line Description  Paid Gross Amount  Account  \\\n",
       "0       3/7/23       462.67   No Description             462.67    57212   \n",
       "1       3/7/23         9.75   No Description               9.75    57212   \n",
       "2       4/4/23       775.12   No Description             775.12    57211   \n",
       "3       4/4/23         9.75   No Description               9.75    57211   \n",
       "4      9/12/23       298.97   No Description             298.97    57211   \n",
       "\n",
       "    Fund  Deptid  ChartField 1  ChartField 2 Payment Method  \\\n",
       "0  20225   11981           NaN           NaN            EFT   \n",
       "1  20225   11981           NaN           NaN            EFT   \n",
       "2  96576   31178           NaN           NaN            EFT   \n",
       "3  96576   31178           NaN           NaN            EFT   \n",
       "4  70450   23398           NaN           NaN            EFT   \n",
       "\n",
       "                Account Descr  Amount  \n",
       "0  Travel DB US Bank Clearing  462.67  \n",
       "1  Travel DB US Bank Clearing    9.75  \n",
       "2  Travel DB US Bank Clearing  775.12  \n",
       "3  Travel DB US Bank Clearing    9.75  \n",
       "4  Travel DB US Bank Clearing  298.97  "
      ]
     },
     "execution_count": 45,
     "metadata": {},
     "output_type": "execute_result"
    }
   ],
   "source": [
    "BCDnewstack.head(5)"
   ]
  },
  {
   "cell_type": "code",
   "execution_count": 46,
   "id": "2488a41e-c0f9-4bc1-9f0d-6443ce933906",
   "metadata": {
    "collapsed": true,
    "jupyter": {
     "outputs_hidden": true
    },
    "tags": []
   },
   "outputs": [
    {
     "data": {
      "text/plain": [
       "Origin                   object\n",
       "Voucher ID                int64\n",
       "Vendor Name              object\n",
       "Invoice Date             object\n",
       "Invoice ID (or DBID)     object\n",
       "Payment Date             object\n",
       "Invoice Amt             float64\n",
       "Line Description         object\n",
       "Paid Gross Amount       float64\n",
       "Account                   int64\n",
       "Fund                      int64\n",
       "Deptid                    int64\n",
       "ChartField 1            float64\n",
       "ChartField 2            float64\n",
       "Payment Method           object\n",
       "Account Descr            object\n",
       "Amount                  float64\n",
       "dtype: object"
      ]
     },
     "execution_count": 46,
     "metadata": {},
     "output_type": "execute_result"
    }
   ],
   "source": [
    "BCDnewstack.dtypes"
   ]
  },
  {
   "cell_type": "markdown",
   "id": "e5d705a3-c4eb-4c54-943c-cdc03132fe67",
   "metadata": {},
   "source": [
    "**Subtracted airfare fees from new dataset and removed negative amounts**"
   ]
  },
  {
   "cell_type": "code",
   "execution_count": 47,
   "id": "21388c1c-590e-4f1c-b577-e7f6db7ab8f3",
   "metadata": {
    "tags": []
   },
   "outputs": [],
   "source": [
    "AirFareFees = [9.75, 34.00]\n",
    "BCDnewstack[BCDnewstack.Amount.isin(AirFareFees) == False]\n",
    "BCDnewstackminusAirFareFees = BCDnewstack[BCDnewstack.Amount.isin(AirFareFees) == False]\n",
    "BCDnewstackFlights = BCDnewstackminusAirFareFees[BCDnewstackminusAirFareFees['Amount'] > 0]"
   ]
  },
  {
   "cell_type": "code",
   "execution_count": 48,
   "id": "1baa7cd1-e642-4c2b-9aa3-98c859be1c4f",
   "metadata": {
    "tags": []
   },
   "outputs": [
    {
     "data": {
      "text/plain": [
       "(1644, 17)"
      ]
     },
     "execution_count": 48,
     "metadata": {},
     "output_type": "execute_result"
    }
   ],
   "source": [
    "BCDnewstackFlights.shape"
   ]
  },
  {
   "cell_type": "code",
   "execution_count": 49,
   "id": "2a056e37-42a9-4b3b-9b48-dbf9d2d6fcec",
   "metadata": {
    "tags": []
   },
   "outputs": [
    {
     "data": {
      "text/plain": [
       "1270"
      ]
     },
     "execution_count": 49,
     "metadata": {},
     "output_type": "execute_result"
    }
   ],
   "source": [
    "BCDnewstackFlights['Invoice ID (or DBID)'].nunique()"
   ]
  },
  {
   "cell_type": "code",
   "execution_count": 50,
   "id": "5a2ccb1f-685f-4e57-9030-479233184d64",
   "metadata": {
    "collapsed": true,
    "jupyter": {
     "outputs_hidden": true
    },
    "tags": []
   },
   "outputs": [
    {
     "data": {
      "text/plain": [
       "Origin                   object\n",
       "Voucher ID                int64\n",
       "Vendor Name              object\n",
       "Invoice Date             object\n",
       "Invoice ID (or DBID)     object\n",
       "Payment Date             object\n",
       "Invoice Amt             float64\n",
       "Line Description         object\n",
       "Paid Gross Amount       float64\n",
       "Account                   int64\n",
       "Fund                      int64\n",
       "Deptid                    int64\n",
       "ChartField 1            float64\n",
       "ChartField 2            float64\n",
       "Payment Method           object\n",
       "Account Descr            object\n",
       "Amount                  float64\n",
       "dtype: object"
      ]
     },
     "execution_count": 50,
     "metadata": {},
     "output_type": "execute_result"
    }
   ],
   "source": [
    "BCDnewstackFlights.dtypes"
   ]
  },
  {
   "cell_type": "markdown",
   "id": "97850e56-7e46-482b-94af-29f09325b082",
   "metadata": {},
   "source": [
    "**These column datatypes were causing problems, we don't need them so i removed them**"
   ]
  },
  {
   "cell_type": "code",
   "execution_count": 51,
   "id": "6c29e4a8-ebfe-415e-97fd-f0ddd86e31b6",
   "metadata": {
    "tags": []
   },
   "outputs": [],
   "source": [
    "drop_chartfields = ['ChartField 1', 'ChartField 2']"
   ]
  },
  {
   "cell_type": "code",
   "execution_count": 52,
   "id": "e93d8430-4faa-407e-960f-ce0530f35a8a",
   "metadata": {
    "tags": []
   },
   "outputs": [],
   "source": [
    "BCDFlights2023.drop(drop_chartfields, axis=1, inplace=True)"
   ]
  },
  {
   "cell_type": "code",
   "execution_count": 55,
   "id": "497e5c29-b520-42d3-a85a-665743c7fe05",
   "metadata": {
    "collapsed": true,
    "jupyter": {
     "outputs_hidden": true
    },
    "tags": []
   },
   "outputs": [
    {
     "ename": "KeyError",
     "evalue": "\"['ChartField 1', 'ChartField 2'] not found in axis\"",
     "output_type": "error",
     "traceback": [
      "\u001b[0;31m---------------------------------------------------------------------------\u001b[0m",
      "\u001b[0;31mKeyError\u001b[0m                                  Traceback (most recent call last)",
      "Cell \u001b[0;32mIn[55], line 1\u001b[0m\n\u001b[0;32m----> 1\u001b[0m BCDnewstackFlights\u001b[38;5;241m.\u001b[39mdrop(drop_chartfields, axis\u001b[38;5;241m=\u001b[39m\u001b[38;5;241m1\u001b[39m, inplace\u001b[38;5;241m=\u001b[39m\u001b[38;5;28;01mTrue\u001b[39;00m)\n",
      "File \u001b[0;32m~/anaconda3/lib/python3.11/site-packages/pandas/core/frame.py:5258\u001b[0m, in \u001b[0;36mDataFrame.drop\u001b[0;34m(self, labels, axis, index, columns, level, inplace, errors)\u001b[0m\n\u001b[1;32m   5110\u001b[0m \u001b[38;5;28;01mdef\u001b[39;00m \u001b[38;5;21mdrop\u001b[39m(\n\u001b[1;32m   5111\u001b[0m     \u001b[38;5;28mself\u001b[39m,\n\u001b[1;32m   5112\u001b[0m     labels: IndexLabel \u001b[38;5;241m=\u001b[39m \u001b[38;5;28;01mNone\u001b[39;00m,\n\u001b[0;32m   (...)\u001b[0m\n\u001b[1;32m   5119\u001b[0m     errors: IgnoreRaise \u001b[38;5;241m=\u001b[39m \u001b[38;5;124m\"\u001b[39m\u001b[38;5;124mraise\u001b[39m\u001b[38;5;124m\"\u001b[39m,\n\u001b[1;32m   5120\u001b[0m ) \u001b[38;5;241m-\u001b[39m\u001b[38;5;241m>\u001b[39m DataFrame \u001b[38;5;241m|\u001b[39m \u001b[38;5;28;01mNone\u001b[39;00m:\n\u001b[1;32m   5121\u001b[0m \u001b[38;5;250m    \u001b[39m\u001b[38;5;124;03m\"\"\"\u001b[39;00m\n\u001b[1;32m   5122\u001b[0m \u001b[38;5;124;03m    Drop specified labels from rows or columns.\u001b[39;00m\n\u001b[1;32m   5123\u001b[0m \n\u001b[0;32m   (...)\u001b[0m\n\u001b[1;32m   5256\u001b[0m \u001b[38;5;124;03m            weight  1.0     0.8\u001b[39;00m\n\u001b[1;32m   5257\u001b[0m \u001b[38;5;124;03m    \"\"\"\u001b[39;00m\n\u001b[0;32m-> 5258\u001b[0m     \u001b[38;5;28;01mreturn\u001b[39;00m \u001b[38;5;28msuper\u001b[39m()\u001b[38;5;241m.\u001b[39mdrop(\n\u001b[1;32m   5259\u001b[0m         labels\u001b[38;5;241m=\u001b[39mlabels,\n\u001b[1;32m   5260\u001b[0m         axis\u001b[38;5;241m=\u001b[39maxis,\n\u001b[1;32m   5261\u001b[0m         index\u001b[38;5;241m=\u001b[39mindex,\n\u001b[1;32m   5262\u001b[0m         columns\u001b[38;5;241m=\u001b[39mcolumns,\n\u001b[1;32m   5263\u001b[0m         level\u001b[38;5;241m=\u001b[39mlevel,\n\u001b[1;32m   5264\u001b[0m         inplace\u001b[38;5;241m=\u001b[39minplace,\n\u001b[1;32m   5265\u001b[0m         errors\u001b[38;5;241m=\u001b[39merrors,\n\u001b[1;32m   5266\u001b[0m     )\n",
      "File \u001b[0;32m~/anaconda3/lib/python3.11/site-packages/pandas/core/generic.py:4549\u001b[0m, in \u001b[0;36mNDFrame.drop\u001b[0;34m(self, labels, axis, index, columns, level, inplace, errors)\u001b[0m\n\u001b[1;32m   4547\u001b[0m \u001b[38;5;28;01mfor\u001b[39;00m axis, labels \u001b[38;5;129;01min\u001b[39;00m axes\u001b[38;5;241m.\u001b[39mitems():\n\u001b[1;32m   4548\u001b[0m     \u001b[38;5;28;01mif\u001b[39;00m labels \u001b[38;5;129;01mis\u001b[39;00m \u001b[38;5;129;01mnot\u001b[39;00m \u001b[38;5;28;01mNone\u001b[39;00m:\n\u001b[0;32m-> 4549\u001b[0m         obj \u001b[38;5;241m=\u001b[39m obj\u001b[38;5;241m.\u001b[39m_drop_axis(labels, axis, level\u001b[38;5;241m=\u001b[39mlevel, errors\u001b[38;5;241m=\u001b[39merrors)\n\u001b[1;32m   4551\u001b[0m \u001b[38;5;28;01mif\u001b[39;00m inplace:\n\u001b[1;32m   4552\u001b[0m     \u001b[38;5;28mself\u001b[39m\u001b[38;5;241m.\u001b[39m_update_inplace(obj)\n",
      "File \u001b[0;32m~/anaconda3/lib/python3.11/site-packages/pandas/core/generic.py:4591\u001b[0m, in \u001b[0;36mNDFrame._drop_axis\u001b[0;34m(self, labels, axis, level, errors, only_slice)\u001b[0m\n\u001b[1;32m   4589\u001b[0m         new_axis \u001b[38;5;241m=\u001b[39m axis\u001b[38;5;241m.\u001b[39mdrop(labels, level\u001b[38;5;241m=\u001b[39mlevel, errors\u001b[38;5;241m=\u001b[39merrors)\n\u001b[1;32m   4590\u001b[0m     \u001b[38;5;28;01melse\u001b[39;00m:\n\u001b[0;32m-> 4591\u001b[0m         new_axis \u001b[38;5;241m=\u001b[39m axis\u001b[38;5;241m.\u001b[39mdrop(labels, errors\u001b[38;5;241m=\u001b[39merrors)\n\u001b[1;32m   4592\u001b[0m     indexer \u001b[38;5;241m=\u001b[39m axis\u001b[38;5;241m.\u001b[39mget_indexer(new_axis)\n\u001b[1;32m   4594\u001b[0m \u001b[38;5;66;03m# Case for non-unique axis\u001b[39;00m\n\u001b[1;32m   4595\u001b[0m \u001b[38;5;28;01melse\u001b[39;00m:\n",
      "File \u001b[0;32m~/anaconda3/lib/python3.11/site-packages/pandas/core/indexes/base.py:6699\u001b[0m, in \u001b[0;36mIndex.drop\u001b[0;34m(self, labels, errors)\u001b[0m\n\u001b[1;32m   6697\u001b[0m \u001b[38;5;28;01mif\u001b[39;00m mask\u001b[38;5;241m.\u001b[39many():\n\u001b[1;32m   6698\u001b[0m     \u001b[38;5;28;01mif\u001b[39;00m errors \u001b[38;5;241m!=\u001b[39m \u001b[38;5;124m\"\u001b[39m\u001b[38;5;124mignore\u001b[39m\u001b[38;5;124m\"\u001b[39m:\n\u001b[0;32m-> 6699\u001b[0m         \u001b[38;5;28;01mraise\u001b[39;00m \u001b[38;5;167;01mKeyError\u001b[39;00m(\u001b[38;5;124mf\u001b[39m\u001b[38;5;124m\"\u001b[39m\u001b[38;5;132;01m{\u001b[39;00m\u001b[38;5;28mlist\u001b[39m(labels[mask])\u001b[38;5;132;01m}\u001b[39;00m\u001b[38;5;124m not found in axis\u001b[39m\u001b[38;5;124m\"\u001b[39m)\n\u001b[1;32m   6700\u001b[0m     indexer \u001b[38;5;241m=\u001b[39m indexer[\u001b[38;5;241m~\u001b[39mmask]\n\u001b[1;32m   6701\u001b[0m \u001b[38;5;28;01mreturn\u001b[39;00m \u001b[38;5;28mself\u001b[39m\u001b[38;5;241m.\u001b[39mdelete(indexer)\n",
      "\u001b[0;31mKeyError\u001b[0m: \"['ChartField 1', 'ChartField 2'] not found in axis\""
     ]
    }
   ],
   "source": [
    "BCDnewstackFlights.drop(drop_chartfields, axis=1, inplace=True)"
   ]
  },
  {
   "cell_type": "code",
   "execution_count": 57,
   "id": "afe83b7b-7d70-4587-9c87-7fc3759f5e02",
   "metadata": {
    "tags": []
   },
   "outputs": [
    {
     "data": {
      "text/plain": [
       "(1644, 15)"
      ]
     },
     "execution_count": 57,
     "metadata": {},
     "output_type": "execute_result"
    }
   ],
   "source": [
    "BCDnewstackFlights.shape"
   ]
  },
  {
   "cell_type": "code",
   "execution_count": 58,
   "id": "ed4f1d25-5415-4227-bc23-0526ae5ba736",
   "metadata": {
    "tags": []
   },
   "outputs": [
    {
     "data": {
      "text/plain": [
       "(304, 15)"
      ]
     },
     "execution_count": 58,
     "metadata": {},
     "output_type": "execute_result"
    }
   ],
   "source": [
    "BCDFlights2023.shape"
   ]
  },
  {
   "cell_type": "markdown",
   "id": "364838c6-ed77-4427-b4e0-ca6d6a6ef24b",
   "metadata": {},
   "source": [
    "**Combine new data with original data - no duplicates**"
   ]
  },
  {
   "cell_type": "code",
   "execution_count": 59,
   "id": "c8faad68-cb98-4dc0-b7e9-091de66f5dcc",
   "metadata": {
    "tags": []
   },
   "outputs": [],
   "source": [
    "BCDFlights2023 = pd.concat([BCDFlights2023, BCDnewstackFlights], ignore_index=True)"
   ]
  },
  {
   "cell_type": "code",
   "execution_count": 60,
   "id": "24e2a023-6137-4f6a-af09-b423c29fd494",
   "metadata": {
    "tags": []
   },
   "outputs": [
    {
     "data": {
      "text/plain": [
       "(1948, 15)"
      ]
     },
     "execution_count": 60,
     "metadata": {},
     "output_type": "execute_result"
    }
   ],
   "source": [
    "BCDFlights2023.shape"
   ]
  },
  {
   "cell_type": "code",
   "execution_count": 61,
   "id": "45e3f014-da07-4b86-8b82-d58e8d816797",
   "metadata": {
    "collapsed": true,
    "jupyter": {
     "outputs_hidden": true
    },
    "tags": []
   },
   "outputs": [
    {
     "data": {
      "text/html": [
       "<div>\n",
       "<style scoped>\n",
       "    .dataframe tbody tr th:only-of-type {\n",
       "        vertical-align: middle;\n",
       "    }\n",
       "\n",
       "    .dataframe tbody tr th {\n",
       "        vertical-align: top;\n",
       "    }\n",
       "\n",
       "    .dataframe thead th {\n",
       "        text-align: right;\n",
       "    }\n",
       "</style>\n",
       "<table border=\"1\" class=\"dataframe\">\n",
       "  <thead>\n",
       "    <tr style=\"text-align: right;\">\n",
       "      <th></th>\n",
       "      <th>Origin</th>\n",
       "      <th>Voucher ID</th>\n",
       "      <th>Vendor Name</th>\n",
       "      <th>Invoice Date</th>\n",
       "      <th>Invoice ID (or DBID)</th>\n",
       "      <th>Payment Date</th>\n",
       "      <th>Invoice Amt</th>\n",
       "      <th>Line Description</th>\n",
       "      <th>Paid Gross Amount</th>\n",
       "      <th>Account</th>\n",
       "      <th>Fund</th>\n",
       "      <th>Deptid</th>\n",
       "      <th>Payment Method</th>\n",
       "      <th>Account Descr</th>\n",
       "      <th>Amount</th>\n",
       "    </tr>\n",
       "  </thead>\n",
       "  <tbody>\n",
       "    <tr>\n",
       "      <th>0</th>\n",
       "      <td>TRV</td>\n",
       "      <td>13634928</td>\n",
       "      <td>US BANK BCD TRAVEL</td>\n",
       "      <td>1/5/23</td>\n",
       "      <td>5801111229</td>\n",
       "      <td>1/19/23</td>\n",
       "      <td>92.83</td>\n",
       "      <td>ADEL092834 SFO-TUS-SFO</td>\n",
       "      <td>92.83</td>\n",
       "      <td>57212</td>\n",
       "      <td>70450</td>\n",
       "      <td>750</td>\n",
       "      <td>EFT</td>\n",
       "      <td>Out-of-State Travel - Air Fare</td>\n",
       "      <td>92.83</td>\n",
       "    </tr>\n",
       "    <tr>\n",
       "      <th>1</th>\n",
       "      <td>TRV</td>\n",
       "      <td>13634666</td>\n",
       "      <td>US BANK BCD TRAVEL</td>\n",
       "      <td>1/5/23</td>\n",
       "      <td>DAVA093010</td>\n",
       "      <td>1/18/23</td>\n",
       "      <td>400.46</td>\n",
       "      <td>GOOD092760 JFK-SFO-DFW-CUN</td>\n",
       "      <td>400.46</td>\n",
       "      <td>57212</td>\n",
       "      <td>19942</td>\n",
       "      <td>17819</td>\n",
       "      <td>EFT</td>\n",
       "      <td>Out-of-State Travel - Air Fare</td>\n",
       "      <td>400.46</td>\n",
       "    </tr>\n",
       "    <tr>\n",
       "      <th>2</th>\n",
       "      <td>TRV</td>\n",
       "      <td>13634670</td>\n",
       "      <td>US BANK BCD TRAVEL</td>\n",
       "      <td>1/5/23</td>\n",
       "      <td>QUES093019</td>\n",
       "      <td>1/18/23</td>\n",
       "      <td>848.80</td>\n",
       "      <td>MOHA092852 SFO-DCA-SFO</td>\n",
       "      <td>848.80</td>\n",
       "      <td>57212</td>\n",
       "      <td>19942</td>\n",
       "      <td>10935</td>\n",
       "      <td>EFT</td>\n",
       "      <td>Out-of-State Travel - Air Fare</td>\n",
       "      <td>848.80</td>\n",
       "    </tr>\n",
       "    <tr>\n",
       "      <th>3</th>\n",
       "      <td>TRV</td>\n",
       "      <td>13634680</td>\n",
       "      <td>US BANK BCD TRAVEL</td>\n",
       "      <td>1/5/23</td>\n",
       "      <td>AGUI092999</td>\n",
       "      <td>1/18/23</td>\n",
       "      <td>632.45</td>\n",
       "      <td>PINK092828 LHR-SFO-LHR</td>\n",
       "      <td>632.45</td>\n",
       "      <td>57221</td>\n",
       "      <td>44262</td>\n",
       "      <td>13250</td>\n",
       "      <td>EFT</td>\n",
       "      <td>Foreign Travel - Air Fare</td>\n",
       "      <td>632.45</td>\n",
       "    </tr>\n",
       "    <tr>\n",
       "      <th>4</th>\n",
       "      <td>TRV</td>\n",
       "      <td>13634658</td>\n",
       "      <td>US BANK BCD TRAVEL</td>\n",
       "      <td>1/6/23</td>\n",
       "      <td>RAY0093058</td>\n",
       "      <td>1/18/23</td>\n",
       "      <td>2025.75</td>\n",
       "      <td>ANSE092838 LHR-SFO-LHR-XXX-XXX</td>\n",
       "      <td>2025.75</td>\n",
       "      <td>57221</td>\n",
       "      <td>37797</td>\n",
       "      <td>13121</td>\n",
       "      <td>EFT</td>\n",
       "      <td>Foreign Travel - Air Fare</td>\n",
       "      <td>2025.75</td>\n",
       "    </tr>\n",
       "  </tbody>\n",
       "</table>\n",
       "</div>"
      ],
      "text/plain": [
       "  Origin  Voucher ID         Vendor Name Invoice Date Invoice ID (or DBID)  \\\n",
       "0    TRV    13634928  US BANK BCD TRAVEL       1/5/23           5801111229   \n",
       "1    TRV    13634666  US BANK BCD TRAVEL       1/5/23           DAVA093010   \n",
       "2    TRV    13634670  US BANK BCD TRAVEL       1/5/23           QUES093019   \n",
       "3    TRV    13634680  US BANK BCD TRAVEL       1/5/23           AGUI092999   \n",
       "4    TRV    13634658  US BANK BCD TRAVEL       1/6/23           RAY0093058   \n",
       "\n",
       "  Payment Date  Invoice Amt                Line Description  \\\n",
       "0      1/19/23        92.83          ADEL092834 SFO-TUS-SFO   \n",
       "1      1/18/23       400.46      GOOD092760 JFK-SFO-DFW-CUN   \n",
       "2      1/18/23       848.80          MOHA092852 SFO-DCA-SFO   \n",
       "3      1/18/23       632.45          PINK092828 LHR-SFO-LHR   \n",
       "4      1/18/23      2025.75  ANSE092838 LHR-SFO-LHR-XXX-XXX   \n",
       "\n",
       "   Paid Gross Amount  Account   Fund  Deptid Payment Method  \\\n",
       "0              92.83    57212  70450     750            EFT   \n",
       "1             400.46    57212  19942   17819            EFT   \n",
       "2             848.80    57212  19942   10935            EFT   \n",
       "3             632.45    57221  44262   13250            EFT   \n",
       "4            2025.75    57221  37797   13121            EFT   \n",
       "\n",
       "                    Account Descr   Amount  \n",
       "0  Out-of-State Travel - Air Fare    92.83  \n",
       "1  Out-of-State Travel - Air Fare   400.46  \n",
       "2  Out-of-State Travel - Air Fare   848.80  \n",
       "3       Foreign Travel - Air Fare   632.45  \n",
       "4       Foreign Travel - Air Fare  2025.75  "
      ]
     },
     "execution_count": 61,
     "metadata": {},
     "output_type": "execute_result"
    }
   ],
   "source": [
    "BCDFlights2023.head(5)"
   ]
  },
  {
   "cell_type": "markdown",
   "id": "8af9625b-44e9-4500-8678-d7807c4984e8",
   "metadata": {},
   "source": [
    "**made sure all 57239 codes are removed (i.e., corrected)**"
   ]
  },
  {
   "cell_type": "code",
   "execution_count": 62,
   "id": "f18d47be-a56b-44f2-be65-34b9a406771e",
   "metadata": {
    "tags": []
   },
   "outputs": [
    {
     "data": {
      "text/plain": [
       "Account\n",
       "57211    897\n",
       "57212    712\n",
       "57221    262\n",
       "56715     55\n",
       "57232     13\n",
       "57213      4\n",
       "57222      3\n",
       "55030      1\n",
       "57214      1\n",
       "Name: count, dtype: int64"
      ]
     },
     "execution_count": 62,
     "metadata": {},
     "output_type": "execute_result"
    }
   ],
   "source": [
    "BCDFlights2023['Account'].value_counts()"
   ]
  },
  {
   "cell_type": "code",
   "execution_count": 63,
   "id": "761b3585-2975-41ec-aaa6-d66edaba4bc8",
   "metadata": {
    "tags": []
   },
   "outputs": [
    {
     "data": {
      "text/plain": [
       "(1948, 15)"
      ]
     },
     "execution_count": 63,
     "metadata": {},
     "output_type": "execute_result"
    }
   ],
   "source": [
    "BCDFlights2023.shape"
   ]
  },
  {
   "cell_type": "code",
   "execution_count": 64,
   "id": "4021a8b1-172a-411f-bb81-145b6e7266b9",
   "metadata": {},
   "outputs": [
    {
     "data": {
      "text/plain": [
       "1508"
      ]
     },
     "execution_count": 64,
     "metadata": {},
     "output_type": "execute_result"
    }
   ],
   "source": [
    "BCDFlights2023['Invoice ID (or DBID)'].nunique()"
   ]
  },
  {
   "cell_type": "markdown",
   "id": "7e8f051b-f0ae-461d-9c7f-fa43a4540528",
   "metadata": {},
   "source": [
    "**UCTC Flights**"
   ]
  },
  {
   "cell_type": "code",
   "execution_count": 36,
   "id": "9f2255b8-4860-44e4-aeb6-5ba75b4a2118",
   "metadata": {
    "tags": []
   },
   "outputs": [],
   "source": [
    "UCTC2023 = pd.read_csv('/Users/ashley/UCTC2023.csv')"
   ]
  },
  {
   "cell_type": "code",
   "execution_count": 37,
   "id": "07e6ec12-e07d-4f56-a4af-10d42777b020",
   "metadata": {},
   "outputs": [],
   "source": [
    "UCTC2023['Invoice ID (or DBID)'] = UCTC2023['Invoice ID (or DBID)'].map(lambda x: str(x)[:-2])"
   ]
  },
  {
   "cell_type": "code",
   "execution_count": 38,
   "id": "6adc28ba-efcc-4a83-82e5-13831ecc147a",
   "metadata": {
    "tags": []
   },
   "outputs": [],
   "source": [
    "AirFareFeesUCTC2023 = [10, 32]\n",
    "UCTC2023[UCTC2023.Amount.isin(AirFareFeesUCTC2023) == False]\n",
    "UCTC2023minusAirFareFees = UCTC2023[UCTC2023.Amount.isin(AirFareFeesUCTC2023) == False]\n",
    "UCTCFlights2023 = UCTC2023minusAirFareFees[UCTC2023minusAirFareFees['Amount'] > 0]"
   ]
  },
  {
   "cell_type": "code",
   "execution_count": 39,
   "id": "86b4d912-0909-4fa9-a316-2a3cc9ecd8ff",
   "metadata": {
    "tags": []
   },
   "outputs": [
    {
     "data": {
      "text/plain": [
       "(10013, 17)"
      ]
     },
     "execution_count": 39,
     "metadata": {},
     "output_type": "execute_result"
    }
   ],
   "source": [
    "UCTCFlights2023.shape"
   ]
  },
  {
   "cell_type": "code",
   "execution_count": 40,
   "id": "475fd7d5-f809-4fe7-8731-5b10176eab8c",
   "metadata": {
    "tags": []
   },
   "outputs": [
    {
     "data": {
      "text/plain": [
       "6578"
      ]
     },
     "execution_count": 40,
     "metadata": {},
     "output_type": "execute_result"
    }
   ],
   "source": [
    "UCTCFlights2023['Invoice ID (or DBID)'].nunique()"
   ]
  },
  {
   "cell_type": "code",
   "execution_count": 41,
   "id": "c76ab3b2-802b-412e-b6fb-2d0791285729",
   "metadata": {
    "tags": []
   },
   "outputs": [
    {
     "data": {
      "text/plain": [
       "Account\n",
       "57239    5168\n",
       "57212    2605\n",
       "57221    1260\n",
       "57211     910\n",
       "56715      70\n",
       "Name: count, dtype: int64"
      ]
     },
     "execution_count": 41,
     "metadata": {},
     "output_type": "execute_result"
    }
   ],
   "source": [
    "UCTCFlights2023['Account'].value_counts()"
   ]
  },
  {
   "cell_type": "code",
   "execution_count": 42,
   "id": "8cb13f1a-95b7-4fc5-81f0-1a4133338505",
   "metadata": {
    "tags": []
   },
   "outputs": [],
   "source": [
    "UCTCFlights2023 = UCTCFlights2023[UCTCFlights2023['Account'] != 57239]"
   ]
  },
  {
   "cell_type": "code",
   "execution_count": 43,
   "id": "aab8676c-3c39-4cf1-a234-ef3d4666454d",
   "metadata": {
    "tags": []
   },
   "outputs": [
    {
     "data": {
      "text/plain": [
       "(4845, 17)"
      ]
     },
     "execution_count": 43,
     "metadata": {},
     "output_type": "execute_result"
    }
   ],
   "source": [
    "UCTCFlights2023.shape"
   ]
  },
  {
   "cell_type": "code",
   "execution_count": 44,
   "id": "7d2db217-4001-4c72-ae6f-c18c6eb4bec6",
   "metadata": {
    "tags": []
   },
   "outputs": [
    {
     "data": {
      "text/plain": [
       "4031"
      ]
     },
     "execution_count": 44,
     "metadata": {},
     "output_type": "execute_result"
    }
   ],
   "source": [
    "UCTCFlights2023['Invoice ID (or DBID)'].nunique()"
   ]
  },
  {
   "cell_type": "code",
   "execution_count": 45,
   "id": "7b85f67a-dd7d-4b85-90ab-599d84991a1c",
   "metadata": {
    "tags": []
   },
   "outputs": [],
   "source": [
    "drop_chartfields = ['ChartField 1', 'ChartField 2']\n",
    "UCTCFlights2023.drop(drop_chartfields, axis=1, inplace=True)"
   ]
  },
  {
   "cell_type": "code",
   "execution_count": 46,
   "id": "52611e60-dc56-4f7d-bb49-5ab5ea561337",
   "metadata": {
    "tags": []
   },
   "outputs": [
    {
     "data": {
      "text/plain": [
       "(4845, 15)"
      ]
     },
     "execution_count": 46,
     "metadata": {},
     "output_type": "execute_result"
    }
   ],
   "source": [
    "UCTCFlights2023.shape"
   ]
  },
  {
   "cell_type": "code",
   "execution_count": 47,
   "id": "d8bac996-081a-4942-885a-7edef224afb9",
   "metadata": {
    "tags": []
   },
   "outputs": [
    {
     "data": {
      "text/plain": [
       "Origin                   object\n",
       "Voucher ID                int64\n",
       "Vendor Name              object\n",
       "Invoice Date             object\n",
       "Invoice ID (or DBID)     object\n",
       "Payment Date             object\n",
       "Invoice Amt             float64\n",
       "Line Description         object\n",
       "Paid Gross Amount       float64\n",
       "Account                   int64\n",
       "Fund                      int64\n",
       "Deptid                    int64\n",
       "Payment Method           object\n",
       "Account Descr            object\n",
       "Amount                  float64\n",
       "dtype: object"
      ]
     },
     "execution_count": 47,
     "metadata": {},
     "output_type": "execute_result"
    }
   ],
   "source": [
    "UCTCFlights2023.dtypes"
   ]
  },
  {
   "cell_type": "code",
   "execution_count": 48,
   "id": "94c1d9d6-2a92-42d9-ad01-6bea6948e4bf",
   "metadata": {
    "tags": []
   },
   "outputs": [],
   "source": [
    "UCTCnewstack = pd.read_csv('/Users/ashley/UCTC2023update.csv')"
   ]
  },
  {
   "cell_type": "code",
   "execution_count": 49,
   "id": "95fb1147-c6ff-446e-ac04-9fe9cac1994b",
   "metadata": {
    "tags": []
   },
   "outputs": [
    {
     "data": {
      "text/plain": [
       "(6738, 17)"
      ]
     },
     "execution_count": 49,
     "metadata": {},
     "output_type": "execute_result"
    }
   ],
   "source": [
    "UCTCnewstack.shape"
   ]
  },
  {
   "cell_type": "code",
   "execution_count": 50,
   "id": "6ff983d6-645a-45d9-9ee2-a1c98241e2ff",
   "metadata": {
    "tags": []
   },
   "outputs": [
    {
     "data": {
      "text/plain": [
       "Origin                      object\n",
       "Voucher ID                   int64\n",
       "Vendor Name                 object\n",
       "Invoice Date                object\n",
       "Invoice ID (or DBID)        object\n",
       "Payment Date                object\n",
       "Invoice Amt                float64\n",
       "Line Description            object\n",
       "Paid Gross Amount          float64\n",
       "Account                      int64\n",
       "Fund                         int64\n",
       "Deptid                       int64\n",
       "Payment Method              object\n",
       "Account Descr               object\n",
       "Amount                     float64\n",
       "DBIDS from Agency Files     object\n",
       "COA                         object\n",
       "dtype: object"
      ]
     },
     "execution_count": 50,
     "metadata": {},
     "output_type": "execute_result"
    }
   ],
   "source": [
    "UCTCnewstack.dtypes"
   ]
  },
  {
   "cell_type": "code",
   "execution_count": 51,
   "id": "02e454d6-503c-443a-a0ed-b481a7a260a3",
   "metadata": {
    "tags": []
   },
   "outputs": [],
   "source": [
    "UCTCnewstack.iloc[:, 4] = UCTCnewstack.iloc[:, -2]"
   ]
  },
  {
   "cell_type": "code",
   "execution_count": 193,
   "id": "3c4fff59-da19-4f7a-94ef-2db82246a1cc",
   "metadata": {
    "collapsed": true,
    "jupyter": {
     "outputs_hidden": true,
     "source_hidden": true
    },
    "tags": []
   },
   "outputs": [
    {
     "data": {
      "text/html": [
       "<div>\n",
       "<style scoped>\n",
       "    .dataframe tbody tr th:only-of-type {\n",
       "        vertical-align: middle;\n",
       "    }\n",
       "\n",
       "    .dataframe tbody tr th {\n",
       "        vertical-align: top;\n",
       "    }\n",
       "\n",
       "    .dataframe thead th {\n",
       "        text-align: right;\n",
       "    }\n",
       "</style>\n",
       "<table border=\"1\" class=\"dataframe\">\n",
       "  <thead>\n",
       "    <tr style=\"text-align: right;\">\n",
       "      <th></th>\n",
       "      <th>Origin</th>\n",
       "      <th>Voucher ID</th>\n",
       "      <th>Vendor Name</th>\n",
       "      <th>Invoice Date</th>\n",
       "      <th>Invoice ID (or DBID)</th>\n",
       "      <th>Payment Date</th>\n",
       "      <th>Invoice Amt</th>\n",
       "      <th>Line Description</th>\n",
       "      <th>Paid Gross Amount</th>\n",
       "      <th>Account</th>\n",
       "      <th>Fund</th>\n",
       "      <th>Deptid</th>\n",
       "      <th>Payment Method</th>\n",
       "      <th>Account Descr</th>\n",
       "      <th>Amount</th>\n",
       "      <th>DBIDS from Agency Files</th>\n",
       "      <th>COA</th>\n",
       "    </tr>\n",
       "  </thead>\n",
       "  <tbody>\n",
       "    <tr>\n",
       "      <th>0</th>\n",
       "      <td>TRV</td>\n",
       "      <td>13633064</td>\n",
       "      <td>US BANK UC TRAVEL CENTER</td>\n",
       "      <td>1/4/23</td>\n",
       "      <td>HOLL092723</td>\n",
       "      <td>1/12/23</td>\n",
       "      <td>10.0</td>\n",
       "      <td>No Description</td>\n",
       "      <td>10.0</td>\n",
       "      <td>57239</td>\n",
       "      <td>69995</td>\n",
       "      <td>750</td>\n",
       "      <td>EFT</td>\n",
       "      <td>Travel DB US Bank Clearing</td>\n",
       "      <td>10.0</td>\n",
       "      <td>HOLL092723</td>\n",
       "      <td>1-19780-01489-15240- -12788A-</td>\n",
       "    </tr>\n",
       "    <tr>\n",
       "      <th>1</th>\n",
       "      <td>TRV</td>\n",
       "      <td>13632810</td>\n",
       "      <td>US BANK UC TRAVEL CENTER</td>\n",
       "      <td>1/3/23</td>\n",
       "      <td>ORD0092614</td>\n",
       "      <td>1/11/23</td>\n",
       "      <td>32.0</td>\n",
       "      <td>No Description</td>\n",
       "      <td>32.0</td>\n",
       "      <td>57239</td>\n",
       "      <td>69995</td>\n",
       "      <td>750</td>\n",
       "      <td>EFT</td>\n",
       "      <td>Travel DB US Bank Clearing</td>\n",
       "      <td>32.0</td>\n",
       "      <td>ORD0092614</td>\n",
       "      <td>1-57211-19900-13600-40- -MESRC</td>\n",
       "    </tr>\n",
       "    <tr>\n",
       "      <th>2</th>\n",
       "      <td>TRV</td>\n",
       "      <td>13638550</td>\n",
       "      <td>US BANK UC TRAVEL CENTER</td>\n",
       "      <td>1/24/23</td>\n",
       "      <td>LIZA092305</td>\n",
       "      <td>2/1/23</td>\n",
       "      <td>32.0</td>\n",
       "      <td>No Description</td>\n",
       "      <td>32.0</td>\n",
       "      <td>57239</td>\n",
       "      <td>69995</td>\n",
       "      <td>750</td>\n",
       "      <td>EFT</td>\n",
       "      <td>Travel DB US Bank Clearing</td>\n",
       "      <td>32.0</td>\n",
       "      <td>LIZA092305</td>\n",
       "      <td>1-57211-19924-11389-68- -</td>\n",
       "    </tr>\n",
       "    <tr>\n",
       "      <th>3</th>\n",
       "      <td>TRV</td>\n",
       "      <td>13719076</td>\n",
       "      <td>US BANK UC TRAVEL CENTER</td>\n",
       "      <td>10/30/23</td>\n",
       "      <td>JOHN090657</td>\n",
       "      <td>11/7/23</td>\n",
       "      <td>10.0</td>\n",
       "      <td>No Description</td>\n",
       "      <td>10.0</td>\n",
       "      <td>57239</td>\n",
       "      <td>69995</td>\n",
       "      <td>750</td>\n",
       "      <td>EFT</td>\n",
       "      <td>Travel DB US Bank Clearing</td>\n",
       "      <td>10.0</td>\n",
       "      <td>JOHN090657</td>\n",
       "      <td>1-57211-20136-31612-40-OMMKTG-OMBLM</td>\n",
       "    </tr>\n",
       "    <tr>\n",
       "      <th>4</th>\n",
       "      <td>TRV</td>\n",
       "      <td>13719082</td>\n",
       "      <td>US BANK UC TRAVEL CENTER</td>\n",
       "      <td>10/30/23</td>\n",
       "      <td>JOHN090657</td>\n",
       "      <td>11/7/23</td>\n",
       "      <td>10.0</td>\n",
       "      <td>No Description</td>\n",
       "      <td>10.0</td>\n",
       "      <td>57239</td>\n",
       "      <td>69995</td>\n",
       "      <td>750</td>\n",
       "      <td>EFT</td>\n",
       "      <td>Travel DB US Bank Clearing</td>\n",
       "      <td>10.0</td>\n",
       "      <td>JOHN090657</td>\n",
       "      <td>1-57211-20136-31612-40-OMMKTG-OMBLM</td>\n",
       "    </tr>\n",
       "  </tbody>\n",
       "</table>\n",
       "</div>"
      ],
      "text/plain": [
       "  Origin  Voucher ID               Vendor Name Invoice Date  \\\n",
       "0    TRV    13633064  US BANK UC TRAVEL CENTER       1/4/23   \n",
       "1    TRV    13632810  US BANK UC TRAVEL CENTER       1/3/23   \n",
       "2    TRV    13638550  US BANK UC TRAVEL CENTER      1/24/23   \n",
       "3    TRV    13719076  US BANK UC TRAVEL CENTER     10/30/23   \n",
       "4    TRV    13719082  US BANK UC TRAVEL CENTER     10/30/23   \n",
       "\n",
       "  Invoice ID (or DBID) Payment Date  Invoice Amt Line Description  \\\n",
       "0           HOLL092723      1/12/23         10.0   No Description   \n",
       "1           ORD0092614      1/11/23         32.0   No Description   \n",
       "2           LIZA092305       2/1/23         32.0   No Description   \n",
       "3           JOHN090657      11/7/23         10.0   No Description   \n",
       "4           JOHN090657      11/7/23         10.0   No Description   \n",
       "\n",
       "   Paid Gross Amount  Account   Fund  Deptid Payment Method  \\\n",
       "0               10.0    57239  69995     750            EFT   \n",
       "1               32.0    57239  69995     750            EFT   \n",
       "2               32.0    57239  69995     750            EFT   \n",
       "3               10.0    57239  69995     750            EFT   \n",
       "4               10.0    57239  69995     750            EFT   \n",
       "\n",
       "                Account Descr  Amount DBIDS from Agency Files  \\\n",
       "0  Travel DB US Bank Clearing    10.0              HOLL092723   \n",
       "1  Travel DB US Bank Clearing    32.0              ORD0092614   \n",
       "2  Travel DB US Bank Clearing    32.0              LIZA092305   \n",
       "3  Travel DB US Bank Clearing    10.0              JOHN090657   \n",
       "4  Travel DB US Bank Clearing    10.0              JOHN090657   \n",
       "\n",
       "                                   COA  \n",
       "0        1-19780-01489-15240- -12788A-  \n",
       "1       1-57211-19900-13600-40- -MESRC  \n",
       "2            1-57211-19924-11389-68- -  \n",
       "3  1-57211-20136-31612-40-OMMKTG-OMBLM  \n",
       "4  1-57211-20136-31612-40-OMMKTG-OMBLM  "
      ]
     },
     "execution_count": 193,
     "metadata": {},
     "output_type": "execute_result"
    }
   ],
   "source": [
    "UCTCnewstack.head(5)"
   ]
  },
  {
   "cell_type": "code",
   "execution_count": 52,
   "id": "d78c6843-a579-4d08-90a7-b65cc23b2488",
   "metadata": {
    "tags": []
   },
   "outputs": [],
   "source": [
    "UCTCnewstack.drop('DBIDS from Agency Files', axis=1, inplace=True)"
   ]
  },
  {
   "cell_type": "code",
   "execution_count": 53,
   "id": "71e65c07-69ff-4107-be84-81fa9b25003a",
   "metadata": {
    "tags": []
   },
   "outputs": [],
   "source": [
    "UCTCnewstack['COA'] = UCTCnewstack['COA'].str.split('-').str[:4]"
   ]
  },
  {
   "cell_type": "code",
   "execution_count": 54,
   "id": "07c66698-db9d-4816-a606-73f800345051",
   "metadata": {
    "tags": []
   },
   "outputs": [],
   "source": [
    "UCTCnewstack[['delete', 'AccountCorrection', 'FundCorrection', 'DeptidCorrection']] = pd.DataFrame(UCTCnewstack['COA'].tolist())"
   ]
  },
  {
   "cell_type": "code",
   "execution_count": 55,
   "id": "3ab1b555-1ee9-49ef-8496-c6285154c625",
   "metadata": {
    "tags": []
   },
   "outputs": [
    {
     "data": {
      "text/html": [
       "<div>\n",
       "<style scoped>\n",
       "    .dataframe tbody tr th:only-of-type {\n",
       "        vertical-align: middle;\n",
       "    }\n",
       "\n",
       "    .dataframe tbody tr th {\n",
       "        vertical-align: top;\n",
       "    }\n",
       "\n",
       "    .dataframe thead th {\n",
       "        text-align: right;\n",
       "    }\n",
       "</style>\n",
       "<table border=\"1\" class=\"dataframe\">\n",
       "  <thead>\n",
       "    <tr style=\"text-align: right;\">\n",
       "      <th></th>\n",
       "      <th>Origin</th>\n",
       "      <th>Voucher ID</th>\n",
       "      <th>Vendor Name</th>\n",
       "      <th>Invoice Date</th>\n",
       "      <th>Invoice ID (or DBID)</th>\n",
       "      <th>Payment Date</th>\n",
       "      <th>Invoice Amt</th>\n",
       "      <th>Line Description</th>\n",
       "      <th>Paid Gross Amount</th>\n",
       "      <th>Account</th>\n",
       "      <th>Fund</th>\n",
       "      <th>Deptid</th>\n",
       "      <th>Payment Method</th>\n",
       "      <th>Account Descr</th>\n",
       "      <th>Amount</th>\n",
       "      <th>COA</th>\n",
       "      <th>delete</th>\n",
       "      <th>AccountCorrection</th>\n",
       "      <th>FundCorrection</th>\n",
       "      <th>DeptidCorrection</th>\n",
       "    </tr>\n",
       "  </thead>\n",
       "  <tbody>\n",
       "    <tr>\n",
       "      <th>0</th>\n",
       "      <td>TRV</td>\n",
       "      <td>13633064</td>\n",
       "      <td>US BANK UC TRAVEL CENTER</td>\n",
       "      <td>1/4/23</td>\n",
       "      <td>HOLL092723</td>\n",
       "      <td>1/12/23</td>\n",
       "      <td>10.0</td>\n",
       "      <td>No Description</td>\n",
       "      <td>10.0</td>\n",
       "      <td>57239</td>\n",
       "      <td>69995</td>\n",
       "      <td>750</td>\n",
       "      <td>EFT</td>\n",
       "      <td>Travel DB US Bank Clearing</td>\n",
       "      <td>10.0</td>\n",
       "      <td>[1, 19780, 01489, 15240]</td>\n",
       "      <td>1</td>\n",
       "      <td>19780</td>\n",
       "      <td>01489</td>\n",
       "      <td>15240</td>\n",
       "    </tr>\n",
       "    <tr>\n",
       "      <th>1</th>\n",
       "      <td>TRV</td>\n",
       "      <td>13632810</td>\n",
       "      <td>US BANK UC TRAVEL CENTER</td>\n",
       "      <td>1/3/23</td>\n",
       "      <td>ORD0092614</td>\n",
       "      <td>1/11/23</td>\n",
       "      <td>32.0</td>\n",
       "      <td>No Description</td>\n",
       "      <td>32.0</td>\n",
       "      <td>57239</td>\n",
       "      <td>69995</td>\n",
       "      <td>750</td>\n",
       "      <td>EFT</td>\n",
       "      <td>Travel DB US Bank Clearing</td>\n",
       "      <td>32.0</td>\n",
       "      <td>[1, 57211, 19900, 13600]</td>\n",
       "      <td>1</td>\n",
       "      <td>57211</td>\n",
       "      <td>19900</td>\n",
       "      <td>13600</td>\n",
       "    </tr>\n",
       "    <tr>\n",
       "      <th>2</th>\n",
       "      <td>TRV</td>\n",
       "      <td>13638550</td>\n",
       "      <td>US BANK UC TRAVEL CENTER</td>\n",
       "      <td>1/24/23</td>\n",
       "      <td>LIZA092305</td>\n",
       "      <td>2/1/23</td>\n",
       "      <td>32.0</td>\n",
       "      <td>No Description</td>\n",
       "      <td>32.0</td>\n",
       "      <td>57239</td>\n",
       "      <td>69995</td>\n",
       "      <td>750</td>\n",
       "      <td>EFT</td>\n",
       "      <td>Travel DB US Bank Clearing</td>\n",
       "      <td>32.0</td>\n",
       "      <td>[1, 57211, 19924, 11389]</td>\n",
       "      <td>1</td>\n",
       "      <td>57211</td>\n",
       "      <td>19924</td>\n",
       "      <td>11389</td>\n",
       "    </tr>\n",
       "    <tr>\n",
       "      <th>3</th>\n",
       "      <td>TRV</td>\n",
       "      <td>13719076</td>\n",
       "      <td>US BANK UC TRAVEL CENTER</td>\n",
       "      <td>10/30/23</td>\n",
       "      <td>JOHN090657</td>\n",
       "      <td>11/7/23</td>\n",
       "      <td>10.0</td>\n",
       "      <td>No Description</td>\n",
       "      <td>10.0</td>\n",
       "      <td>57239</td>\n",
       "      <td>69995</td>\n",
       "      <td>750</td>\n",
       "      <td>EFT</td>\n",
       "      <td>Travel DB US Bank Clearing</td>\n",
       "      <td>10.0</td>\n",
       "      <td>[1, 57211, 20136, 31612]</td>\n",
       "      <td>1</td>\n",
       "      <td>57211</td>\n",
       "      <td>20136</td>\n",
       "      <td>31612</td>\n",
       "    </tr>\n",
       "    <tr>\n",
       "      <th>4</th>\n",
       "      <td>TRV</td>\n",
       "      <td>13719082</td>\n",
       "      <td>US BANK UC TRAVEL CENTER</td>\n",
       "      <td>10/30/23</td>\n",
       "      <td>JOHN090657</td>\n",
       "      <td>11/7/23</td>\n",
       "      <td>10.0</td>\n",
       "      <td>No Description</td>\n",
       "      <td>10.0</td>\n",
       "      <td>57239</td>\n",
       "      <td>69995</td>\n",
       "      <td>750</td>\n",
       "      <td>EFT</td>\n",
       "      <td>Travel DB US Bank Clearing</td>\n",
       "      <td>10.0</td>\n",
       "      <td>[1, 57211, 20136, 31612]</td>\n",
       "      <td>1</td>\n",
       "      <td>57211</td>\n",
       "      <td>20136</td>\n",
       "      <td>31612</td>\n",
       "    </tr>\n",
       "  </tbody>\n",
       "</table>\n",
       "</div>"
      ],
      "text/plain": [
       "  Origin  Voucher ID               Vendor Name Invoice Date  \\\n",
       "0    TRV    13633064  US BANK UC TRAVEL CENTER       1/4/23   \n",
       "1    TRV    13632810  US BANK UC TRAVEL CENTER       1/3/23   \n",
       "2    TRV    13638550  US BANK UC TRAVEL CENTER      1/24/23   \n",
       "3    TRV    13719076  US BANK UC TRAVEL CENTER     10/30/23   \n",
       "4    TRV    13719082  US BANK UC TRAVEL CENTER     10/30/23   \n",
       "\n",
       "  Invoice ID (or DBID) Payment Date  Invoice Amt Line Description  \\\n",
       "0           HOLL092723      1/12/23         10.0   No Description   \n",
       "1           ORD0092614      1/11/23         32.0   No Description   \n",
       "2           LIZA092305       2/1/23         32.0   No Description   \n",
       "3           JOHN090657      11/7/23         10.0   No Description   \n",
       "4           JOHN090657      11/7/23         10.0   No Description   \n",
       "\n",
       "   Paid Gross Amount  Account   Fund  Deptid Payment Method  \\\n",
       "0               10.0    57239  69995     750            EFT   \n",
       "1               32.0    57239  69995     750            EFT   \n",
       "2               32.0    57239  69995     750            EFT   \n",
       "3               10.0    57239  69995     750            EFT   \n",
       "4               10.0    57239  69995     750            EFT   \n",
       "\n",
       "                Account Descr  Amount                       COA delete  \\\n",
       "0  Travel DB US Bank Clearing    10.0  [1, 19780, 01489, 15240]      1   \n",
       "1  Travel DB US Bank Clearing    32.0  [1, 57211, 19900, 13600]      1   \n",
       "2  Travel DB US Bank Clearing    32.0  [1, 57211, 19924, 11389]      1   \n",
       "3  Travel DB US Bank Clearing    10.0  [1, 57211, 20136, 31612]      1   \n",
       "4  Travel DB US Bank Clearing    10.0  [1, 57211, 20136, 31612]      1   \n",
       "\n",
       "  AccountCorrection FundCorrection DeptidCorrection  \n",
       "0             19780          01489            15240  \n",
       "1             57211          19900            13600  \n",
       "2             57211          19924            11389  \n",
       "3             57211          20136            31612  \n",
       "4             57211          20136            31612  "
      ]
     },
     "execution_count": 55,
     "metadata": {},
     "output_type": "execute_result"
    }
   ],
   "source": [
    "UCTCnewstack.head(5)"
   ]
  },
  {
   "cell_type": "code",
   "execution_count": 56,
   "id": "57559fb7-086c-41a8-858d-9c19edeb76ed",
   "metadata": {
    "tags": []
   },
   "outputs": [],
   "source": [
    "UCTCnewstack['Account'] = UCTCnewstack['AccountCorrection']\n",
    "UCTCnewstack['Fund'] = UCTCnewstack['FundCorrection']\n",
    "UCTCnewstack['Deptid'] = UCTCnewstack['DeptidCorrection']"
   ]
  },
  {
   "cell_type": "code",
   "execution_count": 57,
   "id": "c94461f3-b2cd-418d-a7b7-18f17ba428e6",
   "metadata": {
    "tags": []
   },
   "outputs": [],
   "source": [
    "column_cleanup = ['AccountCorrection', 'FundCorrection', 'DeptidCorrection', 'COA']\n",
    "UCTCnewstack.drop(column_cleanup, axis=1, inplace=True)"
   ]
  },
  {
   "cell_type": "code",
   "execution_count": 58,
   "id": "826cff3e-46e3-49c1-9364-71b5cdf72c60",
   "metadata": {
    "tags": []
   },
   "outputs": [],
   "source": [
    "UCTCnewstack.drop('delete', axis=1, inplace=True)"
   ]
  },
  {
   "cell_type": "code",
   "execution_count": 59,
   "id": "19a5d059-095f-43d3-adba-559cfb272bf7",
   "metadata": {
    "tags": []
   },
   "outputs": [
    {
     "data": {
      "text/plain": [
       "(6738, 15)"
      ]
     },
     "execution_count": 59,
     "metadata": {},
     "output_type": "execute_result"
    }
   ],
   "source": [
    "UCTCnewstack.shape"
   ]
  },
  {
   "cell_type": "code",
   "execution_count": 60,
   "id": "6db6268a-a1b6-4d95-a425-8b601b3467af",
   "metadata": {
    "tags": []
   },
   "outputs": [
    {
     "data": {
      "text/plain": [
       "Origin                   object\n",
       "Voucher ID                int64\n",
       "Vendor Name              object\n",
       "Invoice Date             object\n",
       "Invoice ID (or DBID)     object\n",
       "Payment Date             object\n",
       "Invoice Amt             float64\n",
       "Line Description         object\n",
       "Paid Gross Amount       float64\n",
       "Account                  object\n",
       "Fund                     object\n",
       "Deptid                   object\n",
       "Payment Method           object\n",
       "Account Descr            object\n",
       "Amount                  float64\n",
       "dtype: object"
      ]
     },
     "execution_count": 60,
     "metadata": {},
     "output_type": "execute_result"
    }
   ],
   "source": [
    "UCTCnewstack.dtypes"
   ]
  },
  {
   "cell_type": "code",
   "execution_count": 61,
   "id": "832584bc-b03d-4935-a15b-8c14dd1f5088",
   "metadata": {
    "tags": []
   },
   "outputs": [],
   "source": [
    "UCTCnewstack['Account'] = UCTCnewstack['Account'].astype(int)\n",
    "UCTCnewstack['Fund'] = UCTCnewstack['Fund'].astype(int)\n",
    "UCTCnewstack['Deptid'] = UCTCnewstack['Deptid'].astype(int)"
   ]
  },
  {
   "cell_type": "code",
   "execution_count": 62,
   "id": "c9ed2cdd-b01e-4234-99eb-519ea1d80c67",
   "metadata": {
    "tags": []
   },
   "outputs": [
    {
     "data": {
      "text/plain": [
       "Origin                   object\n",
       "Voucher ID                int64\n",
       "Vendor Name              object\n",
       "Invoice Date             object\n",
       "Invoice ID (or DBID)     object\n",
       "Payment Date             object\n",
       "Invoice Amt             float64\n",
       "Line Description         object\n",
       "Paid Gross Amount       float64\n",
       "Account                   int64\n",
       "Fund                      int64\n",
       "Deptid                    int64\n",
       "Payment Method           object\n",
       "Account Descr            object\n",
       "Amount                  float64\n",
       "dtype: object"
      ]
     },
     "execution_count": 62,
     "metadata": {},
     "output_type": "execute_result"
    }
   ],
   "source": [
    "UCTCnewstack.dtypes"
   ]
  },
  {
   "cell_type": "code",
   "execution_count": 63,
   "id": "6c877923-e32e-4e86-a56c-41aa35f796b4",
   "metadata": {
    "tags": []
   },
   "outputs": [],
   "source": [
    "AirFareFeesUCTC2023 = [10, 32]\n",
    "UCTCnewstack[UCTCnewstack.Amount.isin(AirFareFeesUCTC2023) == False]\n",
    "UCTCnewstackminusAirFareFees = UCTCnewstack[UCTCnewstack.Amount.isin(AirFareFeesUCTC2023) == False]\n",
    "UCTCnewstackFlights = UCTCnewstackminusAirFareFees[UCTCnewstackminusAirFareFees['Amount'] > 0]"
   ]
  },
  {
   "cell_type": "code",
   "execution_count": 64,
   "id": "49e5a40e-fb05-4448-b58b-a72b3ab7a8bb",
   "metadata": {
    "tags": []
   },
   "outputs": [
    {
     "data": {
      "text/plain": [
       "Origin                   object\n",
       "Voucher ID                int64\n",
       "Vendor Name              object\n",
       "Invoice Date             object\n",
       "Invoice ID (or DBID)     object\n",
       "Payment Date             object\n",
       "Invoice Amt             float64\n",
       "Line Description         object\n",
       "Paid Gross Amount       float64\n",
       "Account                   int64\n",
       "Fund                      int64\n",
       "Deptid                    int64\n",
       "Payment Method           object\n",
       "Account Descr            object\n",
       "Amount                  float64\n",
       "dtype: object"
      ]
     },
     "execution_count": 64,
     "metadata": {},
     "output_type": "execute_result"
    }
   ],
   "source": [
    "UCTCFlights2023.dtypes"
   ]
  },
  {
   "cell_type": "code",
   "execution_count": 65,
   "id": "3ddeb553-3535-4d86-a473-cee835fd3c75",
   "metadata": {
    "tags": []
   },
   "outputs": [
    {
     "data": {
      "text/plain": [
       "(4845, 15)"
      ]
     },
     "execution_count": 65,
     "metadata": {},
     "output_type": "execute_result"
    }
   ],
   "source": [
    "UCTCFlights2023.shape"
   ]
  },
  {
   "cell_type": "code",
   "execution_count": 66,
   "id": "fab028a1-eb66-4a68-9509-3a7b3924c05a",
   "metadata": {
    "tags": []
   },
   "outputs": [
    {
     "data": {
      "text/plain": [
       "63                 AGGA092281 LAX-OAK\n",
       "64     BUSH092565 SFO-LHR-DEL-CDG-SFO\n",
       "65             MOOR092758 SFO-ORD-SFO\n",
       "66     CEOL092522 TLS-CDG-SFO-CDG-TLS\n",
       "138            WAGN092841 SFO-TLV-SFO\n",
       "145    NIEL092839 CLE-CLT-SFO-DFW-CLE\n",
       "146    REIN092848 SFO-EWR-GRU-ORD-SFO\n",
       "148            BALZ092843 BDL-ORD-SEA\n",
       "150            BALZ092845 SFO-ORD-BDL\n",
       "153    BLAC092835 SYR-DTW-SFO-DTW-SYR\n",
       "Name: Line Description, dtype: object"
      ]
     },
     "execution_count": 66,
     "metadata": {},
     "output_type": "execute_result"
    }
   ],
   "source": [
    "UCTCFlights2023['Line Description'].head(10)"
   ]
  },
  {
   "cell_type": "code",
   "execution_count": 97,
   "id": "328faa22-822b-4966-8605-4339083fc592",
   "metadata": {
    "collapsed": true,
    "jupyter": {
     "outputs_hidden": true
    },
    "tags": []
   },
   "outputs": [
    {
     "data": {
      "text/plain": [
       "4031"
      ]
     },
     "execution_count": 97,
     "metadata": {},
     "output_type": "execute_result"
    }
   ],
   "source": [
    "UCTCFlights2023['Invoice ID (or DBID)'].nunique()"
   ]
  },
  {
   "cell_type": "code",
   "execution_count": 98,
   "id": "f2596abc-08e5-4c92-ba7f-ce82378a09d9",
   "metadata": {
    "collapsed": true,
    "jupyter": {
     "outputs_hidden": true
    },
    "tags": []
   },
   "outputs": [
    {
     "data": {
      "text/plain": [
       "Origin                   object\n",
       "Voucher ID                int64\n",
       "Vendor Name              object\n",
       "Invoice Date             object\n",
       "Invoice ID (or DBID)     object\n",
       "Payment Date             object\n",
       "Invoice Amt             float64\n",
       "Line Description         object\n",
       "Paid Gross Amount       float64\n",
       "Account                   int64\n",
       "Fund                      int64\n",
       "Deptid                    int64\n",
       "Payment Method           object\n",
       "Account Descr            object\n",
       "Amount                  float64\n",
       "dtype: object"
      ]
     },
     "execution_count": 98,
     "metadata": {},
     "output_type": "execute_result"
    }
   ],
   "source": [
    "UCTCnewstackFlights.dtypes"
   ]
  },
  {
   "cell_type": "code",
   "execution_count": 99,
   "id": "7200399a-a2d6-4027-891d-ecceddd3ed8d",
   "metadata": {
    "collapsed": true,
    "jupyter": {
     "outputs_hidden": true
    },
    "tags": []
   },
   "outputs": [
    {
     "data": {
      "text/plain": [
       "(1611, 15)"
      ]
     },
     "execution_count": 99,
     "metadata": {},
     "output_type": "execute_result"
    }
   ],
   "source": [
    "UCTCnewstackFlights.shape"
   ]
  },
  {
   "cell_type": "code",
   "execution_count": 100,
   "id": "36a46a5e-8a30-4527-a982-67c162f391be",
   "metadata": {
    "collapsed": true,
    "jupyter": {
     "outputs_hidden": true
    },
    "tags": []
   },
   "outputs": [
    {
     "data": {
      "text/plain": [
       "1403"
      ]
     },
     "execution_count": 100,
     "metadata": {},
     "output_type": "execute_result"
    }
   ],
   "source": [
    "UCTCnewstackFlights['Invoice ID (or DBID)'].nunique()"
   ]
  },
  {
   "cell_type": "markdown",
   "id": "663a41ba-e5df-486e-b1d9-77863dbba486",
   "metadata": {},
   "source": [
    "**Stack 2 dataframes**"
   ]
  },
  {
   "cell_type": "code",
   "execution_count": 101,
   "id": "1b49f02c-a889-4b1e-8682-5e02be0c9e89",
   "metadata": {
    "tags": []
   },
   "outputs": [],
   "source": [
    "UCTCFlights2023 = pd.concat([UCTCFlights2023, UCTCnewstackFlights], ignore_index=True)"
   ]
  },
  {
   "cell_type": "code",
   "execution_count": 102,
   "id": "6df5459f-fcfa-4e51-a6eb-7d0a920e7def",
   "metadata": {
    "collapsed": true,
    "jupyter": {
     "outputs_hidden": true
    },
    "tags": []
   },
   "outputs": [
    {
     "data": {
      "text/plain": [
       "(6456, 15)"
      ]
     },
     "execution_count": 102,
     "metadata": {},
     "output_type": "execute_result"
    }
   ],
   "source": [
    "UCTCFlights2023.shape"
   ]
  },
  {
   "cell_type": "code",
   "execution_count": 103,
   "id": "04cabb4b-44f0-458e-9c59-f71d20e62b0e",
   "metadata": {
    "tags": []
   },
   "outputs": [
    {
     "data": {
      "text/plain": [
       "5322"
      ]
     },
     "execution_count": 103,
     "metadata": {},
     "output_type": "execute_result"
    }
   ],
   "source": [
    "UCTCFlights2023['Invoice ID (or DBID)'].nunique()"
   ]
  },
  {
   "cell_type": "code",
   "execution_count": 104,
   "id": "eaf69a48-5fcf-4137-a4f1-c9c6d087efa4",
   "metadata": {
    "collapsed": true,
    "jupyter": {
     "outputs_hidden": true
    },
    "tags": []
   },
   "outputs": [
    {
     "data": {
      "text/plain": [
       "Account\n",
       "57212    3462\n",
       "57221    1662\n",
       "57211    1213\n",
       "56715      83\n",
       "57214      11\n",
       "57222      10\n",
       "55040       6\n",
       "57003       3\n",
       "57213       3\n",
       "56520       1\n",
       "57005       1\n",
       "57232       1\n",
       "Name: count, dtype: int64"
      ]
     },
     "execution_count": 104,
     "metadata": {},
     "output_type": "execute_result"
    }
   ],
   "source": [
    "UCTCFlights2023['Account'].value_counts()"
   ]
  },
  {
   "cell_type": "markdown",
   "id": "089afe37-1fd6-4e30-90d9-fff009b16b80",
   "metadata": {},
   "source": [
    "**Insert a column for each agency so that we can map its origin after we stack all 3 DataFrames vertically**"
   ]
  },
  {
   "cell_type": "code",
   "execution_count": 105,
   "id": "5d203fda-df5d-46dd-b39d-948b09c4cef0",
   "metadata": {},
   "outputs": [],
   "source": [
    "BCDFlights2023.insert(0, 'which_agency', 'BCD')\n",
    "UCTCFlights2023.insert(0, 'which_agency', 'UCTC')"
   ]
  },
  {
   "cell_type": "code",
   "execution_count": 106,
   "id": "16081362-eb6c-4f96-8e35-67791793d72a",
   "metadata": {
    "tags": []
   },
   "outputs": [],
   "source": [
    "TNEFlights2023.insert(0, 'which_agency', 'TNE')"
   ]
  },
  {
   "cell_type": "code",
   "execution_count": 107,
   "id": "cda8729f-6e29-4dd7-9d36-a920597b7aa2",
   "metadata": {
    "tags": []
   },
   "outputs": [
    {
     "data": {
      "text/plain": [
       "(9899, 16)"
      ]
     },
     "execution_count": 107,
     "metadata": {},
     "output_type": "execute_result"
    }
   ],
   "source": [
    "TNEFlights2023.shape"
   ]
  },
  {
   "cell_type": "code",
   "execution_count": 108,
   "id": "a688e50b-dd91-4b4d-89b8-cec3bd8d9687",
   "metadata": {
    "tags": []
   },
   "outputs": [
    {
     "data": {
      "text/plain": [
       "(1948, 16)"
      ]
     },
     "execution_count": 108,
     "metadata": {},
     "output_type": "execute_result"
    }
   ],
   "source": [
    "BCDFlights2023.shape"
   ]
  },
  {
   "cell_type": "code",
   "execution_count": 109,
   "id": "e29d0027-126b-4b90-96de-4b289cfe5cd0",
   "metadata": {
    "collapsed": true,
    "jupyter": {
     "outputs_hidden": true
    },
    "tags": []
   },
   "outputs": [
    {
     "data": {
      "text/plain": [
       "which_agency             object\n",
       "Origin                   object\n",
       "Voucher ID                int64\n",
       "Vendor Name              object\n",
       "Invoice Date             object\n",
       "Invoice ID (or DBID)     object\n",
       "Payment Date             object\n",
       "Invoice Amt             float64\n",
       "Line Description         object\n",
       "Paid Gross Amount       float64\n",
       "Account                   int64\n",
       "Fund                      int64\n",
       "Deptid                    int64\n",
       "Payment Method           object\n",
       "Account Descr            object\n",
       "Amount                  float64\n",
       "dtype: object"
      ]
     },
     "execution_count": 109,
     "metadata": {},
     "output_type": "execute_result"
    }
   ],
   "source": [
    "BCDFlights2023.dtypes"
   ]
  },
  {
   "cell_type": "code",
   "execution_count": 110,
   "id": "4707c288-0cca-40e0-801c-117fbe3d98de",
   "metadata": {
    "tags": []
   },
   "outputs": [
    {
     "data": {
      "text/plain": [
       "(6456, 16)"
      ]
     },
     "execution_count": 110,
     "metadata": {},
     "output_type": "execute_result"
    }
   ],
   "source": [
    "UCTCFlights2023.shape"
   ]
  },
  {
   "cell_type": "code",
   "execution_count": 112,
   "id": "d7cdf164-3559-407e-8b4f-4da2a8ab357e",
   "metadata": {
    "collapsed": true,
    "jupyter": {
     "outputs_hidden": true
    },
    "tags": []
   },
   "outputs": [
    {
     "data": {
      "text/plain": [
       "which_agency             object\n",
       "Origin                   object\n",
       "Voucher ID                int64\n",
       "Vendor Name              object\n",
       "Invoice Date             object\n",
       "Invoice ID (or DBID)     object\n",
       "Payment Date             object\n",
       "Invoice Amt             float64\n",
       "Line Description         object\n",
       "Paid Gross Amount       float64\n",
       "Account                   int64\n",
       "Fund                      int64\n",
       "Deptid                    int64\n",
       "Payment Method           object\n",
       "Account Descr            object\n",
       "Amount                  float64\n",
       "dtype: object"
      ]
     },
     "execution_count": 112,
     "metadata": {},
     "output_type": "execute_result"
    }
   ],
   "source": [
    "UCTCFlights2023.dtypes"
   ]
  },
  {
   "cell_type": "code",
   "execution_count": 113,
   "id": "0257e3ee-226b-4041-a92b-799e85d7563b",
   "metadata": {
    "tags": []
   },
   "outputs": [
    {
     "data": {
      "text/plain": [
       "which_agency             object\n",
       "Origin                   object\n",
       "Voucher ID                int64\n",
       "Vendor Name              object\n",
       "Invoice Date             object\n",
       "Invoice ID (or DBID)     object\n",
       "Payment Date             object\n",
       "Invoice Amt             float64\n",
       "Line Description         object\n",
       "Paid Gross Amount       float64\n",
       "Account                   int64\n",
       "Fund                      int64\n",
       "Deptid                    int64\n",
       "Payment Method           object\n",
       "Account Descr            object\n",
       "Amount                  float64\n",
       "dtype: object"
      ]
     },
     "execution_count": 113,
     "metadata": {},
     "output_type": "execute_result"
    }
   ],
   "source": [
    "TNEFlights2023.dtypes"
   ]
  },
  {
   "cell_type": "code",
   "execution_count": null,
   "id": "52408963-38b3-4385-bc5d-ab595a11af79",
   "metadata": {},
   "outputs": [],
   "source": []
  },
  {
   "cell_type": "markdown",
   "id": "eaebd31d-8298-4ab4-821e-c63c90b5861a",
   "metadata": {},
   "source": [
    "**Stack the 3 DataFrames vertically into one TotalFlights2023 DataFrame**"
   ]
  },
  {
   "cell_type": "markdown",
   "id": "2d776942-30fb-44f5-935f-7046b69b06c0",
   "metadata": {},
   "source": [
    "**NOTE - columns must match EXACTLY in each dataframe for this step to work correctly. Otherwise, dataframes will stack horizontally**"
   ]
  },
  {
   "cell_type": "code",
   "execution_count": 114,
   "id": "f7d1dc22-016c-4366-8bd1-dd4cadb18ba1",
   "metadata": {
    "tags": []
   },
   "outputs": [],
   "source": [
    "TotalFlights2023 = pd.concat([TNEFlights2023, BCDFlights2023, UCTCFlights2023], axis=0, ignore_index=True)"
   ]
  },
  {
   "cell_type": "code",
   "execution_count": 115,
   "id": "60d3a164-aa21-465d-b029-cb4ac48c4b12",
   "metadata": {
    "tags": []
   },
   "outputs": [
    {
     "data": {
      "text/plain": [
       "(18303, 16)"
      ]
     },
     "execution_count": 115,
     "metadata": {},
     "output_type": "execute_result"
    }
   ],
   "source": [
    "TotalFlights2023.shape"
   ]
  },
  {
   "cell_type": "code",
   "execution_count": 65,
   "id": "3750acef-af07-42f3-8f30-4be18a75edaf",
   "metadata": {
    "collapsed": true,
    "jupyter": {
     "outputs_hidden": true,
     "source_hidden": true
    },
    "tags": []
   },
   "outputs": [
    {
     "data": {
      "text/html": [
       "<div>\n",
       "<style scoped>\n",
       "    .dataframe tbody tr th:only-of-type {\n",
       "        vertical-align: middle;\n",
       "    }\n",
       "\n",
       "    .dataframe tbody tr th {\n",
       "        vertical-align: top;\n",
       "    }\n",
       "\n",
       "    .dataframe thead th {\n",
       "        text-align: right;\n",
       "    }\n",
       "</style>\n",
       "<table border=\"1\" class=\"dataframe\">\n",
       "  <thead>\n",
       "    <tr style=\"text-align: right;\">\n",
       "      <th></th>\n",
       "      <th>which_agency</th>\n",
       "      <th>Origin</th>\n",
       "      <th>Voucher ID</th>\n",
       "      <th>Vendor Name</th>\n",
       "      <th>Invoice Date</th>\n",
       "      <th>Invoice ID (or DBID)</th>\n",
       "      <th>Payment Date</th>\n",
       "      <th>Invoice Amt</th>\n",
       "      <th>Line Description</th>\n",
       "      <th>Paid Gross Amount</th>\n",
       "      <th>Account</th>\n",
       "      <th>Fund</th>\n",
       "      <th>Deptid</th>\n",
       "      <th>ChartField 1</th>\n",
       "      <th>ChartField 2</th>\n",
       "      <th>Payment Method</th>\n",
       "      <th>Account Descr</th>\n",
       "      <th>Amount</th>\n",
       "    </tr>\n",
       "  </thead>\n",
       "  <tbody>\n",
       "    <tr>\n",
       "      <th>0</th>\n",
       "      <td>TNE</td>\n",
       "      <td>TRV</td>\n",
       "      <td>90499066</td>\n",
       "      <td>BARANI,MOHAMMAD</td>\n",
       "      <td>1/1/23</td>\n",
       "      <td>TRV000609648</td>\n",
       "      <td>1/13/23</td>\n",
       "      <td>3134.51</td>\n",
       "      <td>TRV000609648;BARANI</td>\n",
       "      <td>3134.51</td>\n",
       "      <td>57212</td>\n",
       "      <td>61939</td>\n",
       "      <td>24532</td>\n",
       "      <td>NaN</td>\n",
       "      <td>JBMAF</td>\n",
       "      <td>EFT</td>\n",
       "      <td>Out-of-State Travel - Air Fare</td>\n",
       "      <td>719.3</td>\n",
       "    </tr>\n",
       "    <tr>\n",
       "      <th>1</th>\n",
       "      <td>TNE</td>\n",
       "      <td>TRV</td>\n",
       "      <td>90498399</td>\n",
       "      <td>HARRIS,EVA</td>\n",
       "      <td>1/1/23</td>\n",
       "      <td>TRV000609649</td>\n",
       "      <td>1/9/23</td>\n",
       "      <td>1980.81</td>\n",
       "      <td>TRV000609649;HARRIS</td>\n",
       "      <td>1980.81</td>\n",
       "      <td>57221</td>\n",
       "      <td>62558</td>\n",
       "      <td>14000</td>\n",
       "      <td>NaN</td>\n",
       "      <td>CPH51</td>\n",
       "      <td>EFT</td>\n",
       "      <td>Foreign Travel - Air Fare</td>\n",
       "      <td>882.81</td>\n",
       "    </tr>\n",
       "    <tr>\n",
       "      <th>2</th>\n",
       "      <td>TNE</td>\n",
       "      <td>TRV</td>\n",
       "      <td>90510103</td>\n",
       "      <td>COHEN,RONALD</td>\n",
       "      <td>1/2/23</td>\n",
       "      <td>TRV000609654</td>\n",
       "      <td>4/7/23</td>\n",
       "      <td>2605.26</td>\n",
       "      <td>TRV000609654;COHEN</td>\n",
       "      <td>2605.26</td>\n",
       "      <td>57212</td>\n",
       "      <td>66350</td>\n",
       "      <td>10805</td>\n",
       "      <td>NaN</td>\n",
       "      <td>CCRXC</td>\n",
       "      <td>EFT</td>\n",
       "      <td>Out-of-State Travel - Air Fare</td>\n",
       "      <td>419.95</td>\n",
       "    </tr>\n",
       "    <tr>\n",
       "      <th>3</th>\n",
       "      <td>TNE</td>\n",
       "      <td>TRV</td>\n",
       "      <td>90498726</td>\n",
       "      <td>LIUZZO,LUCAS</td>\n",
       "      <td>1/2/23</td>\n",
       "      <td>TRV000609657</td>\n",
       "      <td>1/11/23</td>\n",
       "      <td>2594.20</td>\n",
       "      <td>TRV000609657;LIUZZO</td>\n",
       "      <td>2594.20</td>\n",
       "      <td>57212</td>\n",
       "      <td>61043</td>\n",
       "      <td>24532</td>\n",
       "      <td>NaN</td>\n",
       "      <td>JBANP</td>\n",
       "      <td>EFT</td>\n",
       "      <td>Out-of-State Travel - Air Fare</td>\n",
       "      <td>603.05</td>\n",
       "    </tr>\n",
       "    <tr>\n",
       "      <th>4</th>\n",
       "      <td>TNE</td>\n",
       "      <td>TRV</td>\n",
       "      <td>90499104</td>\n",
       "      <td>BAMMAN,DAVID</td>\n",
       "      <td>1/3/23</td>\n",
       "      <td>TRV000609694</td>\n",
       "      <td>1/13/23</td>\n",
       "      <td>3761.30</td>\n",
       "      <td>136371TRV000609694;BAMMAN</td>\n",
       "      <td>3761.30</td>\n",
       "      <td>57221</td>\n",
       "      <td>19900</td>\n",
       "      <td>14208</td>\n",
       "      <td>NaN</td>\n",
       "      <td>MMDAB</td>\n",
       "      <td>EFT</td>\n",
       "      <td>Foreign Travel - Air Fare</td>\n",
       "      <td>1,635.67</td>\n",
       "    </tr>\n",
       "  </tbody>\n",
       "</table>\n",
       "</div>"
      ],
      "text/plain": [
       "  which_agency Origin  Voucher ID      Vendor Name Invoice Date  \\\n",
       "0          TNE    TRV    90499066  BARANI,MOHAMMAD       1/1/23   \n",
       "1          TNE    TRV    90498399       HARRIS,EVA       1/1/23   \n",
       "2          TNE    TRV    90510103     COHEN,RONALD       1/2/23   \n",
       "3          TNE    TRV    90498726     LIUZZO,LUCAS       1/2/23   \n",
       "4          TNE    TRV    90499104     BAMMAN,DAVID       1/3/23   \n",
       "\n",
       "  Invoice ID (or DBID) Payment Date  Invoice Amt           Line Description  \\\n",
       "0         TRV000609648      1/13/23      3134.51        TRV000609648;BARANI   \n",
       "1         TRV000609649       1/9/23      1980.81        TRV000609649;HARRIS   \n",
       "2         TRV000609654       4/7/23      2605.26         TRV000609654;COHEN   \n",
       "3         TRV000609657      1/11/23      2594.20        TRV000609657;LIUZZO   \n",
       "4         TRV000609694      1/13/23      3761.30  136371TRV000609694;BAMMAN   \n",
       "\n",
       "   Paid Gross Amount  Account   Fund  Deptid ChartField 1 ChartField 2  \\\n",
       "0            3134.51    57212  61939   24532          NaN        JBMAF   \n",
       "1            1980.81    57221  62558   14000          NaN        CPH51   \n",
       "2            2605.26    57212  66350   10805          NaN        CCRXC   \n",
       "3            2594.20    57212  61043   24532          NaN        JBANP   \n",
       "4            3761.30    57221  19900   14208          NaN        MMDAB   \n",
       "\n",
       "  Payment Method                   Account Descr    Amount  \n",
       "0            EFT  Out-of-State Travel - Air Fare     719.3  \n",
       "1            EFT       Foreign Travel - Air Fare    882.81  \n",
       "2            EFT  Out-of-State Travel - Air Fare    419.95  \n",
       "3            EFT  Out-of-State Travel - Air Fare    603.05  \n",
       "4            EFT       Foreign Travel - Air Fare  1,635.67  "
      ]
     },
     "execution_count": 65,
     "metadata": {},
     "output_type": "execute_result"
    }
   ],
   "source": [
    "TotalFlights2023.head()"
   ]
  },
  {
   "cell_type": "code",
   "execution_count": 116,
   "id": "b275f837-9332-4f83-a910-d605c341fdea",
   "metadata": {
    "tags": []
   },
   "outputs": [
    {
     "data": {
      "text/plain": [
       "13"
      ]
     },
     "execution_count": 116,
     "metadata": {},
     "output_type": "execute_result"
    }
   ],
   "source": [
    "TotalFlights2023['Account'].nunique()"
   ]
  },
  {
   "cell_type": "code",
   "execution_count": 117,
   "id": "850c8ce3-2c21-4aec-8e92-0f1f4e097c11",
   "metadata": {
    "collapsed": true,
    "jupyter": {
     "outputs_hidden": true
    },
    "tags": []
   },
   "outputs": [
    {
     "data": {
      "text/plain": [
       "Account\n",
       "57212    8289\n",
       "57211    5142\n",
       "57221    4464\n",
       "56715     350\n",
       "57232      14\n",
       "57222      13\n",
       "57214      12\n",
       "57213       7\n",
       "55040       6\n",
       "57003       3\n",
       "55030       1\n",
       "56520       1\n",
       "57005       1\n",
       "Name: count, dtype: int64"
      ]
     },
     "execution_count": 117,
     "metadata": {},
     "output_type": "execute_result"
    }
   ],
   "source": [
    "TotalFlights2023['Account'].value_counts()"
   ]
  },
  {
   "cell_type": "code",
   "execution_count": 118,
   "id": "bd0686cb-40b5-46a5-b969-c6b10c412c3c",
   "metadata": {
    "tags": []
   },
   "outputs": [],
   "source": [
    "def ATMF(value):\n",
    "    \n",
    "    if value == 57211:\n",
    "        return 'domestic'\n",
    "    if value == 57212:\n",
    "        return 'domestic'\n",
    "    if value == 57221:\n",
    "        return 'international'\n",
    "    if value == 56715:\n",
    "        return 'compedVisitor'\n",
    "    if value == 57239:\n",
    "        return 'stagingArea'\n",
    "    \n",
    "    else:\n",
    "        return 'unknown'"
   ]
  },
  {
   "cell_type": "code",
   "execution_count": 119,
   "id": "d4602370-3619-4808-9288-28e912fefcb0",
   "metadata": {
    "tags": []
   },
   "outputs": [],
   "source": [
    "TotalFlights2023['ATMF'] = TotalFlights2023['Account'].map(ATMF)"
   ]
  },
  {
   "cell_type": "code",
   "execution_count": 120,
   "id": "52a58dfc-cc96-4201-9c23-4d51724c0bb9",
   "metadata": {
    "tags": []
   },
   "outputs": [
    {
     "data": {
      "text/plain": [
       "4"
      ]
     },
     "execution_count": 120,
     "metadata": {},
     "output_type": "execute_result"
    }
   ],
   "source": [
    "TotalFlights2023['ATMF'].nunique()"
   ]
  },
  {
   "cell_type": "code",
   "execution_count": 121,
   "id": "5dc12b62-b801-4dcf-b9a0-6a48a1a1c1e6",
   "metadata": {
    "tags": []
   },
   "outputs": [
    {
     "data": {
      "text/plain": [
       "ATMF\n",
       "domestic         13431\n",
       "international     4464\n",
       "compedVisitor      350\n",
       "unknown             58\n",
       "Name: count, dtype: int64"
      ]
     },
     "execution_count": 121,
     "metadata": {},
     "output_type": "execute_result"
    }
   ],
   "source": [
    "TotalFlights2023['ATMF'].value_counts()"
   ]
  },
  {
   "cell_type": "markdown",
   "id": "1d529bf7-1150-45ae-bf1e-9882ad0fe6d8",
   "metadata": {},
   "source": [
    "**Add in a Restriction Type column**"
   ]
  },
  {
   "cell_type": "code",
   "execution_count": 122,
   "id": "8055ce60-7a72-479c-b9e7-9fee305d1ea5",
   "metadata": {
    "tags": []
   },
   "outputs": [],
   "source": [
    "fund_key_updated = pd.read_csv('/Users/ashley/fund_key_updated.csv')"
   ]
  },
  {
   "cell_type": "code",
   "execution_count": 123,
   "id": "0716be3d-3b1e-43e2-a27a-8f31af67047c",
   "metadata": {
    "tags": []
   },
   "outputs": [],
   "source": [
    "TotalFlights2023['Restriction'] = TotalFlights2023['Fund'].map(fund_key_updated.set_index('Fund')['Restriction'])"
   ]
  },
  {
   "cell_type": "code",
   "execution_count": 124,
   "id": "e288afaf-a72b-4f14-9e2a-a544b3b107a2",
   "metadata": {
    "tags": []
   },
   "outputs": [
    {
     "data": {
      "text/plain": [
       "5"
      ]
     },
     "execution_count": 124,
     "metadata": {},
     "output_type": "execute_result"
    }
   ],
   "source": [
    "TotalFlights2023['Restriction'].nunique()"
   ]
  },
  {
   "cell_type": "code",
   "execution_count": 125,
   "id": "7b89b90c-b7cd-4135-a407-bc6fe0e7d9bb",
   "metadata": {
    "tags": []
   },
   "outputs": [
    {
     "data": {
      "text/plain": [
       "Restriction\n",
       "R    10244\n",
       "U     5671\n",
       "G     1257\n",
       "D      825\n",
       "C      245\n",
       "Name: count, dtype: int64"
      ]
     },
     "execution_count": 125,
     "metadata": {},
     "output_type": "execute_result"
    }
   ],
   "source": [
    "TotalFlights2023['Restriction'].value_counts()"
   ]
  },
  {
   "cell_type": "code",
   "execution_count": null,
   "id": "cdd5937d-bf0b-4354-b835-3497ffcc3c83",
   "metadata": {},
   "outputs": [],
   "source": []
  },
  {
   "cell_type": "code",
   "execution_count": 126,
   "id": "06d72344-2278-45ea-abeb-f107af72ca03",
   "metadata": {
    "tags": []
   },
   "outputs": [],
   "source": [
    "def RestrictionUpdate(series):\n",
    "    \n",
    "    if series == 'R':\n",
    "        return 'R'\n",
    "    if series == 'C':\n",
    "        return 'R'\n",
    "    if series == 'D':\n",
    "        return 'R'\n",
    "    if series == 'G':\n",
    "        return 'R'\n",
    "    if series == 'U':\n",
    "        return 'U'\n",
    "    else:\n",
    "        return 'missingdata'"
   ]
  },
  {
   "cell_type": "code",
   "execution_count": 135,
   "id": "7bb05aaf-08ef-430a-aec6-29f5011e0a4d",
   "metadata": {
    "tags": []
   },
   "outputs": [],
   "source": [
    "TotalFlights2023['RestrictionUpdate'] = TotalFlights2023['Restriction'].map(RestrictionUpdate)"
   ]
  },
  {
   "cell_type": "code",
   "execution_count": 140,
   "id": "41a2d2bd-c6a5-42ef-adee-cccf0c821e1c",
   "metadata": {
    "tags": []
   },
   "outputs": [
    {
     "data": {
      "text/plain": [
       "(18303, 19)"
      ]
     },
     "execution_count": 140,
     "metadata": {},
     "output_type": "execute_result"
    }
   ],
   "source": [
    "TotalFlights2023.shape"
   ]
  },
  {
   "cell_type": "markdown",
   "id": "0b0a4656-21fd-4613-9a2b-44bf3b4c4fd4",
   "metadata": {},
   "source": [
    "**Add columns for L3 Description, L3 Node, & L4 Description**"
   ]
  },
  {
   "cell_type": "code",
   "execution_count": 137,
   "id": "4f6d57b5-6b95-4889-89b1-3a3f04d72bba",
   "metadata": {
    "tags": []
   },
   "outputs": [],
   "source": [
    "deptid_key = pd.read_csv('/Users/ashley/deptid_key.csv')"
   ]
  },
  {
   "cell_type": "code",
   "execution_count": 138,
   "id": "dd5d831c-3beb-4d4d-8ff1-11ba85a64f1b",
   "metadata": {
    "tags": []
   },
   "outputs": [],
   "source": [
    "TotalFlights2023_merged = TotalFlights2023.merge(deptid_key[['Deptid', 'OrgL3DivisionNode', 'OrgL3DivisionDesc', 'OrgL4DepartmentNode', 'OrgL4DepartmentDesc', 'OrgDesc']], on = 'Deptid', how = 'left')"
   ]
  },
  {
   "cell_type": "code",
   "execution_count": 141,
   "id": "4ed24ee7-62a4-4cc0-bf97-557f3e93d7c9",
   "metadata": {
    "tags": []
   },
   "outputs": [
    {
     "data": {
      "text/plain": [
       "3"
      ]
     },
     "execution_count": 141,
     "metadata": {},
     "output_type": "execute_result"
    }
   ],
   "source": [
    "TotalFlights2023_merged['RestrictionUpdate'].nunique()"
   ]
  },
  {
   "cell_type": "code",
   "execution_count": null,
   "id": "7725f94d-95bc-4a02-9bce-e3a2733a2394",
   "metadata": {},
   "outputs": [],
   "source": []
  },
  {
   "cell_type": "code",
   "execution_count": 142,
   "id": "7b2846fd-ffa0-41e3-872b-a018003b0fa6",
   "metadata": {
    "tags": []
   },
   "outputs": [
    {
     "data": {
      "text/plain": [
       "RestrictionUpdate\n",
       "R              12571\n",
       "U               5671\n",
       "missingdata       61\n",
       "Name: count, dtype: int64"
      ]
     },
     "execution_count": 142,
     "metadata": {},
     "output_type": "execute_result"
    }
   ],
   "source": [
    "TotalFlights2023_merged['RestrictionUpdate'].value_counts()"
   ]
  },
  {
   "cell_type": "code",
   "execution_count": 143,
   "id": "da604b6c-d1bd-41d1-9127-12166387cb7b",
   "metadata": {
    "tags": []
   },
   "outputs": [
    {
     "data": {
      "text/plain": [
       "(18303,)"
      ]
     },
     "execution_count": 143,
     "metadata": {},
     "output_type": "execute_result"
    }
   ],
   "source": [
    "TotalFlights2023_merged['RestrictionUpdate'].shape"
   ]
  },
  {
   "cell_type": "code",
   "execution_count": 144,
   "id": "ffcb9fe0-d4d6-4194-8c28-ea4ce2491493",
   "metadata": {
    "tags": []
   },
   "outputs": [
    {
     "data": {
      "text/plain": [
       "(18303, 24)"
      ]
     },
     "execution_count": 144,
     "metadata": {},
     "output_type": "execute_result"
    }
   ],
   "source": [
    "TotalFlights2023_merged.shape"
   ]
  },
  {
   "cell_type": "code",
   "execution_count": 147,
   "id": "49dac7f4-d8f1-4004-8efc-3e3f3d7aafd7",
   "metadata": {
    "collapsed": true,
    "jupyter": {
     "outputs_hidden": true
    },
    "tags": []
   },
   "outputs": [
    {
     "data": {
      "text/plain": [
       "which_agency             object\n",
       "Origin                   object\n",
       "Voucher ID                int64\n",
       "Vendor Name              object\n",
       "Invoice Date             object\n",
       "Invoice ID (or DBID)     object\n",
       "Payment Date             object\n",
       "Invoice Amt             float64\n",
       "Line Description         object\n",
       "Paid Gross Amount       float64\n",
       "Account                   int64\n",
       "Fund                      int64\n",
       "Deptid                    int64\n",
       "Payment Method           object\n",
       "Account Descr            object\n",
       "Amount                  float64\n",
       "ATMF                     object\n",
       "Restriction              object\n",
       "RestrictionUpdate        object\n",
       "OrgL3DivisionNode        object\n",
       "OrgL3DivisionDesc        object\n",
       "OrgL4DepartmentNode      object\n",
       "OrgL4DepartmentDesc      object\n",
       "OrgDesc                  object\n",
       "dtype: object"
      ]
     },
     "execution_count": 147,
     "metadata": {},
     "output_type": "execute_result"
    }
   ],
   "source": [
    "TotalFlights2023_merged.dtypes"
   ]
  },
  {
   "cell_type": "code",
   "execution_count": 148,
   "id": "bb5509b1-611a-4d45-98a0-ea91bbca4a75",
   "metadata": {
    "tags": []
   },
   "outputs": [
    {
     "data": {
      "text/plain": [
       "(18303,)"
      ]
     },
     "execution_count": 148,
     "metadata": {},
     "output_type": "execute_result"
    }
   ],
   "source": [
    "TotalFlights2023_merged['Deptid'].shape"
   ]
  },
  {
   "cell_type": "code",
   "execution_count": 149,
   "id": "8a9e6072-b2c9-4a12-8ef9-32da6a12c7da",
   "metadata": {
    "tags": []
   },
   "outputs": [
    {
     "data": {
      "text/plain": [
       "0"
      ]
     },
     "execution_count": 149,
     "metadata": {},
     "output_type": "execute_result"
    }
   ],
   "source": [
    "TotalFlights2023_merged['Deptid'].isnull().sum()"
   ]
  },
  {
   "cell_type": "code",
   "execution_count": 150,
   "id": "29300267-a84a-4147-9763-60d65fabfd21",
   "metadata": {
    "tags": []
   },
   "outputs": [
    {
     "data": {
      "text/plain": [
       "44"
      ]
     },
     "execution_count": 150,
     "metadata": {},
     "output_type": "execute_result"
    }
   ],
   "source": [
    "TotalFlights2023_merged['OrgL3DivisionNode'].isnull().sum()"
   ]
  },
  {
   "cell_type": "code",
   "execution_count": 151,
   "id": "6cc16753-8613-4fdc-add5-883deb0c14c3",
   "metadata": {
    "tags": []
   },
   "outputs": [
    {
     "data": {
      "text/plain": [
       "44"
      ]
     },
     "execution_count": 151,
     "metadata": {},
     "output_type": "execute_result"
    }
   ],
   "source": [
    "TotalFlights2023_merged['OrgL3DivisionDesc'].isnull().sum()"
   ]
  },
  {
   "cell_type": "code",
   "execution_count": 152,
   "id": "209f8cd5-2b60-4e98-8a95-51ce6c153a23",
   "metadata": {
    "tags": []
   },
   "outputs": [
    {
     "data": {
      "text/plain": [
       "44"
      ]
     },
     "execution_count": 152,
     "metadata": {},
     "output_type": "execute_result"
    }
   ],
   "source": [
    "TotalFlights2023_merged['OrgL4DepartmentNode'].isnull().sum()"
   ]
  },
  {
   "cell_type": "code",
   "execution_count": 153,
   "id": "f025d2d0-2d84-4eb9-9bb2-45ce1fe96166",
   "metadata": {
    "tags": []
   },
   "outputs": [
    {
     "data": {
      "text/plain": [
       "44"
      ]
     },
     "execution_count": 153,
     "metadata": {},
     "output_type": "execute_result"
    }
   ],
   "source": [
    "TotalFlights2023_merged['OrgL4DepartmentDesc'].isnull().sum()"
   ]
  },
  {
   "cell_type": "code",
   "execution_count": 154,
   "id": "24c96782-7db0-4f59-b399-b3bd5574df65",
   "metadata": {
    "tags": []
   },
   "outputs": [
    {
     "data": {
      "text/plain": [
       "44"
      ]
     },
     "execution_count": 154,
     "metadata": {},
     "output_type": "execute_result"
    }
   ],
   "source": [
    "TotalFlights2023_merged['OrgDesc'].isnull().sum()"
   ]
  },
  {
   "cell_type": "code",
   "execution_count": 155,
   "id": "74ad3a47-8f4d-4411-b882-7cc7363a0701",
   "metadata": {
    "tags": []
   },
   "outputs": [
    {
     "data": {
      "text/plain": [
       "40"
      ]
     },
     "execution_count": 155,
     "metadata": {},
     "output_type": "execute_result"
    }
   ],
   "source": [
    "TotalFlights2023_merged['OrgL3DivisionNode'].nunique()"
   ]
  },
  {
   "cell_type": "code",
   "execution_count": 156,
   "id": "e8221e52-0814-41cc-a86d-7ced43e95803",
   "metadata": {
    "tags": []
   },
   "outputs": [
    {
     "data": {
      "text/plain": [
       "OrgL3DivisionNode\n",
       "COENG    2615\n",
       "VCRAC    2467\n",
       "LS1SS    1423\n",
       "VCUGA    1378\n",
       "LS1PS    1227\n",
       "SCLAW    1207\n",
       "HAAS3    1017\n",
       "LS1HU     926\n",
       "LS1BS     666\n",
       "CO1NR     657\n",
       "COCHM     569\n",
       "SC1PH     518\n",
       "VCEI3     329\n",
       "UCRLO     301\n",
       "VCBAS     287\n",
       "SCEDU     268\n",
       "VCRMS     266\n",
       "CENVD     260\n",
       "GSCPP     248\n",
       "DSDIV     185\n",
       "SC1OP     159\n",
       "SCSIM     139\n",
       "SCHSW     111\n",
       "ACCTL     109\n",
       "UCLIB      97\n",
       "SSALL      94\n",
       "SCJOU      90\n",
       "VCRAU      84\n",
       "VR1GD      80\n",
       "ATHLE      74\n",
       "MU1FA      64\n",
       "UNEX3      57\n",
       "CALPF      52\n",
       "CHANL      49\n",
       "OT1VP      45\n",
       "VPAPF      45\n",
       "SAFP3      35\n",
       "LS1UI      30\n",
       "VCFIN      29\n",
       "EVCP3       2\n",
       "Name: count, dtype: int64"
      ]
     },
     "execution_count": 156,
     "metadata": {},
     "output_type": "execute_result"
    }
   ],
   "source": [
    "TotalFlights2023_merged['OrgL3DivisionNode'].value_counts()"
   ]
  },
  {
   "cell_type": "code",
   "execution_count": 157,
   "id": "83629118-f194-471a-8a11-9029df3085ac",
   "metadata": {
    "tags": []
   },
   "outputs": [],
   "source": [
    "TotalFlights2023_merged.to_csv('TotalFlights2023_merged_10may24.csv', index = False)"
   ]
  },
  {
   "cell_type": "markdown",
   "id": "b747589e-3e98-4315-9fdb-98e41a38704f",
   "metadata": {},
   "source": [
    "**At this point, you've exported the Total Flights DataFrame with the line above (the .csv file)**"
   ]
  },
  {
   "cell_type": "markdown",
   "id": "49309484-9832-49c5-98ed-3219631fed70",
   "metadata": {},
   "source": [
    "**Below, you may continue to create pivot tables based on the Total Flights DataFrame**"
   ]
  },
  {
   "cell_type": "code",
   "execution_count": 158,
   "id": "ceb1a921-5f0f-4b83-b7ff-41421c2579a4",
   "metadata": {
    "tags": []
   },
   "outputs": [],
   "source": [
    "def unique_ids(series):\n",
    "    return series.nunique()"
   ]
  },
  {
   "cell_type": "code",
   "execution_count": 159,
   "id": "9e6808d3-e702-410b-bbef-9481dced1eb3",
   "metadata": {
    "tags": []
   },
   "outputs": [],
   "source": [
    "index_cols_division_dept = ['OrgL3DivisionNode', 'OrgL4DepartmentDesc']"
   ]
  },
  {
   "cell_type": "code",
   "execution_count": 160,
   "id": "f71eeaf3-8a15-4beb-adc6-5ad6c6ea12cd",
   "metadata": {
    "tags": []
   },
   "outputs": [],
   "source": [
    "index_cols_division = ['OrgL3DivisionNode']"
   ]
  },
  {
   "cell_type": "markdown",
   "id": "186661e6-11ef-40a1-aa10-665cd0ed50ed",
   "metadata": {},
   "source": [
    "**After defining some indices, the next line creates a pivot table that returns flight totals from all units including their division and department**"
   ]
  },
  {
   "cell_type": "code",
   "execution_count": 161,
   "id": "0deae98d-7d90-4ad2-89b4-011eda343a55",
   "metadata": {
    "tags": []
   },
   "outputs": [],
   "source": [
    "pivot_all_units = TotalFlights2023_merged.pivot_table(values = 'Invoice ID (or DBID)', index = index_cols_division_dept, columns = ('RestrictionUpdate', 'ATMF'), aggfunc=unique_ids)"
   ]
  },
  {
   "cell_type": "markdown",
   "id": "8827c9fd-59fb-4731-b3d8-f2cda51aee5d",
   "metadata": {},
   "source": [
    "**The next line creates a pivot table that returns total flights from all units and their associated divisions (excludes departments)**"
   ]
  },
  {
   "cell_type": "code",
   "execution_count": 162,
   "id": "b510154a-2636-4487-9057-b0e15d045a2c",
   "metadata": {
    "tags": []
   },
   "outputs": [],
   "source": [
    "pivot_all_units_divisions = TotalFlights2023_merged.pivot_table(values = 'Invoice ID (or DBID)', index = index_cols_division, columns = ('RestrictionUpdate', 'ATMF'), aggfunc=unique_ids)"
   ]
  },
  {
   "cell_type": "code",
   "execution_count": 163,
   "id": "b15a446f-dde7-41d4-b26b-be5d633bd331",
   "metadata": {
    "collapsed": true,
    "jupyter": {
     "outputs_hidden": true
    },
    "tags": []
   },
   "outputs": [
    {
     "data": {
      "text/html": [
       "<div>\n",
       "<style scoped>\n",
       "    .dataframe tbody tr th:only-of-type {\n",
       "        vertical-align: middle;\n",
       "    }\n",
       "\n",
       "    .dataframe tbody tr th {\n",
       "        vertical-align: top;\n",
       "    }\n",
       "\n",
       "    .dataframe thead tr th {\n",
       "        text-align: left;\n",
       "    }\n",
       "\n",
       "    .dataframe thead tr:last-of-type th {\n",
       "        text-align: right;\n",
       "    }\n",
       "</style>\n",
       "<table border=\"1\" class=\"dataframe\">\n",
       "  <thead>\n",
       "    <tr>\n",
       "      <th></th>\n",
       "      <th>RestrictionUpdate</th>\n",
       "      <th colspan=\"4\" halign=\"left\">R</th>\n",
       "      <th colspan=\"4\" halign=\"left\">U</th>\n",
       "      <th colspan=\"2\" halign=\"left\">missingdata</th>\n",
       "    </tr>\n",
       "    <tr>\n",
       "      <th></th>\n",
       "      <th>ATMF</th>\n",
       "      <th>compedVisitor</th>\n",
       "      <th>domestic</th>\n",
       "      <th>international</th>\n",
       "      <th>unknown</th>\n",
       "      <th>compedVisitor</th>\n",
       "      <th>domestic</th>\n",
       "      <th>international</th>\n",
       "      <th>unknown</th>\n",
       "      <th>domestic</th>\n",
       "      <th>international</th>\n",
       "    </tr>\n",
       "    <tr>\n",
       "      <th>OrgL3DivisionNode</th>\n",
       "      <th>OrgL4DepartmentDesc</th>\n",
       "      <th></th>\n",
       "      <th></th>\n",
       "      <th></th>\n",
       "      <th></th>\n",
       "      <th></th>\n",
       "      <th></th>\n",
       "      <th></th>\n",
       "      <th></th>\n",
       "      <th></th>\n",
       "      <th></th>\n",
       "    </tr>\n",
       "  </thead>\n",
       "  <tbody>\n",
       "    <tr>\n",
       "      <th>ACCTL</th>\n",
       "      <th>Ctrl Ops Travel &amp; Ent</th>\n",
       "      <td>6.0</td>\n",
       "      <td>39.0</td>\n",
       "      <td>11.0</td>\n",
       "      <td>NaN</td>\n",
       "      <td>NaN</td>\n",
       "      <td>46.0</td>\n",
       "      <td>7.0</td>\n",
       "      <td>NaN</td>\n",
       "      <td>NaN</td>\n",
       "      <td>NaN</td>\n",
       "    </tr>\n",
       "    <tr>\n",
       "      <th>ATHLE</th>\n",
       "      <th>Intercollegiate Athletics</th>\n",
       "      <td>NaN</td>\n",
       "      <td>NaN</td>\n",
       "      <td>NaN</td>\n",
       "      <td>NaN</td>\n",
       "      <td>NaN</td>\n",
       "      <td>66.0</td>\n",
       "      <td>7.0</td>\n",
       "      <td>NaN</td>\n",
       "      <td>NaN</td>\n",
       "      <td>NaN</td>\n",
       "    </tr>\n",
       "    <tr>\n",
       "      <th rowspan=\"2\" valign=\"top\">CALPF</th>\n",
       "      <th>Cal Performances</th>\n",
       "      <td>NaN</td>\n",
       "      <td>1.0</td>\n",
       "      <td>NaN</td>\n",
       "      <td>NaN</td>\n",
       "      <td>NaN</td>\n",
       "      <td>22.0</td>\n",
       "      <td>1.0</td>\n",
       "      <td>NaN</td>\n",
       "      <td>NaN</td>\n",
       "      <td>NaN</td>\n",
       "    </tr>\n",
       "    <tr>\n",
       "      <th>Student Musical Activities</th>\n",
       "      <td>NaN</td>\n",
       "      <td>19.0</td>\n",
       "      <td>NaN</td>\n",
       "      <td>7.0</td>\n",
       "      <td>NaN</td>\n",
       "      <td>NaN</td>\n",
       "      <td>NaN</td>\n",
       "      <td>NaN</td>\n",
       "      <td>NaN</td>\n",
       "      <td>NaN</td>\n",
       "    </tr>\n",
       "    <tr>\n",
       "      <th>CENVD</th>\n",
       "      <th>City &amp; Regional Planning</th>\n",
       "      <td>NaN</td>\n",
       "      <td>1.0</td>\n",
       "      <td>NaN</td>\n",
       "      <td>NaN</td>\n",
       "      <td>NaN</td>\n",
       "      <td>14.0</td>\n",
       "      <td>11.0</td>\n",
       "      <td>NaN</td>\n",
       "      <td>NaN</td>\n",
       "      <td>NaN</td>\n",
       "    </tr>\n",
       "    <tr>\n",
       "      <th>...</th>\n",
       "      <th>...</th>\n",
       "      <td>...</td>\n",
       "      <td>...</td>\n",
       "      <td>...</td>\n",
       "      <td>...</td>\n",
       "      <td>...</td>\n",
       "      <td>...</td>\n",
       "      <td>...</td>\n",
       "      <td>...</td>\n",
       "      <td>...</td>\n",
       "      <td>...</td>\n",
       "    </tr>\n",
       "    <tr>\n",
       "      <th rowspan=\"4\" valign=\"top\">VPAPF</th>\n",
       "      <th>American Cultures</th>\n",
       "      <td>NaN</td>\n",
       "      <td>NaN</td>\n",
       "      <td>NaN</td>\n",
       "      <td>NaN</td>\n",
       "      <td>NaN</td>\n",
       "      <td>3.0</td>\n",
       "      <td>NaN</td>\n",
       "      <td>NaN</td>\n",
       "      <td>NaN</td>\n",
       "      <td>NaN</td>\n",
       "    </tr>\n",
       "    <tr>\n",
       "      <th>Berkeley Changemaker</th>\n",
       "      <td>NaN</td>\n",
       "      <td>1.0</td>\n",
       "      <td>NaN</td>\n",
       "      <td>NaN</td>\n",
       "      <td>NaN</td>\n",
       "      <td>NaN</td>\n",
       "      <td>NaN</td>\n",
       "      <td>NaN</td>\n",
       "      <td>NaN</td>\n",
       "      <td>NaN</td>\n",
       "    </tr>\n",
       "    <tr>\n",
       "      <th>Research Teaching and Learning</th>\n",
       "      <td>NaN</td>\n",
       "      <td>22.0</td>\n",
       "      <td>1.0</td>\n",
       "      <td>NaN</td>\n",
       "      <td>NaN</td>\n",
       "      <td>12.0</td>\n",
       "      <td>NaN</td>\n",
       "      <td>NaN</td>\n",
       "      <td>NaN</td>\n",
       "      <td>NaN</td>\n",
       "    </tr>\n",
       "    <tr>\n",
       "      <th>Undergrad Edu Administration</th>\n",
       "      <td>NaN</td>\n",
       "      <td>1.0</td>\n",
       "      <td>NaN</td>\n",
       "      <td>NaN</td>\n",
       "      <td>NaN</td>\n",
       "      <td>3.0</td>\n",
       "      <td>NaN</td>\n",
       "      <td>NaN</td>\n",
       "      <td>NaN</td>\n",
       "      <td>NaN</td>\n",
       "    </tr>\n",
       "    <tr>\n",
       "      <th>VR1GD</th>\n",
       "      <th>Graduate Division Ops</th>\n",
       "      <td>NaN</td>\n",
       "      <td>9.0</td>\n",
       "      <td>1.0</td>\n",
       "      <td>NaN</td>\n",
       "      <td>NaN</td>\n",
       "      <td>59.0</td>\n",
       "      <td>3.0</td>\n",
       "      <td>NaN</td>\n",
       "      <td>NaN</td>\n",
       "      <td>NaN</td>\n",
       "    </tr>\n",
       "  </tbody>\n",
       "</table>\n",
       "<p>239 rows × 10 columns</p>\n",
       "</div>"
      ],
      "text/plain": [
       "RestrictionUpdate                                            R           \\\n",
       "ATMF                                             compedVisitor domestic   \n",
       "OrgL3DivisionNode OrgL4DepartmentDesc                                     \n",
       "ACCTL             Ctrl Ops Travel & Ent                    6.0     39.0   \n",
       "ATHLE             Intercollegiate Athletics                NaN      NaN   \n",
       "CALPF             Cal Performances                         NaN      1.0   \n",
       "                  Student Musical Activities               NaN     19.0   \n",
       "CENVD             City & Regional Planning                 NaN      1.0   \n",
       "...                                                        ...      ...   \n",
       "VPAPF             American Cultures                        NaN      NaN   \n",
       "                  Berkeley Changemaker                     NaN      1.0   \n",
       "                  Research Teaching and Learning           NaN     22.0   \n",
       "                  Undergrad Edu Administration             NaN      1.0   \n",
       "VR1GD             Graduate Division Ops                    NaN      9.0   \n",
       "\n",
       "RestrictionUpdate                                                       \\\n",
       "ATMF                                             international unknown   \n",
       "OrgL3DivisionNode OrgL4DepartmentDesc                                    \n",
       "ACCTL             Ctrl Ops Travel & Ent                   11.0     NaN   \n",
       "ATHLE             Intercollegiate Athletics                NaN     NaN   \n",
       "CALPF             Cal Performances                         NaN     NaN   \n",
       "                  Student Musical Activities               NaN     7.0   \n",
       "CENVD             City & Regional Planning                 NaN     NaN   \n",
       "...                                                        ...     ...   \n",
       "VPAPF             American Cultures                        NaN     NaN   \n",
       "                  Berkeley Changemaker                     NaN     NaN   \n",
       "                  Research Teaching and Learning           1.0     NaN   \n",
       "                  Undergrad Edu Administration             NaN     NaN   \n",
       "VR1GD             Graduate Division Ops                    1.0     NaN   \n",
       "\n",
       "RestrictionUpdate                                            U           \\\n",
       "ATMF                                             compedVisitor domestic   \n",
       "OrgL3DivisionNode OrgL4DepartmentDesc                                     \n",
       "ACCTL             Ctrl Ops Travel & Ent                    NaN     46.0   \n",
       "ATHLE             Intercollegiate Athletics                NaN     66.0   \n",
       "CALPF             Cal Performances                         NaN     22.0   \n",
       "                  Student Musical Activities               NaN      NaN   \n",
       "CENVD             City & Regional Planning                 NaN     14.0   \n",
       "...                                                        ...      ...   \n",
       "VPAPF             American Cultures                        NaN      3.0   \n",
       "                  Berkeley Changemaker                     NaN      NaN   \n",
       "                  Research Teaching and Learning           NaN     12.0   \n",
       "                  Undergrad Edu Administration             NaN      3.0   \n",
       "VR1GD             Graduate Division Ops                    NaN     59.0   \n",
       "\n",
       "RestrictionUpdate                                                       \\\n",
       "ATMF                                             international unknown   \n",
       "OrgL3DivisionNode OrgL4DepartmentDesc                                    \n",
       "ACCTL             Ctrl Ops Travel & Ent                    7.0     NaN   \n",
       "ATHLE             Intercollegiate Athletics                7.0     NaN   \n",
       "CALPF             Cal Performances                         1.0     NaN   \n",
       "                  Student Musical Activities               NaN     NaN   \n",
       "CENVD             City & Regional Planning                11.0     NaN   \n",
       "...                                                        ...     ...   \n",
       "VPAPF             American Cultures                        NaN     NaN   \n",
       "                  Berkeley Changemaker                     NaN     NaN   \n",
       "                  Research Teaching and Learning           NaN     NaN   \n",
       "                  Undergrad Edu Administration             NaN     NaN   \n",
       "VR1GD             Graduate Division Ops                    3.0     NaN   \n",
       "\n",
       "RestrictionUpdate                                missingdata                \n",
       "ATMF                                                domestic international  \n",
       "OrgL3DivisionNode OrgL4DepartmentDesc                                       \n",
       "ACCTL             Ctrl Ops Travel & Ent                  NaN           NaN  \n",
       "ATHLE             Intercollegiate Athletics              NaN           NaN  \n",
       "CALPF             Cal Performances                       NaN           NaN  \n",
       "                  Student Musical Activities             NaN           NaN  \n",
       "CENVD             City & Regional Planning               NaN           NaN  \n",
       "...                                                      ...           ...  \n",
       "VPAPF             American Cultures                      NaN           NaN  \n",
       "                  Berkeley Changemaker                   NaN           NaN  \n",
       "                  Research Teaching and Learning         NaN           NaN  \n",
       "                  Undergrad Edu Administration           NaN           NaN  \n",
       "VR1GD             Graduate Division Ops                  NaN           NaN  \n",
       "\n",
       "[239 rows x 10 columns]"
      ]
     },
     "execution_count": 163,
     "metadata": {},
     "output_type": "execute_result"
    }
   ],
   "source": [
    "pivot_all_units"
   ]
  },
  {
   "cell_type": "code",
   "execution_count": 164,
   "id": "63cee816-8048-490d-9665-b5925500ed8f",
   "metadata": {
    "collapsed": true,
    "jupyter": {
     "outputs_hidden": true
    },
    "tags": []
   },
   "outputs": [
    {
     "data": {
      "text/html": [
       "<div>\n",
       "<style scoped>\n",
       "    .dataframe tbody tr th:only-of-type {\n",
       "        vertical-align: middle;\n",
       "    }\n",
       "\n",
       "    .dataframe tbody tr th {\n",
       "        vertical-align: top;\n",
       "    }\n",
       "\n",
       "    .dataframe thead tr th {\n",
       "        text-align: left;\n",
       "    }\n",
       "\n",
       "    .dataframe thead tr:last-of-type th {\n",
       "        text-align: right;\n",
       "    }\n",
       "</style>\n",
       "<table border=\"1\" class=\"dataframe\">\n",
       "  <thead>\n",
       "    <tr>\n",
       "      <th>RestrictionUpdate</th>\n",
       "      <th colspan=\"4\" halign=\"left\">R</th>\n",
       "      <th colspan=\"4\" halign=\"left\">U</th>\n",
       "      <th colspan=\"2\" halign=\"left\">missingdata</th>\n",
       "    </tr>\n",
       "    <tr>\n",
       "      <th>ATMF</th>\n",
       "      <th>compedVisitor</th>\n",
       "      <th>domestic</th>\n",
       "      <th>international</th>\n",
       "      <th>unknown</th>\n",
       "      <th>compedVisitor</th>\n",
       "      <th>domestic</th>\n",
       "      <th>international</th>\n",
       "      <th>unknown</th>\n",
       "      <th>domestic</th>\n",
       "      <th>international</th>\n",
       "    </tr>\n",
       "    <tr>\n",
       "      <th>OrgL3DivisionNode</th>\n",
       "      <th></th>\n",
       "      <th></th>\n",
       "      <th></th>\n",
       "      <th></th>\n",
       "      <th></th>\n",
       "      <th></th>\n",
       "      <th></th>\n",
       "      <th></th>\n",
       "      <th></th>\n",
       "      <th></th>\n",
       "    </tr>\n",
       "  </thead>\n",
       "  <tbody>\n",
       "    <tr>\n",
       "      <th>ACCTL</th>\n",
       "      <td>6.0</td>\n",
       "      <td>39.0</td>\n",
       "      <td>11.0</td>\n",
       "      <td>NaN</td>\n",
       "      <td>NaN</td>\n",
       "      <td>46.0</td>\n",
       "      <td>7.0</td>\n",
       "      <td>NaN</td>\n",
       "      <td>NaN</td>\n",
       "      <td>NaN</td>\n",
       "    </tr>\n",
       "    <tr>\n",
       "      <th>ATHLE</th>\n",
       "      <td>NaN</td>\n",
       "      <td>NaN</td>\n",
       "      <td>NaN</td>\n",
       "      <td>NaN</td>\n",
       "      <td>NaN</td>\n",
       "      <td>66.0</td>\n",
       "      <td>7.0</td>\n",
       "      <td>NaN</td>\n",
       "      <td>NaN</td>\n",
       "      <td>NaN</td>\n",
       "    </tr>\n",
       "    <tr>\n",
       "      <th>CALPF</th>\n",
       "      <td>NaN</td>\n",
       "      <td>20.0</td>\n",
       "      <td>NaN</td>\n",
       "      <td>7.0</td>\n",
       "      <td>NaN</td>\n",
       "      <td>22.0</td>\n",
       "      <td>1.0</td>\n",
       "      <td>NaN</td>\n",
       "      <td>NaN</td>\n",
       "      <td>NaN</td>\n",
       "    </tr>\n",
       "    <tr>\n",
       "      <th>CENVD</th>\n",
       "      <td>NaN</td>\n",
       "      <td>115.0</td>\n",
       "      <td>23.0</td>\n",
       "      <td>1.0</td>\n",
       "      <td>NaN</td>\n",
       "      <td>72.0</td>\n",
       "      <td>26.0</td>\n",
       "      <td>NaN</td>\n",
       "      <td>NaN</td>\n",
       "      <td>NaN</td>\n",
       "    </tr>\n",
       "    <tr>\n",
       "      <th>CHANL</th>\n",
       "      <td>NaN</td>\n",
       "      <td>5.0</td>\n",
       "      <td>NaN</td>\n",
       "      <td>NaN</td>\n",
       "      <td>NaN</td>\n",
       "      <td>39.0</td>\n",
       "      <td>1.0</td>\n",
       "      <td>1.0</td>\n",
       "      <td>NaN</td>\n",
       "      <td>NaN</td>\n",
       "    </tr>\n",
       "    <tr>\n",
       "      <th>CO1NR</th>\n",
       "      <td>2.0</td>\n",
       "      <td>389.0</td>\n",
       "      <td>120.0</td>\n",
       "      <td>1.0</td>\n",
       "      <td>NaN</td>\n",
       "      <td>57.0</td>\n",
       "      <td>13.0</td>\n",
       "      <td>NaN</td>\n",
       "      <td>3.0</td>\n",
       "      <td>NaN</td>\n",
       "    </tr>\n",
       "    <tr>\n",
       "      <th>COCHM</th>\n",
       "      <td>10.0</td>\n",
       "      <td>361.0</td>\n",
       "      <td>78.0</td>\n",
       "      <td>NaN</td>\n",
       "      <td>NaN</td>\n",
       "      <td>47.0</td>\n",
       "      <td>12.0</td>\n",
       "      <td>NaN</td>\n",
       "      <td>NaN</td>\n",
       "      <td>NaN</td>\n",
       "    </tr>\n",
       "    <tr>\n",
       "      <th>COENG</th>\n",
       "      <td>73.0</td>\n",
       "      <td>1305.0</td>\n",
       "      <td>693.0</td>\n",
       "      <td>2.0</td>\n",
       "      <td>NaN</td>\n",
       "      <td>205.0</td>\n",
       "      <td>95.0</td>\n",
       "      <td>NaN</td>\n",
       "      <td>2.0</td>\n",
       "      <td>1.0</td>\n",
       "    </tr>\n",
       "    <tr>\n",
       "      <th>DSDIV</th>\n",
       "      <td>22.0</td>\n",
       "      <td>78.0</td>\n",
       "      <td>27.0</td>\n",
       "      <td>NaN</td>\n",
       "      <td>NaN</td>\n",
       "      <td>31.0</td>\n",
       "      <td>15.0</td>\n",
       "      <td>NaN</td>\n",
       "      <td>NaN</td>\n",
       "      <td>NaN</td>\n",
       "    </tr>\n",
       "    <tr>\n",
       "      <th>EVCP3</th>\n",
       "      <td>NaN</td>\n",
       "      <td>NaN</td>\n",
       "      <td>NaN</td>\n",
       "      <td>NaN</td>\n",
       "      <td>NaN</td>\n",
       "      <td>2.0</td>\n",
       "      <td>NaN</td>\n",
       "      <td>NaN</td>\n",
       "      <td>NaN</td>\n",
       "      <td>NaN</td>\n",
       "    </tr>\n",
       "    <tr>\n",
       "      <th>GSCPP</th>\n",
       "      <td>1.0</td>\n",
       "      <td>149.0</td>\n",
       "      <td>31.0</td>\n",
       "      <td>NaN</td>\n",
       "      <td>NaN</td>\n",
       "      <td>30.0</td>\n",
       "      <td>12.0</td>\n",
       "      <td>NaN</td>\n",
       "      <td>NaN</td>\n",
       "      <td>NaN</td>\n",
       "    </tr>\n",
       "    <tr>\n",
       "      <th>HAAS3</th>\n",
       "      <td>NaN</td>\n",
       "      <td>425.0</td>\n",
       "      <td>156.0</td>\n",
       "      <td>NaN</td>\n",
       "      <td>NaN</td>\n",
       "      <td>249.0</td>\n",
       "      <td>95.0</td>\n",
       "      <td>NaN</td>\n",
       "      <td>1.0</td>\n",
       "      <td>NaN</td>\n",
       "    </tr>\n",
       "    <tr>\n",
       "      <th>LS1BS</th>\n",
       "      <td>3.0</td>\n",
       "      <td>303.0</td>\n",
       "      <td>129.0</td>\n",
       "      <td>NaN</td>\n",
       "      <td>NaN</td>\n",
       "      <td>119.0</td>\n",
       "      <td>27.0</td>\n",
       "      <td>NaN</td>\n",
       "      <td>3.0</td>\n",
       "      <td>13.0</td>\n",
       "    </tr>\n",
       "    <tr>\n",
       "      <th>LS1HU</th>\n",
       "      <td>NaN</td>\n",
       "      <td>387.0</td>\n",
       "      <td>197.0</td>\n",
       "      <td>2.0</td>\n",
       "      <td>NaN</td>\n",
       "      <td>153.0</td>\n",
       "      <td>108.0</td>\n",
       "      <td>NaN</td>\n",
       "      <td>2.0</td>\n",
       "      <td>NaN</td>\n",
       "    </tr>\n",
       "    <tr>\n",
       "      <th>LS1PS</th>\n",
       "      <td>55.0</td>\n",
       "      <td>602.0</td>\n",
       "      <td>260.0</td>\n",
       "      <td>NaN</td>\n",
       "      <td>NaN</td>\n",
       "      <td>178.0</td>\n",
       "      <td>52.0</td>\n",
       "      <td>NaN</td>\n",
       "      <td>3.0</td>\n",
       "      <td>1.0</td>\n",
       "    </tr>\n",
       "    <tr>\n",
       "      <th>LS1SS</th>\n",
       "      <td>NaN</td>\n",
       "      <td>533.0</td>\n",
       "      <td>243.0</td>\n",
       "      <td>NaN</td>\n",
       "      <td>NaN</td>\n",
       "      <td>385.0</td>\n",
       "      <td>156.0</td>\n",
       "      <td>2.0</td>\n",
       "      <td>2.0</td>\n",
       "      <td>NaN</td>\n",
       "    </tr>\n",
       "    <tr>\n",
       "      <th>LS1UI</th>\n",
       "      <td>NaN</td>\n",
       "      <td>10.0</td>\n",
       "      <td>NaN</td>\n",
       "      <td>NaN</td>\n",
       "      <td>NaN</td>\n",
       "      <td>16.0</td>\n",
       "      <td>4.0</td>\n",
       "      <td>NaN</td>\n",
       "      <td>NaN</td>\n",
       "      <td>NaN</td>\n",
       "    </tr>\n",
       "    <tr>\n",
       "      <th>MU1FA</th>\n",
       "      <td>NaN</td>\n",
       "      <td>38.0</td>\n",
       "      <td>12.0</td>\n",
       "      <td>3.0</td>\n",
       "      <td>NaN</td>\n",
       "      <td>7.0</td>\n",
       "      <td>NaN</td>\n",
       "      <td>NaN</td>\n",
       "      <td>NaN</td>\n",
       "      <td>NaN</td>\n",
       "    </tr>\n",
       "    <tr>\n",
       "      <th>OT1VP</th>\n",
       "      <td>NaN</td>\n",
       "      <td>8.0</td>\n",
       "      <td>NaN</td>\n",
       "      <td>NaN</td>\n",
       "      <td>NaN</td>\n",
       "      <td>21.0</td>\n",
       "      <td>16.0</td>\n",
       "      <td>NaN</td>\n",
       "      <td>NaN</td>\n",
       "      <td>NaN</td>\n",
       "    </tr>\n",
       "    <tr>\n",
       "      <th>SAFP3</th>\n",
       "      <td>NaN</td>\n",
       "      <td>NaN</td>\n",
       "      <td>NaN</td>\n",
       "      <td>NaN</td>\n",
       "      <td>NaN</td>\n",
       "      <td>31.0</td>\n",
       "      <td>4.0</td>\n",
       "      <td>NaN</td>\n",
       "      <td>NaN</td>\n",
       "      <td>NaN</td>\n",
       "    </tr>\n",
       "    <tr>\n",
       "      <th>SC1OP</th>\n",
       "      <td>NaN</td>\n",
       "      <td>98.0</td>\n",
       "      <td>12.0</td>\n",
       "      <td>NaN</td>\n",
       "      <td>NaN</td>\n",
       "      <td>44.0</td>\n",
       "      <td>2.0</td>\n",
       "      <td>NaN</td>\n",
       "      <td>NaN</td>\n",
       "      <td>NaN</td>\n",
       "    </tr>\n",
       "    <tr>\n",
       "      <th>SC1PH</th>\n",
       "      <td>1.0</td>\n",
       "      <td>278.0</td>\n",
       "      <td>97.0</td>\n",
       "      <td>NaN</td>\n",
       "      <td>NaN</td>\n",
       "      <td>74.0</td>\n",
       "      <td>27.0</td>\n",
       "      <td>NaN</td>\n",
       "      <td>1.0</td>\n",
       "      <td>NaN</td>\n",
       "    </tr>\n",
       "    <tr>\n",
       "      <th>SCEDU</th>\n",
       "      <td>NaN</td>\n",
       "      <td>149.0</td>\n",
       "      <td>34.0</td>\n",
       "      <td>NaN</td>\n",
       "      <td>NaN</td>\n",
       "      <td>54.0</td>\n",
       "      <td>7.0</td>\n",
       "      <td>NaN</td>\n",
       "      <td>NaN</td>\n",
       "      <td>NaN</td>\n",
       "    </tr>\n",
       "    <tr>\n",
       "      <th>SCHSW</th>\n",
       "      <td>NaN</td>\n",
       "      <td>63.0</td>\n",
       "      <td>8.0</td>\n",
       "      <td>NaN</td>\n",
       "      <td>NaN</td>\n",
       "      <td>22.0</td>\n",
       "      <td>2.0</td>\n",
       "      <td>NaN</td>\n",
       "      <td>1.0</td>\n",
       "      <td>NaN</td>\n",
       "    </tr>\n",
       "    <tr>\n",
       "      <th>SCJOU</th>\n",
       "      <td>NaN</td>\n",
       "      <td>47.0</td>\n",
       "      <td>7.0</td>\n",
       "      <td>NaN</td>\n",
       "      <td>NaN</td>\n",
       "      <td>20.0</td>\n",
       "      <td>8.0</td>\n",
       "      <td>NaN</td>\n",
       "      <td>NaN</td>\n",
       "      <td>1.0</td>\n",
       "    </tr>\n",
       "    <tr>\n",
       "      <th>SCLAW</th>\n",
       "      <td>NaN</td>\n",
       "      <td>328.0</td>\n",
       "      <td>103.0</td>\n",
       "      <td>1.0</td>\n",
       "      <td>NaN</td>\n",
       "      <td>490.0</td>\n",
       "      <td>74.0</td>\n",
       "      <td>NaN</td>\n",
       "      <td>2.0</td>\n",
       "      <td>2.0</td>\n",
       "    </tr>\n",
       "    <tr>\n",
       "      <th>SCSIM</th>\n",
       "      <td>1.0</td>\n",
       "      <td>35.0</td>\n",
       "      <td>46.0</td>\n",
       "      <td>NaN</td>\n",
       "      <td>NaN</td>\n",
       "      <td>34.0</td>\n",
       "      <td>10.0</td>\n",
       "      <td>NaN</td>\n",
       "      <td>NaN</td>\n",
       "      <td>NaN</td>\n",
       "    </tr>\n",
       "    <tr>\n",
       "      <th>SSALL</th>\n",
       "      <td>NaN</td>\n",
       "      <td>NaN</td>\n",
       "      <td>NaN</td>\n",
       "      <td>NaN</td>\n",
       "      <td>NaN</td>\n",
       "      <td>29.0</td>\n",
       "      <td>59.0</td>\n",
       "      <td>NaN</td>\n",
       "      <td>NaN</td>\n",
       "      <td>NaN</td>\n",
       "    </tr>\n",
       "    <tr>\n",
       "      <th>UCLIB</th>\n",
       "      <td>NaN</td>\n",
       "      <td>36.0</td>\n",
       "      <td>5.0</td>\n",
       "      <td>NaN</td>\n",
       "      <td>NaN</td>\n",
       "      <td>38.0</td>\n",
       "      <td>8.0</td>\n",
       "      <td>NaN</td>\n",
       "      <td>NaN</td>\n",
       "      <td>NaN</td>\n",
       "    </tr>\n",
       "    <tr>\n",
       "      <th>UCRLO</th>\n",
       "      <td>NaN</td>\n",
       "      <td>13.0</td>\n",
       "      <td>NaN</td>\n",
       "      <td>NaN</td>\n",
       "      <td>NaN</td>\n",
       "      <td>223.0</td>\n",
       "      <td>19.0</td>\n",
       "      <td>1.0</td>\n",
       "      <td>NaN</td>\n",
       "      <td>NaN</td>\n",
       "    </tr>\n",
       "    <tr>\n",
       "      <th>UNEX3</th>\n",
       "      <td>NaN</td>\n",
       "      <td>NaN</td>\n",
       "      <td>NaN</td>\n",
       "      <td>NaN</td>\n",
       "      <td>NaN</td>\n",
       "      <td>16.0</td>\n",
       "      <td>36.0</td>\n",
       "      <td>1.0</td>\n",
       "      <td>NaN</td>\n",
       "      <td>NaN</td>\n",
       "    </tr>\n",
       "    <tr>\n",
       "      <th>VCBAS</th>\n",
       "      <td>NaN</td>\n",
       "      <td>131.0</td>\n",
       "      <td>NaN</td>\n",
       "      <td>NaN</td>\n",
       "      <td>NaN</td>\n",
       "      <td>136.0</td>\n",
       "      <td>1.0</td>\n",
       "      <td>1.0</td>\n",
       "      <td>NaN</td>\n",
       "      <td>NaN</td>\n",
       "    </tr>\n",
       "    <tr>\n",
       "      <th>VCEI3</th>\n",
       "      <td>NaN</td>\n",
       "      <td>173.0</td>\n",
       "      <td>28.0</td>\n",
       "      <td>NaN</td>\n",
       "      <td>NaN</td>\n",
       "      <td>62.0</td>\n",
       "      <td>4.0</td>\n",
       "      <td>NaN</td>\n",
       "      <td>NaN</td>\n",
       "      <td>NaN</td>\n",
       "    </tr>\n",
       "    <tr>\n",
       "      <th>VCFIN</th>\n",
       "      <td>NaN</td>\n",
       "      <td>NaN</td>\n",
       "      <td>NaN</td>\n",
       "      <td>NaN</td>\n",
       "      <td>NaN</td>\n",
       "      <td>26.0</td>\n",
       "      <td>NaN</td>\n",
       "      <td>NaN</td>\n",
       "      <td>NaN</td>\n",
       "      <td>NaN</td>\n",
       "    </tr>\n",
       "    <tr>\n",
       "      <th>VCRAC</th>\n",
       "      <td>61.0</td>\n",
       "      <td>1427.0</td>\n",
       "      <td>587.0</td>\n",
       "      <td>15.0</td>\n",
       "      <td>NaN</td>\n",
       "      <td>129.0</td>\n",
       "      <td>35.0</td>\n",
       "      <td>4.0</td>\n",
       "      <td>15.0</td>\n",
       "      <td>2.0</td>\n",
       "    </tr>\n",
       "    <tr>\n",
       "      <th>VCRAU</th>\n",
       "      <td>NaN</td>\n",
       "      <td>17.0</td>\n",
       "      <td>8.0</td>\n",
       "      <td>NaN</td>\n",
       "      <td>NaN</td>\n",
       "      <td>49.0</td>\n",
       "      <td>9.0</td>\n",
       "      <td>NaN</td>\n",
       "      <td>NaN</td>\n",
       "      <td>NaN</td>\n",
       "    </tr>\n",
       "    <tr>\n",
       "      <th>VCRMS</th>\n",
       "      <td>52.0</td>\n",
       "      <td>100.0</td>\n",
       "      <td>31.0</td>\n",
       "      <td>NaN</td>\n",
       "      <td>NaN</td>\n",
       "      <td>47.0</td>\n",
       "      <td>3.0</td>\n",
       "      <td>NaN</td>\n",
       "      <td>1.0</td>\n",
       "      <td>NaN</td>\n",
       "    </tr>\n",
       "    <tr>\n",
       "      <th>VCUGA</th>\n",
       "      <td>24.0</td>\n",
       "      <td>346.0</td>\n",
       "      <td>2.0</td>\n",
       "      <td>1.0</td>\n",
       "      <td>14.0</td>\n",
       "      <td>724.0</td>\n",
       "      <td>14.0</td>\n",
       "      <td>1.0</td>\n",
       "      <td>NaN</td>\n",
       "      <td>NaN</td>\n",
       "    </tr>\n",
       "    <tr>\n",
       "      <th>VPAPF</th>\n",
       "      <td>NaN</td>\n",
       "      <td>24.0</td>\n",
       "      <td>1.0</td>\n",
       "      <td>NaN</td>\n",
       "      <td>NaN</td>\n",
       "      <td>18.0</td>\n",
       "      <td>NaN</td>\n",
       "      <td>NaN</td>\n",
       "      <td>NaN</td>\n",
       "      <td>NaN</td>\n",
       "    </tr>\n",
       "    <tr>\n",
       "      <th>VR1GD</th>\n",
       "      <td>NaN</td>\n",
       "      <td>9.0</td>\n",
       "      <td>1.0</td>\n",
       "      <td>NaN</td>\n",
       "      <td>NaN</td>\n",
       "      <td>59.0</td>\n",
       "      <td>3.0</td>\n",
       "      <td>NaN</td>\n",
       "      <td>NaN</td>\n",
       "      <td>NaN</td>\n",
       "    </tr>\n",
       "  </tbody>\n",
       "</table>\n",
       "</div>"
      ],
      "text/plain": [
       "RestrictionUpdate             R                                            U  \\\n",
       "ATMF              compedVisitor domestic international unknown compedVisitor   \n",
       "OrgL3DivisionNode                                                              \n",
       "ACCTL                       6.0     39.0          11.0     NaN           NaN   \n",
       "ATHLE                       NaN      NaN           NaN     NaN           NaN   \n",
       "CALPF                       NaN     20.0           NaN     7.0           NaN   \n",
       "CENVD                       NaN    115.0          23.0     1.0           NaN   \n",
       "CHANL                       NaN      5.0           NaN     NaN           NaN   \n",
       "CO1NR                       2.0    389.0         120.0     1.0           NaN   \n",
       "COCHM                      10.0    361.0          78.0     NaN           NaN   \n",
       "COENG                      73.0   1305.0         693.0     2.0           NaN   \n",
       "DSDIV                      22.0     78.0          27.0     NaN           NaN   \n",
       "EVCP3                       NaN      NaN           NaN     NaN           NaN   \n",
       "GSCPP                       1.0    149.0          31.0     NaN           NaN   \n",
       "HAAS3                       NaN    425.0         156.0     NaN           NaN   \n",
       "LS1BS                       3.0    303.0         129.0     NaN           NaN   \n",
       "LS1HU                       NaN    387.0         197.0     2.0           NaN   \n",
       "LS1PS                      55.0    602.0         260.0     NaN           NaN   \n",
       "LS1SS                       NaN    533.0         243.0     NaN           NaN   \n",
       "LS1UI                       NaN     10.0           NaN     NaN           NaN   \n",
       "MU1FA                       NaN     38.0          12.0     3.0           NaN   \n",
       "OT1VP                       NaN      8.0           NaN     NaN           NaN   \n",
       "SAFP3                       NaN      NaN           NaN     NaN           NaN   \n",
       "SC1OP                       NaN     98.0          12.0     NaN           NaN   \n",
       "SC1PH                       1.0    278.0          97.0     NaN           NaN   \n",
       "SCEDU                       NaN    149.0          34.0     NaN           NaN   \n",
       "SCHSW                       NaN     63.0           8.0     NaN           NaN   \n",
       "SCJOU                       NaN     47.0           7.0     NaN           NaN   \n",
       "SCLAW                       NaN    328.0         103.0     1.0           NaN   \n",
       "SCSIM                       1.0     35.0          46.0     NaN           NaN   \n",
       "SSALL                       NaN      NaN           NaN     NaN           NaN   \n",
       "UCLIB                       NaN     36.0           5.0     NaN           NaN   \n",
       "UCRLO                       NaN     13.0           NaN     NaN           NaN   \n",
       "UNEX3                       NaN      NaN           NaN     NaN           NaN   \n",
       "VCBAS                       NaN    131.0           NaN     NaN           NaN   \n",
       "VCEI3                       NaN    173.0          28.0     NaN           NaN   \n",
       "VCFIN                       NaN      NaN           NaN     NaN           NaN   \n",
       "VCRAC                      61.0   1427.0         587.0    15.0           NaN   \n",
       "VCRAU                       NaN     17.0           8.0     NaN           NaN   \n",
       "VCRMS                      52.0    100.0          31.0     NaN           NaN   \n",
       "VCUGA                      24.0    346.0           2.0     1.0          14.0   \n",
       "VPAPF                       NaN     24.0           1.0     NaN           NaN   \n",
       "VR1GD                       NaN      9.0           1.0     NaN           NaN   \n",
       "\n",
       "RestrictionUpdate                                missingdata                \n",
       "ATMF              domestic international unknown    domestic international  \n",
       "OrgL3DivisionNode                                                           \n",
       "ACCTL                 46.0           7.0     NaN         NaN           NaN  \n",
       "ATHLE                 66.0           7.0     NaN         NaN           NaN  \n",
       "CALPF                 22.0           1.0     NaN         NaN           NaN  \n",
       "CENVD                 72.0          26.0     NaN         NaN           NaN  \n",
       "CHANL                 39.0           1.0     1.0         NaN           NaN  \n",
       "CO1NR                 57.0          13.0     NaN         3.0           NaN  \n",
       "COCHM                 47.0          12.0     NaN         NaN           NaN  \n",
       "COENG                205.0          95.0     NaN         2.0           1.0  \n",
       "DSDIV                 31.0          15.0     NaN         NaN           NaN  \n",
       "EVCP3                  2.0           NaN     NaN         NaN           NaN  \n",
       "GSCPP                 30.0          12.0     NaN         NaN           NaN  \n",
       "HAAS3                249.0          95.0     NaN         1.0           NaN  \n",
       "LS1BS                119.0          27.0     NaN         3.0          13.0  \n",
       "LS1HU                153.0         108.0     NaN         2.0           NaN  \n",
       "LS1PS                178.0          52.0     NaN         3.0           1.0  \n",
       "LS1SS                385.0         156.0     2.0         2.0           NaN  \n",
       "LS1UI                 16.0           4.0     NaN         NaN           NaN  \n",
       "MU1FA                  7.0           NaN     NaN         NaN           NaN  \n",
       "OT1VP                 21.0          16.0     NaN         NaN           NaN  \n",
       "SAFP3                 31.0           4.0     NaN         NaN           NaN  \n",
       "SC1OP                 44.0           2.0     NaN         NaN           NaN  \n",
       "SC1PH                 74.0          27.0     NaN         1.0           NaN  \n",
       "SCEDU                 54.0           7.0     NaN         NaN           NaN  \n",
       "SCHSW                 22.0           2.0     NaN         1.0           NaN  \n",
       "SCJOU                 20.0           8.0     NaN         NaN           1.0  \n",
       "SCLAW                490.0          74.0     NaN         2.0           2.0  \n",
       "SCSIM                 34.0          10.0     NaN         NaN           NaN  \n",
       "SSALL                 29.0          59.0     NaN         NaN           NaN  \n",
       "UCLIB                 38.0           8.0     NaN         NaN           NaN  \n",
       "UCRLO                223.0          19.0     1.0         NaN           NaN  \n",
       "UNEX3                 16.0          36.0     1.0         NaN           NaN  \n",
       "VCBAS                136.0           1.0     1.0         NaN           NaN  \n",
       "VCEI3                 62.0           4.0     NaN         NaN           NaN  \n",
       "VCFIN                 26.0           NaN     NaN         NaN           NaN  \n",
       "VCRAC                129.0          35.0     4.0        15.0           2.0  \n",
       "VCRAU                 49.0           9.0     NaN         NaN           NaN  \n",
       "VCRMS                 47.0           3.0     NaN         1.0           NaN  \n",
       "VCUGA                724.0          14.0     1.0         NaN           NaN  \n",
       "VPAPF                 18.0           NaN     NaN         NaN           NaN  \n",
       "VR1GD                 59.0           3.0     NaN         NaN           NaN  "
      ]
     },
     "execution_count": 164,
     "metadata": {},
     "output_type": "execute_result"
    }
   ],
   "source": [
    "pivot_all_units_divisions"
   ]
  },
  {
   "cell_type": "code",
   "execution_count": 165,
   "id": "69d5e241-d922-4fe6-82c8-65c043737fad",
   "metadata": {
    "tags": []
   },
   "outputs": [],
   "source": [
    "pivot_all_units_divisions.to_csv('pivot_all_units_divisions_2023_8may24.csv', index = True, index_label=['OrgL3DivisionNode'])"
   ]
  },
  {
   "cell_type": "code",
   "execution_count": 166,
   "id": "d17006b0-eb55-4b8e-9bcc-1d78117bf4a8",
   "metadata": {
    "tags": []
   },
   "outputs": [],
   "source": [
    "pivot_all_units.to_csv('pivot_all_units_2023_8may24.csv', index = True, index_label=['OrgL3DivisionNode', 'OrgL4DepartmentDesc'])"
   ]
  },
  {
   "cell_type": "markdown",
   "id": "58e8b57d-cc49-4446-b58e-bb4d71b0c2d7",
   "metadata": {},
   "source": [
    "**Create a pivot that shows all fund values associated with account 57239 - stagingArea**"
   ]
  },
  {
   "cell_type": "code",
   "execution_count": 48,
   "id": "67319e39-acb9-4ef1-975c-440273cb44be",
   "metadata": {
    "tags": []
   },
   "outputs": [],
   "source": [
    "#stagingArea_filter = TotalFlights2023_merged[TotalFlights2023_merged['Account'] == 57239]"
   ]
  },
  {
   "cell_type": "code",
   "execution_count": 60,
   "id": "3c906367-efeb-464d-91bd-c6d774e2062d",
   "metadata": {
    "collapsed": true,
    "jupyter": {
     "outputs_hidden": true
    },
    "tags": []
   },
   "outputs": [
    {
     "data": {
      "text/plain": [
       "(6870, 26)"
      ]
     },
     "execution_count": 60,
     "metadata": {},
     "output_type": "execute_result"
    }
   ],
   "source": [
    "#stagingArea_filter.shape"
   ]
  },
  {
   "cell_type": "code",
   "execution_count": 63,
   "id": "6882baf3-d14f-4679-8b9e-9e07dafea2c2",
   "metadata": {
    "tags": []
   },
   "outputs": [],
   "source": [
    "#pivot_stagingArea = pd.pivot_table(stagingArea_filter, values = 'Fund', columns = ['Account','which_agency'], aggfunc='count')"
   ]
  },
  {
   "cell_type": "code",
   "execution_count": 64,
   "id": "26226246-6117-4ced-9ce8-3bdb95099585",
   "metadata": {
    "collapsed": true,
    "jupyter": {
     "outputs_hidden": true
    },
    "tags": []
   },
   "outputs": [
    {
     "data": {
      "text/html": [
       "<div>\n",
       "<style scoped>\n",
       "    .dataframe tbody tr th:only-of-type {\n",
       "        vertical-align: middle;\n",
       "    }\n",
       "\n",
       "    .dataframe tbody tr th {\n",
       "        vertical-align: top;\n",
       "    }\n",
       "\n",
       "    .dataframe thead tr th {\n",
       "        text-align: left;\n",
       "    }\n",
       "</style>\n",
       "<table border=\"1\" class=\"dataframe\">\n",
       "  <thead>\n",
       "    <tr>\n",
       "      <th>Account</th>\n",
       "      <th colspan=\"2\" halign=\"left\">57239</th>\n",
       "    </tr>\n",
       "    <tr>\n",
       "      <th>which_agency</th>\n",
       "      <th>BCD</th>\n",
       "      <th>UCTC</th>\n",
       "    </tr>\n",
       "  </thead>\n",
       "  <tbody>\n",
       "    <tr>\n",
       "      <th>Fund</th>\n",
       "      <td>1702</td>\n",
       "      <td>5168</td>\n",
       "    </tr>\n",
       "  </tbody>\n",
       "</table>\n",
       "</div>"
      ],
      "text/plain": [
       "Account      57239      \n",
       "which_agency   BCD  UCTC\n",
       "Fund          1702  5168"
      ]
     },
     "execution_count": 64,
     "metadata": {},
     "output_type": "execute_result"
    }
   ],
   "source": [
    "#pivot_stagingArea"
   ]
  },
  {
   "cell_type": "code",
   "execution_count": 55,
   "id": "12594037-07be-422d-bcde-3df0717ae27e",
   "metadata": {
    "tags": []
   },
   "outputs": [],
   "source": [
    "#pivot_stagingArea_count = pd.pivot_table(stagingArea_filter, values = 'Fund', columns = 'Account', aggfunc=list)"
   ]
  },
  {
   "cell_type": "code",
   "execution_count": 56,
   "id": "f9322243-c46e-4605-9e0b-c5b2dbe7a7f2",
   "metadata": {
    "tags": []
   },
   "outputs": [],
   "source": [
    "#pivot_stagingArea_count = pivot_stagingArea_count.apply(pd.Series.explode)"
   ]
  },
  {
   "cell_type": "code",
   "execution_count": 57,
   "id": "b193ec22-d370-41ae-9bc6-9804f9ec13c4",
   "metadata": {
    "tags": []
   },
   "outputs": [],
   "source": [
    "#unique_fund_stagingArea = pivot_stagingArea_count[57239].unique()"
   ]
  },
  {
   "cell_type": "code",
   "execution_count": 58,
   "id": "a4605075-59d0-4844-83dd-500e3da35298",
   "metadata": {
    "tags": []
   },
   "outputs": [
    {
     "data": {
      "text/plain": [
       "array([69995], dtype=object)"
      ]
     },
     "execution_count": 58,
     "metadata": {},
     "output_type": "execute_result"
    }
   ],
   "source": [
    "#unique_fund_stagingArea"
   ]
  },
  {
   "cell_type": "markdown",
   "id": "5b0ea8e6-3409-4394-a34b-886f86013cf7",
   "metadata": {},
   "source": [
    "**Defining more indices here**"
   ]
  },
  {
   "cell_type": "code",
   "execution_count": 2,
   "id": "ee5d0070-8867-48c3-96d3-6ce630fd8bef",
   "metadata": {
    "tags": []
   },
   "outputs": [],
   "source": [
    "optin_units = ['CO1NR', 'COCHM', 'COENG', 'COL1S', 'DSDIV', 'EVCP3', 'GSCPP', 'HAAS3', 'LS1PS', 'LS1UI', 'OT1VP', 'SCEDU', 'SCLAW', 'SSALL', 'UCRLO', 'UNEX3', 'VCBAS', 'VCEI3', 'VCRAC', 'VCRAU', 'VCRMS', 'VCUGA', 'VR1GD']"
   ]
  },
  {
   "cell_type": "code",
   "execution_count": 3,
   "id": "5bdbfb4b-945f-4565-ac14-fbf53aa4a574",
   "metadata": {
    "tags": []
   },
   "outputs": [
    {
     "data": {
      "text/plain": [
       "['CO1NR',\n",
       " 'COCHM',\n",
       " 'COENG',\n",
       " 'COL1S',\n",
       " 'DSDIV',\n",
       " 'EVCP3',\n",
       " 'GSCPP',\n",
       " 'HAAS3',\n",
       " 'LS1PS',\n",
       " 'LS1UI',\n",
       " 'OT1VP',\n",
       " 'SCEDU',\n",
       " 'SCLAW',\n",
       " 'SSALL',\n",
       " 'UCRLO',\n",
       " 'UNEX3',\n",
       " 'VCBAS',\n",
       " 'VCEI3',\n",
       " 'VCRAC',\n",
       " 'VCRAU',\n",
       " 'VCRMS',\n",
       " 'VCUGA',\n",
       " 'VR1GD']"
      ]
     },
     "execution_count": 3,
     "metadata": {},
     "output_type": "execute_result"
    }
   ],
   "source": [
    "optin_units"
   ]
  },
  {
   "cell_type": "markdown",
   "id": "00250bdb-76de-4cb0-96da-52f5ad7e7a84",
   "metadata": {},
   "source": [
    "**Create a dataframe that only includes rows that are from our opt-in units**"
   ]
  },
  {
   "cell_type": "code",
   "execution_count": 168,
   "id": "00e0ab27-6522-4095-9292-536a56a5c9e0",
   "metadata": {
    "tags": []
   },
   "outputs": [],
   "source": [
    "filtered_optin = TotalFlights2023_merged[TotalFlights2023_merged['OrgL3DivisionNode'].isin(optin_units)]"
   ]
  },
  {
   "cell_type": "markdown",
   "id": "65e6be51-e52a-4851-b8ba-d84f2d70389c",
   "metadata": {},
   "source": [
    "**Here I created a dataframe that pulled all cells from the Opt-in filter that are missing Restriction Data. This is so that we can find their Fund Codes and assign them fees**"
   ]
  },
  {
   "cell_type": "code",
   "execution_count": 42,
   "id": "87aedf4c-6e25-4d8e-b0d6-d2216342c4be",
   "metadata": {
    "tags": []
   },
   "outputs": [],
   "source": [
    "##RestrictionUpdate_missingdata = ['missingdata']"
   ]
  },
  {
   "cell_type": "markdown",
   "id": "c09461a2-d7b6-4c00-ae4d-b323c347d9c8",
   "metadata": {},
   "source": [
    "**These next few lines are because Kira requested we find all missing Fund codes in case more units join our program**"
   ]
  },
  {
   "cell_type": "code",
   "execution_count": 43,
   "id": "928b9372-a12a-4e0d-aca9-cc9d2ac9acce",
   "metadata": {
    "tags": []
   },
   "outputs": [],
   "source": [
    "##missing_restriction_all = TotalFlights2023_merged[TotalFlights2023_merged['RestrictionUpdate'].isin(RestrictionUpdate_missingdata)]"
   ]
  },
  {
   "cell_type": "code",
   "execution_count": 44,
   "id": "8e96da86-856a-48a5-b2a9-44be3b132df9",
   "metadata": {
    "tags": []
   },
   "outputs": [],
   "source": [
    "##unique_fund_values_all = missing_restriction_all['Fund'].unique()\n"
   ]
  },
  {
   "cell_type": "code",
   "execution_count": 45,
   "id": "3ca09fa8-739c-4eaa-82fe-bf98888f8fe7",
   "metadata": {
    "tags": []
   },
   "outputs": [],
   "source": [
    "##unique_fund_values_all_df = pd.DataFrame({'Unique_Fund_Values_All':unique_fund_values_all})"
   ]
  },
  {
   "cell_type": "code",
   "execution_count": 46,
   "id": "3dd22be8-3fae-43e7-937d-e81afe071461",
   "metadata": {
    "tags": []
   },
   "outputs": [],
   "source": [
    "##unique_fund_values_all_df.to_csv('all_missing_fund_values_2023.csv', index = False)"
   ]
  },
  {
   "cell_type": "markdown",
   "id": "ae7f56ca-bb95-4b73-a40f-2cd026a7981c",
   "metadata": {},
   "source": [
    "**Here are the missing Fund codes just for the Opt-in units**"
   ]
  },
  {
   "cell_type": "code",
   "execution_count": 42,
   "id": "feebe34d-a24d-4d2b-9ccc-47abbe6bc8e0",
   "metadata": {
    "tags": []
   },
   "outputs": [],
   "source": [
    "##filtered_missing_restriction = filtered_optin[filtered_optin['RestrictionUpdate'].isin(RestrictionUpdate_missingdata)]"
   ]
  },
  {
   "cell_type": "code",
   "execution_count": 43,
   "id": "1c981912-bafd-474f-9448-0523d8e7ba89",
   "metadata": {
    "tags": []
   },
   "outputs": [
    {
     "data": {
      "text/plain": [
       "(684, 26)"
      ]
     },
     "execution_count": 43,
     "metadata": {},
     "output_type": "execute_result"
    }
   ],
   "source": [
    "##filtered_missing_restriction.shape"
   ]
  },
  {
   "cell_type": "code",
   "execution_count": 44,
   "id": "d64cee6c-d598-4b00-973e-10ec8865c31d",
   "metadata": {
    "tags": []
   },
   "outputs": [],
   "source": [
    "##filtered_missing_restriction.to_csv('optin_missing_restriction_data_2023.csv', index = False)"
   ]
  },
  {
   "cell_type": "code",
   "execution_count": 45,
   "id": "004bb287-d5aa-4dda-af32-0806df3e7769",
   "metadata": {
    "tags": []
   },
   "outputs": [],
   "source": [
    "##unique_fund_values = filtered_missing_restriction['Fund'].unique()"
   ]
  },
  {
   "cell_type": "code",
   "execution_count": 46,
   "id": "d91319be-edee-499a-95c5-f6dde433199d",
   "metadata": {
    "tags": []
   },
   "outputs": [],
   "source": [
    "##unique_fund_values_df = pd.DataFrame({'Unique_Fund_Values':unique_fund_values})"
   ]
  },
  {
   "cell_type": "code",
   "execution_count": 47,
   "id": "5f22e8b0-2ad4-4b97-9ad7-65cbeebb83d9",
   "metadata": {
    "tags": []
   },
   "outputs": [],
   "source": [
    "##unique_fund_values_df.to_csv('optin_missing_fund_values_2023.csv', index = False)"
   ]
  },
  {
   "cell_type": "markdown",
   "id": "c5c08228-b590-40fe-8146-ddef627c3ff9",
   "metadata": {},
   "source": [
    "**Here, I created another dataframe that pulls all rows from the Opt-in filter that are missing 'ATMF' data. That way we can see which account codes we're missing information**"
   ]
  },
  {
   "cell_type": "code",
   "execution_count": 48,
   "id": "bb42515f-86d4-4683-8637-dd2000c1f86b",
   "metadata": {
    "tags": []
   },
   "outputs": [],
   "source": [
    "##ATMF_missingdata = ['unknown']"
   ]
  },
  {
   "cell_type": "code",
   "execution_count": 49,
   "id": "92ff85e1-9300-46fc-b76b-d6fb28c03373",
   "metadata": {
    "tags": []
   },
   "outputs": [],
   "source": [
    "##filtered_missing_ATMF = filtered_optin[filtered_optin['ATMF'].isin(ATMF_missingdata)]"
   ]
  },
  {
   "cell_type": "code",
   "execution_count": 50,
   "id": "0b176d37-1220-4547-a300-f1924c68bea8",
   "metadata": {
    "tags": []
   },
   "outputs": [
    {
     "data": {
      "text/plain": [
       "(274, 26)"
      ]
     },
     "execution_count": 50,
     "metadata": {},
     "output_type": "execute_result"
    }
   ],
   "source": [
    "##filtered_missing_ATMF.shape"
   ]
  },
  {
   "cell_type": "code",
   "execution_count": 51,
   "id": "bf0b55bb-598f-49e8-b200-82ebe6c019dd",
   "metadata": {
    "collapsed": true,
    "jupyter": {
     "outputs_hidden": true
    },
    "tags": []
   },
   "outputs": [
    {
     "data": {
      "text/plain": [
       "Account\n",
       "56715    208\n",
       "57239     66\n",
       "Name: count, dtype: int64"
      ]
     },
     "execution_count": 51,
     "metadata": {},
     "output_type": "execute_result"
    }
   ],
   "source": [
    "##filtered_missing_ATMF['Account'].value_counts()"
   ]
  },
  {
   "cell_type": "code",
   "execution_count": 52,
   "id": "dad3f7a2-6c8a-42c5-94f0-1c8b64a37dbb",
   "metadata": {
    "tags": []
   },
   "outputs": [],
   "source": [
    "##unique_account_values = filtered_missing_ATMF['Account'].unique()"
   ]
  },
  {
   "cell_type": "code",
   "execution_count": 53,
   "id": "47f3ac3f-1f84-4f16-8094-662af0fbba4c",
   "metadata": {
    "tags": []
   },
   "outputs": [],
   "source": [
    "##unique_account_values_df = pd.DataFrame({'Unique_Account_values':unique_account_values})"
   ]
  },
  {
   "cell_type": "code",
   "execution_count": 54,
   "id": "a6e8c04c-debe-4b1e-bab6-d17a76525351",
   "metadata": {
    "tags": []
   },
   "outputs": [],
   "source": [
    "##unique_account_values_df.to_csv('optin_missing_account_values_2023.csv', index = False)"
   ]
  },
  {
   "cell_type": "markdown",
   "id": "070bf02e-44eb-4311-a764-c54fe8e70cee",
   "metadata": {},
   "source": [
    "**Define a condition by calling the .nunique() attribute**"
   ]
  },
  {
   "cell_type": "code",
   "execution_count": 169,
   "id": "bd4101d1-2a46-4319-b694-f439ba51f39d",
   "metadata": {
    "tags": []
   },
   "outputs": [],
   "source": [
    "def unique_ids(series):\n",
    "    return series.nunique()"
   ]
  },
  {
   "cell_type": "markdown",
   "id": "02352c5c-537b-44cc-8695-779709643e04",
   "metadata": {},
   "source": [
    "**Creates a pivot table that only shows the unique 'Invoice ID (or DBID)' rows from the filtered opt-in dataframe**"
   ]
  },
  {
   "cell_type": "markdown",
   "id": "277fe4bb-8de6-44ad-bff1-8e49720332db",
   "metadata": {},
   "source": [
    "**This is essentially the total restricted versus unrestricted flights per campus opt-in divison IF we can equate 1 flight with 1 'Invoice ID (or DBID)'**"
   ]
  },
  {
   "cell_type": "code",
   "execution_count": 1,
   "id": "0d9e1257-70f6-459a-9b37-9e6d8a528880",
   "metadata": {
    "tags": []
   },
   "outputs": [
    {
     "ename": "NameError",
     "evalue": "name 'filtered_optin' is not defined",
     "output_type": "error",
     "traceback": [
      "\u001b[0;31m---------------------------------------------------------------------------\u001b[0m",
      "\u001b[0;31mNameError\u001b[0m                                 Traceback (most recent call last)",
      "Cell \u001b[0;32mIn[1], line 1\u001b[0m\n\u001b[0;32m----> 1\u001b[0m filtered_optin\u001b[38;5;241m.\u001b[39mshape\n",
      "\u001b[0;31mNameError\u001b[0m: name 'filtered_optin' is not defined"
     ]
    }
   ],
   "source": [
    "filtered_optin.shape"
   ]
  },
  {
   "cell_type": "code",
   "execution_count": 174,
   "id": "59b77cba-16b2-40f2-8d86-ab639271cc7f",
   "metadata": {
    "tags": []
   },
   "outputs": [
    {
     "data": {
      "text/plain": [
       "OrgL3DivisionNode\n",
       "COENG    2615\n",
       "VCRAC    2467\n",
       "VCUGA    1378\n",
       "LS1PS    1227\n",
       "SCLAW    1207\n",
       "HAAS3    1017\n",
       "CO1NR     657\n",
       "COCHM     569\n",
       "VCEI3     329\n",
       "UCRLO     301\n",
       "VCBAS     287\n",
       "SCEDU     268\n",
       "VCRMS     266\n",
       "GSCPP     248\n",
       "DSDIV     185\n",
       "SSALL      94\n",
       "VCRAU      84\n",
       "VR1GD      80\n",
       "UNEX3      57\n",
       "OT1VP      45\n",
       "LS1UI      30\n",
       "EVCP3       2\n",
       "Name: count, dtype: int64"
      ]
     },
     "execution_count": 174,
     "metadata": {},
     "output_type": "execute_result"
    }
   ],
   "source": [
    "filtered_optin['OrgL3DivisionNode'].value_counts()"
   ]
  },
  {
   "cell_type": "code",
   "execution_count": 175,
   "id": "83e576f0-9cd0-40be-8fa6-0b55f7cb64e2",
   "metadata": {
    "tags": []
   },
   "outputs": [],
   "source": [
    "pivot_optin = filtered_optin.pivot_table(values = 'Invoice ID (or DBID)', index = index_cols_division, columns = 'RestrictionUpdate', aggfunc=unique_ids)"
   ]
  },
  {
   "cell_type": "code",
   "execution_count": 176,
   "id": "d431e786-4b02-451a-a324-307ac949140f",
   "metadata": {
    "collapsed": true,
    "jupyter": {
     "outputs_hidden": true
    },
    "tags": []
   },
   "outputs": [
    {
     "data": {
      "text/html": [
       "<div>\n",
       "<style scoped>\n",
       "    .dataframe tbody tr th:only-of-type {\n",
       "        vertical-align: middle;\n",
       "    }\n",
       "\n",
       "    .dataframe tbody tr th {\n",
       "        vertical-align: top;\n",
       "    }\n",
       "\n",
       "    .dataframe thead th {\n",
       "        text-align: right;\n",
       "    }\n",
       "</style>\n",
       "<table border=\"1\" class=\"dataframe\">\n",
       "  <thead>\n",
       "    <tr style=\"text-align: right;\">\n",
       "      <th>RestrictionUpdate</th>\n",
       "      <th>R</th>\n",
       "      <th>U</th>\n",
       "      <th>missingdata</th>\n",
       "    </tr>\n",
       "    <tr>\n",
       "      <th>OrgL3DivisionNode</th>\n",
       "      <th></th>\n",
       "      <th></th>\n",
       "      <th></th>\n",
       "    </tr>\n",
       "  </thead>\n",
       "  <tbody>\n",
       "    <tr>\n",
       "      <th>CO1NR</th>\n",
       "      <td>510.0</td>\n",
       "      <td>70.0</td>\n",
       "      <td>3.0</td>\n",
       "    </tr>\n",
       "    <tr>\n",
       "      <th>COCHM</th>\n",
       "      <td>449.0</td>\n",
       "      <td>59.0</td>\n",
       "      <td>NaN</td>\n",
       "    </tr>\n",
       "    <tr>\n",
       "      <th>COENG</th>\n",
       "      <td>2058.0</td>\n",
       "      <td>297.0</td>\n",
       "      <td>3.0</td>\n",
       "    </tr>\n",
       "    <tr>\n",
       "      <th>DSDIV</th>\n",
       "      <td>126.0</td>\n",
       "      <td>46.0</td>\n",
       "      <td>NaN</td>\n",
       "    </tr>\n",
       "    <tr>\n",
       "      <th>EVCP3</th>\n",
       "      <td>NaN</td>\n",
       "      <td>2.0</td>\n",
       "      <td>NaN</td>\n",
       "    </tr>\n",
       "    <tr>\n",
       "      <th>GSCPP</th>\n",
       "      <td>181.0</td>\n",
       "      <td>42.0</td>\n",
       "      <td>NaN</td>\n",
       "    </tr>\n",
       "    <tr>\n",
       "      <th>HAAS3</th>\n",
       "      <td>577.0</td>\n",
       "      <td>343.0</td>\n",
       "      <td>1.0</td>\n",
       "    </tr>\n",
       "    <tr>\n",
       "      <th>LS1PS</th>\n",
       "      <td>911.0</td>\n",
       "      <td>229.0</td>\n",
       "      <td>4.0</td>\n",
       "    </tr>\n",
       "    <tr>\n",
       "      <th>LS1UI</th>\n",
       "      <td>10.0</td>\n",
       "      <td>20.0</td>\n",
       "      <td>NaN</td>\n",
       "    </tr>\n",
       "    <tr>\n",
       "      <th>OT1VP</th>\n",
       "      <td>8.0</td>\n",
       "      <td>37.0</td>\n",
       "      <td>NaN</td>\n",
       "    </tr>\n",
       "    <tr>\n",
       "      <th>SCEDU</th>\n",
       "      <td>183.0</td>\n",
       "      <td>61.0</td>\n",
       "      <td>NaN</td>\n",
       "    </tr>\n",
       "    <tr>\n",
       "      <th>SCLAW</th>\n",
       "      <td>431.0</td>\n",
       "      <td>562.0</td>\n",
       "      <td>4.0</td>\n",
       "    </tr>\n",
       "    <tr>\n",
       "      <th>SSALL</th>\n",
       "      <td>NaN</td>\n",
       "      <td>87.0</td>\n",
       "      <td>NaN</td>\n",
       "    </tr>\n",
       "    <tr>\n",
       "      <th>UCRLO</th>\n",
       "      <td>13.0</td>\n",
       "      <td>243.0</td>\n",
       "      <td>NaN</td>\n",
       "    </tr>\n",
       "    <tr>\n",
       "      <th>UNEX3</th>\n",
       "      <td>NaN</td>\n",
       "      <td>53.0</td>\n",
       "      <td>NaN</td>\n",
       "    </tr>\n",
       "    <tr>\n",
       "      <th>VCBAS</th>\n",
       "      <td>131.0</td>\n",
       "      <td>138.0</td>\n",
       "      <td>NaN</td>\n",
       "    </tr>\n",
       "    <tr>\n",
       "      <th>VCEI3</th>\n",
       "      <td>201.0</td>\n",
       "      <td>66.0</td>\n",
       "      <td>NaN</td>\n",
       "    </tr>\n",
       "    <tr>\n",
       "      <th>VCRAC</th>\n",
       "      <td>2079.0</td>\n",
       "      <td>167.0</td>\n",
       "      <td>17.0</td>\n",
       "    </tr>\n",
       "    <tr>\n",
       "      <th>VCRAU</th>\n",
       "      <td>25.0</td>\n",
       "      <td>58.0</td>\n",
       "      <td>NaN</td>\n",
       "    </tr>\n",
       "    <tr>\n",
       "      <th>VCRMS</th>\n",
       "      <td>182.0</td>\n",
       "      <td>50.0</td>\n",
       "      <td>1.0</td>\n",
       "    </tr>\n",
       "    <tr>\n",
       "      <th>VCUGA</th>\n",
       "      <td>373.0</td>\n",
       "      <td>752.0</td>\n",
       "      <td>NaN</td>\n",
       "    </tr>\n",
       "    <tr>\n",
       "      <th>VR1GD</th>\n",
       "      <td>10.0</td>\n",
       "      <td>62.0</td>\n",
       "      <td>NaN</td>\n",
       "    </tr>\n",
       "  </tbody>\n",
       "</table>\n",
       "</div>"
      ],
      "text/plain": [
       "RestrictionUpdate       R      U  missingdata\n",
       "OrgL3DivisionNode                            \n",
       "CO1NR               510.0   70.0          3.0\n",
       "COCHM               449.0   59.0          NaN\n",
       "COENG              2058.0  297.0          3.0\n",
       "DSDIV               126.0   46.0          NaN\n",
       "EVCP3                 NaN    2.0          NaN\n",
       "GSCPP               181.0   42.0          NaN\n",
       "HAAS3               577.0  343.0          1.0\n",
       "LS1PS               911.0  229.0          4.0\n",
       "LS1UI                10.0   20.0          NaN\n",
       "OT1VP                 8.0   37.0          NaN\n",
       "SCEDU               183.0   61.0          NaN\n",
       "SCLAW               431.0  562.0          4.0\n",
       "SSALL                 NaN   87.0          NaN\n",
       "UCRLO                13.0  243.0          NaN\n",
       "UNEX3                 NaN   53.0          NaN\n",
       "VCBAS               131.0  138.0          NaN\n",
       "VCEI3               201.0   66.0          NaN\n",
       "VCRAC              2079.0  167.0         17.0\n",
       "VCRAU                25.0   58.0          NaN\n",
       "VCRMS               182.0   50.0          1.0\n",
       "VCUGA               373.0  752.0          NaN\n",
       "VR1GD                10.0   62.0          NaN"
      ]
     },
     "execution_count": 176,
     "metadata": {},
     "output_type": "execute_result"
    }
   ],
   "source": [
    "pivot_optin"
   ]
  },
  {
   "cell_type": "markdown",
   "id": "8c554dbb-8475-4f87-b3e5-43b0c1ca90fd",
   "metadata": {},
   "source": [
    "**This pivot table lists all opt-in units (including division & dept) and their associated R, U, and unknown flights**"
   ]
  },
  {
   "cell_type": "code",
   "execution_count": 117,
   "id": "a20e4704-6420-49de-9249-11bc03429a1d",
   "metadata": {
    "tags": []
   },
   "outputs": [],
   "source": [
    "#pivot_optin.to_csv('pivot_optin_RU_updatedagain.csv', index = True, index_label=['OrgL3DivisionNode'])"
   ]
  },
  {
   "cell_type": "code",
   "execution_count": 177,
   "id": "11a0dc20-3f22-4ebd-86a4-56a93a8598ef",
   "metadata": {
    "tags": []
   },
   "outputs": [],
   "source": [
    "pivot_optin_2023 = filtered_optin.pivot_table(values = 'Invoice ID (or DBID)', index = index_cols_division_dept, columns = ('RestrictionUpdate', 'ATMF'), aggfunc=unique_ids)"
   ]
  },
  {
   "cell_type": "code",
   "execution_count": 178,
   "id": "88a1f447-7fff-4414-b32f-7c22ffe1cdea",
   "metadata": {
    "collapsed": true,
    "jupyter": {
     "outputs_hidden": true
    },
    "tags": []
   },
   "outputs": [
    {
     "data": {
      "text/html": [
       "<div>\n",
       "<style scoped>\n",
       "    .dataframe tbody tr th:only-of-type {\n",
       "        vertical-align: middle;\n",
       "    }\n",
       "\n",
       "    .dataframe tbody tr th {\n",
       "        vertical-align: top;\n",
       "    }\n",
       "\n",
       "    .dataframe thead tr th {\n",
       "        text-align: left;\n",
       "    }\n",
       "\n",
       "    .dataframe thead tr:last-of-type th {\n",
       "        text-align: right;\n",
       "    }\n",
       "</style>\n",
       "<table border=\"1\" class=\"dataframe\">\n",
       "  <thead>\n",
       "    <tr>\n",
       "      <th></th>\n",
       "      <th>RestrictionUpdate</th>\n",
       "      <th colspan=\"4\" halign=\"left\">R</th>\n",
       "      <th colspan=\"4\" halign=\"left\">U</th>\n",
       "      <th colspan=\"2\" halign=\"left\">missingdata</th>\n",
       "    </tr>\n",
       "    <tr>\n",
       "      <th></th>\n",
       "      <th>ATMF</th>\n",
       "      <th>compedVisitor</th>\n",
       "      <th>domestic</th>\n",
       "      <th>international</th>\n",
       "      <th>unknown</th>\n",
       "      <th>compedVisitor</th>\n",
       "      <th>domestic</th>\n",
       "      <th>international</th>\n",
       "      <th>unknown</th>\n",
       "      <th>domestic</th>\n",
       "      <th>international</th>\n",
       "    </tr>\n",
       "    <tr>\n",
       "      <th>OrgL3DivisionNode</th>\n",
       "      <th>OrgL4DepartmentDesc</th>\n",
       "      <th></th>\n",
       "      <th></th>\n",
       "      <th></th>\n",
       "      <th></th>\n",
       "      <th></th>\n",
       "      <th></th>\n",
       "      <th></th>\n",
       "      <th></th>\n",
       "      <th></th>\n",
       "      <th></th>\n",
       "    </tr>\n",
       "  </thead>\n",
       "  <tbody>\n",
       "    <tr>\n",
       "      <th rowspan=\"5\" valign=\"top\">CO1NR</th>\n",
       "      <th>Agricultural Res Econ Pol</th>\n",
       "      <td>NaN</td>\n",
       "      <td>28.0</td>\n",
       "      <td>6.0</td>\n",
       "      <td>NaN</td>\n",
       "      <td>NaN</td>\n",
       "      <td>6.0</td>\n",
       "      <td>2.0</td>\n",
       "      <td>NaN</td>\n",
       "      <td>NaN</td>\n",
       "      <td>NaN</td>\n",
       "    </tr>\n",
       "    <tr>\n",
       "      <th>CNR Office of the Dean</th>\n",
       "      <td>NaN</td>\n",
       "      <td>35.0</td>\n",
       "      <td>1.0</td>\n",
       "      <td>1.0</td>\n",
       "      <td>NaN</td>\n",
       "      <td>NaN</td>\n",
       "      <td>NaN</td>\n",
       "      <td>NaN</td>\n",
       "      <td>NaN</td>\n",
       "      <td>NaN</td>\n",
       "    </tr>\n",
       "    <tr>\n",
       "      <th>Energy &amp; Resources Group ERG</th>\n",
       "      <td>NaN</td>\n",
       "      <td>26.0</td>\n",
       "      <td>15.0</td>\n",
       "      <td>NaN</td>\n",
       "      <td>NaN</td>\n",
       "      <td>9.0</td>\n",
       "      <td>NaN</td>\n",
       "      <td>NaN</td>\n",
       "      <td>NaN</td>\n",
       "      <td>NaN</td>\n",
       "    </tr>\n",
       "    <tr>\n",
       "      <th>Environ Sci, Policy &amp; Mgmt</th>\n",
       "      <td>2.0</td>\n",
       "      <td>163.0</td>\n",
       "      <td>66.0</td>\n",
       "      <td>NaN</td>\n",
       "      <td>NaN</td>\n",
       "      <td>33.0</td>\n",
       "      <td>9.0</td>\n",
       "      <td>NaN</td>\n",
       "      <td>3.0</td>\n",
       "      <td>NaN</td>\n",
       "    </tr>\n",
       "    <tr>\n",
       "      <th>Nutritional Sci &amp; Tox Dept</th>\n",
       "      <td>NaN</td>\n",
       "      <td>31.0</td>\n",
       "      <td>7.0</td>\n",
       "      <td>NaN</td>\n",
       "      <td>NaN</td>\n",
       "      <td>4.0</td>\n",
       "      <td>NaN</td>\n",
       "      <td>NaN</td>\n",
       "      <td>NaN</td>\n",
       "      <td>NaN</td>\n",
       "    </tr>\n",
       "    <tr>\n",
       "      <th>...</th>\n",
       "      <th>...</th>\n",
       "      <td>...</td>\n",
       "      <td>...</td>\n",
       "      <td>...</td>\n",
       "      <td>...</td>\n",
       "      <td>...</td>\n",
       "      <td>...</td>\n",
       "      <td>...</td>\n",
       "      <td>...</td>\n",
       "      <td>...</td>\n",
       "      <td>...</td>\n",
       "    </tr>\n",
       "    <tr>\n",
       "      <th rowspan=\"4\" valign=\"top\">VCUGA</th>\n",
       "      <th>Student Affairs Immed Off</th>\n",
       "      <td>NaN</td>\n",
       "      <td>NaN</td>\n",
       "      <td>NaN</td>\n",
       "      <td>NaN</td>\n",
       "      <td>NaN</td>\n",
       "      <td>50.0</td>\n",
       "      <td>1.0</td>\n",
       "      <td>NaN</td>\n",
       "      <td>NaN</td>\n",
       "      <td>NaN</td>\n",
       "    </tr>\n",
       "    <tr>\n",
       "      <th>Student Affairs Services</th>\n",
       "      <td>NaN</td>\n",
       "      <td>NaN</td>\n",
       "      <td>NaN</td>\n",
       "      <td>NaN</td>\n",
       "      <td>NaN</td>\n",
       "      <td>10.0</td>\n",
       "      <td>NaN</td>\n",
       "      <td>NaN</td>\n",
       "      <td>NaN</td>\n",
       "      <td>NaN</td>\n",
       "    </tr>\n",
       "    <tr>\n",
       "      <th>UG Admissions &amp; Enrollment</th>\n",
       "      <td>NaN</td>\n",
       "      <td>71.0</td>\n",
       "      <td>1.0</td>\n",
       "      <td>NaN</td>\n",
       "      <td>NaN</td>\n",
       "      <td>204.0</td>\n",
       "      <td>5.0</td>\n",
       "      <td>NaN</td>\n",
       "      <td>NaN</td>\n",
       "      <td>NaN</td>\n",
       "    </tr>\n",
       "    <tr>\n",
       "      <th>University Health Services</th>\n",
       "      <td>NaN</td>\n",
       "      <td>2.0</td>\n",
       "      <td>NaN</td>\n",
       "      <td>NaN</td>\n",
       "      <td>NaN</td>\n",
       "      <td>28.0</td>\n",
       "      <td>6.0</td>\n",
       "      <td>NaN</td>\n",
       "      <td>NaN</td>\n",
       "      <td>NaN</td>\n",
       "    </tr>\n",
       "    <tr>\n",
       "      <th>VR1GD</th>\n",
       "      <th>Graduate Division Ops</th>\n",
       "      <td>NaN</td>\n",
       "      <td>9.0</td>\n",
       "      <td>1.0</td>\n",
       "      <td>NaN</td>\n",
       "      <td>NaN</td>\n",
       "      <td>59.0</td>\n",
       "      <td>3.0</td>\n",
       "      <td>NaN</td>\n",
       "      <td>NaN</td>\n",
       "      <td>NaN</td>\n",
       "    </tr>\n",
       "  </tbody>\n",
       "</table>\n",
       "<p>140 rows × 10 columns</p>\n",
       "</div>"
      ],
      "text/plain": [
       "RestrictionUpdate                                          R           \\\n",
       "ATMF                                           compedVisitor domestic   \n",
       "OrgL3DivisionNode OrgL4DepartmentDesc                                   \n",
       "CO1NR             Agricultural Res Econ Pol              NaN     28.0   \n",
       "                  CNR Office of the Dean                 NaN     35.0   \n",
       "                  Energy & Resources Group ERG           NaN     26.0   \n",
       "                  Environ Sci, Policy & Mgmt             2.0    163.0   \n",
       "                  Nutritional Sci & Tox Dept             NaN     31.0   \n",
       "...                                                      ...      ...   \n",
       "VCUGA             Student Affairs Immed Off              NaN      NaN   \n",
       "                  Student Affairs Services               NaN      NaN   \n",
       "                  UG Admissions & Enrollment             NaN     71.0   \n",
       "                  University Health Services             NaN      2.0   \n",
       "VR1GD             Graduate Division Ops                  NaN      9.0   \n",
       "\n",
       "RestrictionUpdate                                                     \\\n",
       "ATMF                                           international unknown   \n",
       "OrgL3DivisionNode OrgL4DepartmentDesc                                  \n",
       "CO1NR             Agricultural Res Econ Pol              6.0     NaN   \n",
       "                  CNR Office of the Dean                 1.0     1.0   \n",
       "                  Energy & Resources Group ERG          15.0     NaN   \n",
       "                  Environ Sci, Policy & Mgmt            66.0     NaN   \n",
       "                  Nutritional Sci & Tox Dept             7.0     NaN   \n",
       "...                                                      ...     ...   \n",
       "VCUGA             Student Affairs Immed Off              NaN     NaN   \n",
       "                  Student Affairs Services               NaN     NaN   \n",
       "                  UG Admissions & Enrollment             1.0     NaN   \n",
       "                  University Health Services             NaN     NaN   \n",
       "VR1GD             Graduate Division Ops                  1.0     NaN   \n",
       "\n",
       "RestrictionUpdate                                          U           \\\n",
       "ATMF                                           compedVisitor domestic   \n",
       "OrgL3DivisionNode OrgL4DepartmentDesc                                   \n",
       "CO1NR             Agricultural Res Econ Pol              NaN      6.0   \n",
       "                  CNR Office of the Dean                 NaN      NaN   \n",
       "                  Energy & Resources Group ERG           NaN      9.0   \n",
       "                  Environ Sci, Policy & Mgmt             NaN     33.0   \n",
       "                  Nutritional Sci & Tox Dept             NaN      4.0   \n",
       "...                                                      ...      ...   \n",
       "VCUGA             Student Affairs Immed Off              NaN     50.0   \n",
       "                  Student Affairs Services               NaN     10.0   \n",
       "                  UG Admissions & Enrollment             NaN    204.0   \n",
       "                  University Health Services             NaN     28.0   \n",
       "VR1GD             Graduate Division Ops                  NaN     59.0   \n",
       "\n",
       "RestrictionUpdate                                                     \\\n",
       "ATMF                                           international unknown   \n",
       "OrgL3DivisionNode OrgL4DepartmentDesc                                  \n",
       "CO1NR             Agricultural Res Econ Pol              2.0     NaN   \n",
       "                  CNR Office of the Dean                 NaN     NaN   \n",
       "                  Energy & Resources Group ERG           NaN     NaN   \n",
       "                  Environ Sci, Policy & Mgmt             9.0     NaN   \n",
       "                  Nutritional Sci & Tox Dept             NaN     NaN   \n",
       "...                                                      ...     ...   \n",
       "VCUGA             Student Affairs Immed Off              1.0     NaN   \n",
       "                  Student Affairs Services               NaN     NaN   \n",
       "                  UG Admissions & Enrollment             5.0     NaN   \n",
       "                  University Health Services             6.0     NaN   \n",
       "VR1GD             Graduate Division Ops                  3.0     NaN   \n",
       "\n",
       "RestrictionUpdate                              missingdata                \n",
       "ATMF                                              domestic international  \n",
       "OrgL3DivisionNode OrgL4DepartmentDesc                                     \n",
       "CO1NR             Agricultural Res Econ Pol            NaN           NaN  \n",
       "                  CNR Office of the Dean               NaN           NaN  \n",
       "                  Energy & Resources Group ERG         NaN           NaN  \n",
       "                  Environ Sci, Policy & Mgmt           3.0           NaN  \n",
       "                  Nutritional Sci & Tox Dept           NaN           NaN  \n",
       "...                                                    ...           ...  \n",
       "VCUGA             Student Affairs Immed Off            NaN           NaN  \n",
       "                  Student Affairs Services             NaN           NaN  \n",
       "                  UG Admissions & Enrollment           NaN           NaN  \n",
       "                  University Health Services           NaN           NaN  \n",
       "VR1GD             Graduate Division Ops                NaN           NaN  \n",
       "\n",
       "[140 rows x 10 columns]"
      ]
     },
     "execution_count": 178,
     "metadata": {},
     "output_type": "execute_result"
    }
   ],
   "source": [
    "pivot_optin_2023"
   ]
  },
  {
   "cell_type": "code",
   "execution_count": 179,
   "id": "214b9c39-0b0f-4458-a4c5-c496dfa32f3d",
   "metadata": {
    "tags": []
   },
   "outputs": [],
   "source": [
    "pivot_optin_2023.to_csv('pivot_optin_updatedagain_2023.csv', index = True, index_label=['OrgL3DivisionNode', 'OrgL4DepartmentDesc'])"
   ]
  },
  {
   "cell_type": "markdown",
   "id": "92180970-91af-4daa-b13b-7213d64219fa",
   "metadata": {},
   "source": [
    "**If you'd like to export a dataframe for each division, you can do so here**"
   ]
  },
  {
   "cell_type": "code",
   "execution_count": 184,
   "id": "b32ae8d9-fa09-4268-ae00-289848f1708f",
   "metadata": {
    "tags": []
   },
   "outputs": [],
   "source": [
    "CO1NR = ['CO1NR']"
   ]
  },
  {
   "cell_type": "code",
   "execution_count": 182,
   "id": "539790db-ae99-4260-a84f-1dffd2a64f1a",
   "metadata": {
    "tags": []
   },
   "outputs": [],
   "source": [
    "COCHM = ['COCHM']\n",
    "COENG = ['COENG']\n",
    "DSDIV = ['DSDIV']\n",
    "GSCPP = ['GSCPP']\n",
    "HAAS3 = ['HAAS3']\n",
    "LS1PS = ['LS1PS']\n",
    "LS1UI = ['LS1UI']\n",
    "OT1VP = ['OT1VP']\n",
    "SCEDU = ['SCEDU']\n",
    "SCLAW = ['SCLAW']\n",
    "SSALL = ['SSALL']\n",
    "UCRLO = ['UCRLO']\n",
    "UNEX3 = ['UNEX3']\n",
    "VCBAS = ['VCBAS']\n",
    "VCEI3 = ['VCEI3']\n",
    "VCRAC = ['VCRAC']\n",
    "VCRAU = ['VCRAU']\n",
    "VCRMS = ['VCRMS']\n",
    "VCUGA = ['VCUGA']\n",
    "VR1GD = ['VR1GD']"
   ]
  },
  {
   "cell_type": "code",
   "execution_count": 185,
   "id": "d81aae7e-aba8-49ee-9432-884109901a5d",
   "metadata": {
    "tags": []
   },
   "outputs": [],
   "source": [
    "CO1NR_2023_filter = TotalFlights2023_merged[TotalFlights2023_merged['OrgL3DivisionNode'].isin(CO1NR)]"
   ]
  },
  {
   "cell_type": "code",
   "execution_count": 186,
   "id": "0f1d0d51-b3a9-4ce7-92d8-3ad3840e11d2",
   "metadata": {
    "tags": []
   },
   "outputs": [
    {
     "data": {
      "text/plain": [
       "(657, 24)"
      ]
     },
     "execution_count": 186,
     "metadata": {},
     "output_type": "execute_result"
    }
   ],
   "source": [
    "CO1NR_2023_filter.shape"
   ]
  },
  {
   "cell_type": "code",
   "execution_count": 188,
   "id": "1d16e62f-72e7-4d2e-8042-61250e9969ec",
   "metadata": {
    "tags": []
   },
   "outputs": [],
   "source": [
    "COCHM_2023_filter = TotalFlights2023_merged[TotalFlights2023_merged['OrgL3DivisionNode'].isin(COCHM)]\n",
    "COENG_2023_filter = TotalFlights2023_merged[TotalFlights2023_merged['OrgL3DivisionNode'].isin(COENG)]\n",
    "DSDIV_2023_filter = TotalFlights2023_merged[TotalFlights2023_merged['OrgL3DivisionNode'].isin(DSDIV)]\n",
    "GSCPP_2023_filter = TotalFlights2023_merged[TotalFlights2023_merged['OrgL3DivisionNode'].isin(GSCPP)]\n",
    "HAAS3_2023_filter = TotalFlights2023_merged[TotalFlights2023_merged['OrgL3DivisionNode'].isin(HAAS3)]\n",
    "LS1PS_2023_filter = TotalFlights2023_merged[TotalFlights2023_merged['OrgL3DivisionNode'].isin(LS1PS)]\n",
    "LS1UI_2023_filter = TotalFlights2023_merged[TotalFlights2023_merged['OrgL3DivisionNode'].isin(LS1UI)]\n",
    "OT1VP_2023_filter = TotalFlights2023_merged[TotalFlights2023_merged['OrgL3DivisionNode'].isin(OT1VP)]\n",
    "SCEDU_2023_filter = TotalFlights2023_merged[TotalFlights2023_merged['OrgL3DivisionNode'].isin(SCEDU)]\n",
    "SCLAW_2023_filter = TotalFlights2023_merged[TotalFlights2023_merged['OrgL3DivisionNode'].isin(SCLAW)]\n",
    "SSALL_2023_filter = TotalFlights2023_merged[TotalFlights2023_merged['OrgL3DivisionNode'].isin(SSALL)]\n",
    "UCRLO_2023_filter = TotalFlights2023_merged[TotalFlights2023_merged['OrgL3DivisionNode'].isin(UCRLO)]\n",
    "UNEX3_2023_filter = TotalFlights2023_merged[TotalFlights2023_merged['OrgL3DivisionNode'].isin(UNEX3)]\n",
    "VCBAS_2023_filter = TotalFlights2023_merged[TotalFlights2023_merged['OrgL3DivisionNode'].isin(VCBAS)]\n",
    "VCEI3_2023_filter = TotalFlights2023_merged[TotalFlights2023_merged['OrgL3DivisionNode'].isin(VCEI3)]\n",
    "VCRAC_2023_filter = TotalFlights2023_merged[TotalFlights2023_merged['OrgL3DivisionNode'].isin(VCRAC)]\n",
    "VCRAU_2023_filter = TotalFlights2023_merged[TotalFlights2023_merged['OrgL3DivisionNode'].isin(VCRAU)]\n",
    "VCRMS_2023_filter = TotalFlights2023_merged[TotalFlights2023_merged['OrgL3DivisionNode'].isin(VCRMS)]\n",
    "VCUGA_2023_filter = TotalFlights2023_merged[TotalFlights2023_merged['OrgL3DivisionNode'].isin(VCUGA)]\n",
    "VR1GD_2023_filter = TotalFlights2023_merged[TotalFlights2023_merged['OrgL3DivisionNode'].isin(VR1GD)]"
   ]
  },
  {
   "cell_type": "code",
   "execution_count": 190,
   "id": "c4e1e018-eaa8-44c6-b9c5-682c01f6e109",
   "metadata": {
    "tags": []
   },
   "outputs": [],
   "source": [
    "restricted = ['R']"
   ]
  },
  {
   "cell_type": "code",
   "execution_count": 191,
   "id": "9ee2a839-0c64-4865-a83e-70dd11afa803",
   "metadata": {
    "tags": []
   },
   "outputs": [],
   "source": [
    "CO1NR_restricted_2023 = CO1NR_2023_filter[CO1NR_2023_filter['RestrictionUpdate'].isin(restricted)].drop_duplicates(subset='Invoice ID (or DBID)')"
   ]
  },
  {
   "cell_type": "code",
   "execution_count": 192,
   "id": "a6998955-6314-415f-a122-c6c1d511141f",
   "metadata": {
    "tags": []
   },
   "outputs": [],
   "source": [
    "COCHM_restricted_2023 = COCHM_2023_filter[COCHM_2023_filter['RestrictionUpdate'].isin(restricted)].drop_duplicates(subset='Invoice ID (or DBID)')\n",
    "COENG_restricted_2023 = COENG_2023_filter[COENG_2023_filter['RestrictionUpdate'].isin(restricted)].drop_duplicates(subset='Invoice ID (or DBID)')\n",
    "DSDIV_restricted_2023 = DSDIV_2023_filter[DSDIV_2023_filter['RestrictionUpdate'].isin(restricted)].drop_duplicates(subset='Invoice ID (or DBID)')\n",
    "GSCPP_restricted_2023 = GSCPP_2023_filter[GSCPP_2023_filter['RestrictionUpdate'].isin(restricted)].drop_duplicates(subset='Invoice ID (or DBID)')\n",
    "HAAS3_restricted_2023 = HAAS3_2023_filter[HAAS3_2023_filter['RestrictionUpdate'].isin(restricted)].drop_duplicates(subset='Invoice ID (or DBID)')\n",
    "LS1PS_restricted_2023 = LS1PS_2023_filter[LS1PS_2023_filter['RestrictionUpdate'].isin(restricted)].drop_duplicates(subset='Invoice ID (or DBID)')\n",
    "LS1UI_restricted_2023 = LS1UI_2023_filter[LS1UI_2023_filter['RestrictionUpdate'].isin(restricted)].drop_duplicates(subset='Invoice ID (or DBID)')\n",
    "OT1VP_restricted_2023 = OT1VP_2023_filter[OT1VP_2023_filter['RestrictionUpdate'].isin(restricted)].drop_duplicates(subset='Invoice ID (or DBID)')\n",
    "SCEDU_restricted_2023 = SCEDU_2023_filter[SCEDU_2023_filter['RestrictionUpdate'].isin(restricted)].drop_duplicates(subset='Invoice ID (or DBID)')\n",
    "SCLAW_restricted_2023 = SCLAW_2023_filter[SCLAW_2023_filter['RestrictionUpdate'].isin(restricted)].drop_duplicates(subset='Invoice ID (or DBID)')\n",
    "SSALL_restricted_2023 = SSALL_2023_filter[SSALL_2023_filter['RestrictionUpdate'].isin(restricted)].drop_duplicates(subset='Invoice ID (or DBID)')\n",
    "UCRLO_restricted_2023 = UCRLO_2023_filter[UCRLO_2023_filter['RestrictionUpdate'].isin(restricted)].drop_duplicates(subset='Invoice ID (or DBID)')\n",
    "UNEX3_restricted_2023 = UNEX3_2023_filter[UNEX3_2023_filter['RestrictionUpdate'].isin(restricted)].drop_duplicates(subset='Invoice ID (or DBID)')\n",
    "VCBAS_restricted_2023 = VCBAS_2023_filter[VCBAS_2023_filter['RestrictionUpdate'].isin(restricted)].drop_duplicates(subset='Invoice ID (or DBID)')\n",
    "VCEI3_restricted_2023 = VCEI3_2023_filter[VCEI3_2023_filter['RestrictionUpdate'].isin(restricted)].drop_duplicates(subset='Invoice ID (or DBID)')\n",
    "VCRAC_restricted_2023 = VCRAC_2023_filter[VCRAC_2023_filter['RestrictionUpdate'].isin(restricted)].drop_duplicates(subset='Invoice ID (or DBID)')\n",
    "VCRAU_restricted_2023 = VCRAU_2023_filter[VCRAU_2023_filter['RestrictionUpdate'].isin(restricted)].drop_duplicates(subset='Invoice ID (or DBID)')\n",
    "VCRMS_restricted_2023 = VCRMS_2023_filter[VCRMS_2023_filter['RestrictionUpdate'].isin(restricted)].drop_duplicates(subset='Invoice ID (or DBID)')\n",
    "VCUGA_restricted_2023 = VCUGA_2023_filter[VCUGA_2023_filter['RestrictionUpdate'].isin(restricted)].drop_duplicates(subset='Invoice ID (or DBID)')\n",
    "VR1GD_restricted_2023 = VR1GD_2023_filter[VR1GD_2023_filter['RestrictionUpdate'].isin(restricted)].drop_duplicates(subset='Invoice ID (or DBID)')\n"
   ]
  },
  {
   "cell_type": "code",
   "execution_count": 193,
   "id": "3070bbfd-85d4-4aed-b7f5-6188ac188e39",
   "metadata": {
    "tags": []
   },
   "outputs": [
    {
     "data": {
      "text/plain": [
       "(510, 24)"
      ]
     },
     "execution_count": 193,
     "metadata": {},
     "output_type": "execute_result"
    }
   ],
   "source": [
    "CO1NR_restricted_2023.shape"
   ]
  },
  {
   "cell_type": "markdown",
   "id": "d3ba68f8-89de-4639-92e8-c8ef8ccd4372",
   "metadata": {},
   "source": [
    "**LEFT OFF HERE**"
   ]
  },
  {
   "cell_type": "markdown",
   "id": "4f1be7f8-faec-4968-8798-2916c47df5c4",
   "metadata": {},
   "source": [
    "**Export a .csv with all rows from CO1NR**"
   ]
  },
  {
   "cell_type": "code",
   "execution_count": 154,
   "id": "b20870a9-26ce-40ab-8655-3cdd2c7b3353",
   "metadata": {
    "tags": []
   },
   "outputs": [],
   "source": [
    "CO1NR_restricted_2023.to_csv('CO1NR_restricted_2023_10may24.csv', index = False)"
   ]
  },
  {
   "cell_type": "code",
   "execution_count": 156,
   "id": "4a135326-948e-4f30-b43e-87edb47fdfb4",
   "metadata": {
    "tags": []
   },
   "outputs": [],
   "source": [
    "COCHM_restricted_2023.to_csv('COCHM_restricted_2023_10may24.csv', index = False)\n",
    "DSDIV_restricted_2023.to_csv('DSDIV_restricted_2023_10may24.csv', index = False)\n",
    "GSCPP_restricted_2023.to_csv('GSCPP_restricted_2023_10may24.csv', index = False)\n",
    "HAAS3_restricted_2023.to_csv('HAAS3_restricted_2023_10may24.csv', index = False)\n",
    "LS1PS_restricted_2023.to_csv('LS1PS_restricted_2023_10may24.csv', index = False)\n",
    "LS1UI_restricted_2023.to_csv('LS1UI_restricted_2023_10may24.csv', index = False)\n",
    "OT1VP_restricted_2023.to_csv('OT1VP_restricted_2023_10may24.csv', index = False)\n",
    "SCEDU_restricted_2023.to_csv('SCEDU_restricted_2023_10may24.csv', index = False)\n",
    "SCLAW_restricted_2023.to_csv('SCLAW_restricted_2023_10may24.csv', index = False)\n",
    "SSALL_restricted_2023.to_csv('SSALL_restricted_2023_10may24.csv', index = False)\n",
    "UCRLO_restricted_2023.to_csv('UCRLO_restricted_2023_10may24.csv', index = False) \n",
    "UNEX3_restricted_2023.to_csv('UNEX3_restricted_2023_10may24.csv', index = False)\n",
    "VCBAS_restricted_2023.to_csv('VCBAS_restricted_2023_10may24.csv', index = False) \n",
    "VCEI3_restricted_2023.to_csv('VCEI3_restricted_2023_10may24.csv', index = False)\n",
    "VCRAC_restricted_2023.to_csv('VCRAC_restricted_2023_10may24.csv', index = False)\n",
    "VCRAU_restricted_2023.to_csv('VCRAU_restricted_2023_10may24.csv', index = False)\n",
    "VCRMS_restricted_2023.to_csv('VCRMS_restricted_2023_10may24.csv', index = False)\n",
    "VCUGA_restricted_2023.to_csv('VCUGA_restricted_2023_10may24.csv', index = False)\n",
    "VR1GD_restricted_2023.to_csv('VR1GD_restricted_2023_10may24.csv', index = False)"
   ]
  },
  {
   "cell_type": "code",
   "execution_count": 194,
   "id": "93fe1546-3e74-4cbb-ad12-4bccb77749fd",
   "metadata": {
    "tags": []
   },
   "outputs": [],
   "source": [
    "COENG_restricted_2023.to_csv('COENG_restricted_2023_15july24.csv', index = False)"
   ]
  },
  {
   "cell_type": "markdown",
   "id": "ce55d8f5-9fbb-48be-850f-82cca5e8629c",
   "metadata": {},
   "source": [
    "**Create a pivot table that shows total # of flights per Restriction (including Unrestricted & missing data)**"
   ]
  },
  {
   "cell_type": "code",
   "execution_count": 196,
   "id": "de4af57d-1027-483c-9145-8003ab8be0c7",
   "metadata": {
    "tags": []
   },
   "outputs": [],
   "source": [
    "index_cols_division_dept_deptid = ['OrgL3DivisionNode', 'OrgL4DepartmentDesc', 'Deptid']"
   ]
  },
  {
   "cell_type": "code",
   "execution_count": 197,
   "id": "bfde8c58-5b6b-4d39-8041-e85bfd4e96bd",
   "metadata": {
    "tags": []
   },
   "outputs": [],
   "source": [
    "CO1NR_2023 = CO1NR_2023_filter.pivot_table(values = 'Invoice ID (or DBID)', index = index_cols_division_dept_deptid, columns = ('RestrictionUpdate', 'ATMF'), aggfunc=unique_ids)"
   ]
  },
  {
   "cell_type": "code",
   "execution_count": 159,
   "id": "9ba2678d-846f-4ce2-9148-b449f5da7f18",
   "metadata": {
    "tags": []
   },
   "outputs": [],
   "source": [
    "COCHM_2023 = COCHM_2023_filter.pivot_table(values = 'Invoice ID (or DBID)', index = index_cols_division_dept_deptid, columns = ('RestrictionUpdate', 'ATMF'), aggfunc=unique_ids)\n",
    "DSDIV_2023 = DSDIV_2023_filter.pivot_table(values = 'Invoice ID (or DBID)', index = index_cols_division_dept_deptid, columns = ('RestrictionUpdate', 'ATMF'), aggfunc=unique_ids)\n",
    "GSCPP_2023 = GSCPP_2023_filter.pivot_table(values = 'Invoice ID (or DBID)', index = index_cols_division_dept_deptid, columns = ('RestrictionUpdate', 'ATMF'), aggfunc=unique_ids)\n",
    "HAAS3_2023 = HAAS3_2023_filter.pivot_table(values = 'Invoice ID (or DBID)', index = index_cols_division_dept_deptid, columns = ('RestrictionUpdate', 'ATMF'), aggfunc=unique_ids)\n",
    "LS1PS_2023 = LS1PS_2023_filter.pivot_table(values = 'Invoice ID (or DBID)', index = index_cols_division_dept_deptid, columns = ('RestrictionUpdate', 'ATMF'), aggfunc=unique_ids)\n",
    "LS1UI_2023 = LS1UI_2023_filter.pivot_table(values = 'Invoice ID (or DBID)', index = index_cols_division_dept_deptid, columns = ('RestrictionUpdate', 'ATMF'), aggfunc=unique_ids)\n",
    "OT1VP_2023 = OT1VP_2023_filter.pivot_table(values = 'Invoice ID (or DBID)', index = index_cols_division_dept_deptid, columns = ('RestrictionUpdate', 'ATMF'), aggfunc=unique_ids)\n",
    "SCEDU_2023 = SCEDU_2023_filter.pivot_table(values = 'Invoice ID (or DBID)', index = index_cols_division_dept_deptid, columns = ('RestrictionUpdate', 'ATMF'), aggfunc=unique_ids)\n",
    "SCLAW_2023 = SCLAW_2023_filter.pivot_table(values = 'Invoice ID (or DBID)', index = index_cols_division_dept_deptid, columns = ('RestrictionUpdate', 'ATMF'), aggfunc=unique_ids)\n",
    "SSALL_2023 = SSALL_2023_filter.pivot_table(values = 'Invoice ID (or DBID)', index = index_cols_division_dept_deptid, columns = ('RestrictionUpdate', 'ATMF'), aggfunc=unique_ids)\n",
    "UCRLO_2023 = UCRLO_2023_filter.pivot_table(values = 'Invoice ID (or DBID)', index = index_cols_division_dept_deptid, columns = ('RestrictionUpdate', 'ATMF'), aggfunc=unique_ids)\n",
    "UNEX3_2023 = UNEX3_2023_filter.pivot_table(values = 'Invoice ID (or DBID)', index = index_cols_division_dept_deptid, columns = ('RestrictionUpdate', 'ATMF'), aggfunc=unique_ids)\n",
    "VCBAS_2023 = VCBAS_2023_filter.pivot_table(values = 'Invoice ID (or DBID)', index = index_cols_division_dept_deptid, columns = ('RestrictionUpdate', 'ATMF'), aggfunc=unique_ids)\n",
    "VCEI3_2023 = VCEI3_2023_filter.pivot_table(values = 'Invoice ID (or DBID)', index = index_cols_division_dept_deptid, columns = ('RestrictionUpdate', 'ATMF'), aggfunc=unique_ids)\n",
    "VCRAC_2023 = VCRAC_2023_filter.pivot_table(values = 'Invoice ID (or DBID)', index = index_cols_division_dept_deptid, columns = ('RestrictionUpdate', 'ATMF'), aggfunc=unique_ids)\n",
    "VCRAU_2023 = VCRAU_2023_filter.pivot_table(values = 'Invoice ID (or DBID)', index = index_cols_division_dept_deptid, columns = ('RestrictionUpdate', 'ATMF'), aggfunc=unique_ids)\n",
    "VCRMS_2023 = VCRMS_2023_filter.pivot_table(values = 'Invoice ID (or DBID)', index = index_cols_division_dept_deptid, columns = ('RestrictionUpdate', 'ATMF'), aggfunc=unique_ids)\n",
    "VCUGA_2023 = VCUGA_2023_filter.pivot_table(values = 'Invoice ID (or DBID)', index = index_cols_division_dept_deptid, columns = ('RestrictionUpdate', 'ATMF'), aggfunc=unique_ids)\n",
    "VR1GD_2023 = VR1GD_2023_filter.pivot_table(values = 'Invoice ID (or DBID)', index = index_cols_division_dept_deptid, columns = ('RestrictionUpdate', 'ATMF'), aggfunc=unique_ids)"
   ]
  },
  {
   "cell_type": "code",
   "execution_count": 198,
   "id": "abb3dd16-4660-4d59-8e2d-ff4c15d6352c",
   "metadata": {
    "tags": []
   },
   "outputs": [],
   "source": [
    "COENG_2023 = COENG_2023_filter.pivot_table(values = 'Invoice ID (or DBID)', index = index_cols_division_dept_deptid, columns = ('RestrictionUpdate', 'ATMF'), aggfunc=unique_ids)"
   ]
  },
  {
   "cell_type": "code",
   "execution_count": 199,
   "id": "b194fc4e-f632-4058-914b-c6850e701839",
   "metadata": {
    "collapsed": true,
    "jupyter": {
     "outputs_hidden": true
    },
    "tags": []
   },
   "outputs": [
    {
     "data": {
      "text/html": [
       "<div>\n",
       "<style scoped>\n",
       "    .dataframe tbody tr th:only-of-type {\n",
       "        vertical-align: middle;\n",
       "    }\n",
       "\n",
       "    .dataframe tbody tr th {\n",
       "        vertical-align: top;\n",
       "    }\n",
       "\n",
       "    .dataframe thead tr th {\n",
       "        text-align: left;\n",
       "    }\n",
       "\n",
       "    .dataframe thead tr:last-of-type th {\n",
       "        text-align: right;\n",
       "    }\n",
       "</style>\n",
       "<table border=\"1\" class=\"dataframe\">\n",
       "  <thead>\n",
       "    <tr>\n",
       "      <th></th>\n",
       "      <th></th>\n",
       "      <th>RestrictionUpdate</th>\n",
       "      <th colspan=\"4\" halign=\"left\">R</th>\n",
       "      <th colspan=\"2\" halign=\"left\">U</th>\n",
       "      <th colspan=\"2\" halign=\"left\">missingdata</th>\n",
       "    </tr>\n",
       "    <tr>\n",
       "      <th></th>\n",
       "      <th></th>\n",
       "      <th>ATMF</th>\n",
       "      <th>compedVisitor</th>\n",
       "      <th>domestic</th>\n",
       "      <th>international</th>\n",
       "      <th>unknown</th>\n",
       "      <th>domestic</th>\n",
       "      <th>international</th>\n",
       "      <th>domestic</th>\n",
       "      <th>international</th>\n",
       "    </tr>\n",
       "    <tr>\n",
       "      <th>OrgL3DivisionNode</th>\n",
       "      <th>OrgL4DepartmentDesc</th>\n",
       "      <th>Deptid</th>\n",
       "      <th></th>\n",
       "      <th></th>\n",
       "      <th></th>\n",
       "      <th></th>\n",
       "      <th></th>\n",
       "      <th></th>\n",
       "      <th></th>\n",
       "      <th></th>\n",
       "    </tr>\n",
       "  </thead>\n",
       "  <tbody>\n",
       "    <tr>\n",
       "      <th rowspan=\"11\" valign=\"top\">COENG</th>\n",
       "      <th rowspan=\"5\" valign=\"top\">Bioengineering</th>\n",
       "      <th>11450</th>\n",
       "      <td>NaN</td>\n",
       "      <td>5.0</td>\n",
       "      <td>NaN</td>\n",
       "      <td>NaN</td>\n",
       "      <td>NaN</td>\n",
       "      <td>NaN</td>\n",
       "      <td>NaN</td>\n",
       "      <td>NaN</td>\n",
       "    </tr>\n",
       "    <tr>\n",
       "      <th>11452</th>\n",
       "      <td>NaN</td>\n",
       "      <td>4.0</td>\n",
       "      <td>2.0</td>\n",
       "      <td>NaN</td>\n",
       "      <td>2.0</td>\n",
       "      <td>NaN</td>\n",
       "      <td>NaN</td>\n",
       "      <td>NaN</td>\n",
       "    </tr>\n",
       "    <tr>\n",
       "      <th>11453</th>\n",
       "      <td>NaN</td>\n",
       "      <td>2.0</td>\n",
       "      <td>1.0</td>\n",
       "      <td>NaN</td>\n",
       "      <td>NaN</td>\n",
       "      <td>NaN</td>\n",
       "      <td>NaN</td>\n",
       "      <td>NaN</td>\n",
       "    </tr>\n",
       "    <tr>\n",
       "      <th>11458</th>\n",
       "      <td>NaN</td>\n",
       "      <td>NaN</td>\n",
       "      <td>NaN</td>\n",
       "      <td>NaN</td>\n",
       "      <td>6.0</td>\n",
       "      <td>NaN</td>\n",
       "      <td>NaN</td>\n",
       "      <td>NaN</td>\n",
       "    </tr>\n",
       "    <tr>\n",
       "      <th>11461</th>\n",
       "      <td>NaN</td>\n",
       "      <td>2.0</td>\n",
       "      <td>NaN</td>\n",
       "      <td>NaN</td>\n",
       "      <td>NaN</td>\n",
       "      <td>NaN</td>\n",
       "      <td>NaN</td>\n",
       "      <td>NaN</td>\n",
       "    </tr>\n",
       "    <tr>\n",
       "      <th>...</th>\n",
       "      <th>...</th>\n",
       "      <td>...</td>\n",
       "      <td>...</td>\n",
       "      <td>...</td>\n",
       "      <td>...</td>\n",
       "      <td>...</td>\n",
       "      <td>...</td>\n",
       "      <td>...</td>\n",
       "      <td>...</td>\n",
       "    </tr>\n",
       "    <tr>\n",
       "      <th rowspan=\"2\" valign=\"top\">Mechanical Engineering</th>\n",
       "      <th>11583</th>\n",
       "      <td>NaN</td>\n",
       "      <td>17.0</td>\n",
       "      <td>15.0</td>\n",
       "      <td>NaN</td>\n",
       "      <td>9.0</td>\n",
       "      <td>2.0</td>\n",
       "      <td>NaN</td>\n",
       "      <td>NaN</td>\n",
       "    </tr>\n",
       "    <tr>\n",
       "      <th>11584</th>\n",
       "      <td>NaN</td>\n",
       "      <td>1.0</td>\n",
       "      <td>NaN</td>\n",
       "      <td>NaN</td>\n",
       "      <td>NaN</td>\n",
       "      <td>NaN</td>\n",
       "      <td>NaN</td>\n",
       "      <td>NaN</td>\n",
       "    </tr>\n",
       "    <tr>\n",
       "      <th rowspan=\"3\" valign=\"top\">Nuclear Engineering</th>\n",
       "      <th>11595</th>\n",
       "      <td>NaN</td>\n",
       "      <td>2.0</td>\n",
       "      <td>NaN</td>\n",
       "      <td>NaN</td>\n",
       "      <td>2.0</td>\n",
       "      <td>NaN</td>\n",
       "      <td>NaN</td>\n",
       "      <td>NaN</td>\n",
       "    </tr>\n",
       "    <tr>\n",
       "      <th>11598</th>\n",
       "      <td>NaN</td>\n",
       "      <td>12.0</td>\n",
       "      <td>3.0</td>\n",
       "      <td>NaN</td>\n",
       "      <td>3.0</td>\n",
       "      <td>8.0</td>\n",
       "      <td>NaN</td>\n",
       "      <td>NaN</td>\n",
       "    </tr>\n",
       "    <tr>\n",
       "      <th>11599</th>\n",
       "      <td>NaN</td>\n",
       "      <td>NaN</td>\n",
       "      <td>NaN</td>\n",
       "      <td>NaN</td>\n",
       "      <td>3.0</td>\n",
       "      <td>NaN</td>\n",
       "      <td>NaN</td>\n",
       "      <td>NaN</td>\n",
       "    </tr>\n",
       "  </tbody>\n",
       "</table>\n",
       "<p>65 rows × 8 columns</p>\n",
       "</div>"
      ],
      "text/plain": [
       "RestrictionUpdate                                           R           \\\n",
       "ATMF                                            compedVisitor domestic   \n",
       "OrgL3DivisionNode OrgL4DepartmentDesc    Deptid                          \n",
       "COENG             Bioengineering         11450            NaN      5.0   \n",
       "                                         11452            NaN      4.0   \n",
       "                                         11453            NaN      2.0   \n",
       "                                         11458            NaN      NaN   \n",
       "                                         11461            NaN      2.0   \n",
       "...                                                       ...      ...   \n",
       "                  Mechanical Engineering 11583            NaN     17.0   \n",
       "                                         11584            NaN      1.0   \n",
       "                  Nuclear Engineering    11595            NaN      2.0   \n",
       "                                         11598            NaN     12.0   \n",
       "                                         11599            NaN      NaN   \n",
       "\n",
       "RestrictionUpdate                                                      \\\n",
       "ATMF                                            international unknown   \n",
       "OrgL3DivisionNode OrgL4DepartmentDesc    Deptid                         \n",
       "COENG             Bioengineering         11450            NaN     NaN   \n",
       "                                         11452            2.0     NaN   \n",
       "                                         11453            1.0     NaN   \n",
       "                                         11458            NaN     NaN   \n",
       "                                         11461            NaN     NaN   \n",
       "...                                                       ...     ...   \n",
       "                  Mechanical Engineering 11583           15.0     NaN   \n",
       "                                         11584            NaN     NaN   \n",
       "                  Nuclear Engineering    11595            NaN     NaN   \n",
       "                                         11598            3.0     NaN   \n",
       "                                         11599            NaN     NaN   \n",
       "\n",
       "RestrictionUpdate                                      U                \\\n",
       "ATMF                                            domestic international   \n",
       "OrgL3DivisionNode OrgL4DepartmentDesc    Deptid                          \n",
       "COENG             Bioengineering         11450       NaN           NaN   \n",
       "                                         11452       2.0           NaN   \n",
       "                                         11453       NaN           NaN   \n",
       "                                         11458       6.0           NaN   \n",
       "                                         11461       NaN           NaN   \n",
       "...                                                  ...           ...   \n",
       "                  Mechanical Engineering 11583       9.0           2.0   \n",
       "                                         11584       NaN           NaN   \n",
       "                  Nuclear Engineering    11595       2.0           NaN   \n",
       "                                         11598       3.0           8.0   \n",
       "                                         11599       3.0           NaN   \n",
       "\n",
       "RestrictionUpdate                               missingdata                \n",
       "ATMF                                               domestic international  \n",
       "OrgL3DivisionNode OrgL4DepartmentDesc    Deptid                            \n",
       "COENG             Bioengineering         11450          NaN           NaN  \n",
       "                                         11452          NaN           NaN  \n",
       "                                         11453          NaN           NaN  \n",
       "                                         11458          NaN           NaN  \n",
       "                                         11461          NaN           NaN  \n",
       "...                                                     ...           ...  \n",
       "                  Mechanical Engineering 11583          NaN           NaN  \n",
       "                                         11584          NaN           NaN  \n",
       "                  Nuclear Engineering    11595          NaN           NaN  \n",
       "                                         11598          NaN           NaN  \n",
       "                                         11599          NaN           NaN  \n",
       "\n",
       "[65 rows x 8 columns]"
      ]
     },
     "execution_count": 199,
     "metadata": {},
     "output_type": "execute_result"
    }
   ],
   "source": [
    "COENG_2023"
   ]
  },
  {
   "cell_type": "markdown",
   "id": "ade640da-6e9d-4044-8620-3f25a5ddea0e",
   "metadata": {},
   "source": [
    "**Export the pivot table. This only shows total amounts, not including full details - do this for every division**"
   ]
  },
  {
   "cell_type": "code",
   "execution_count": 161,
   "id": "5f2dc166-acaf-41f9-a5ff-2848e4134c0f",
   "metadata": {
    "tags": []
   },
   "outputs": [],
   "source": [
    "CO1NR_2023.to_csv('CO1NR_2023_10may24.csv', index = True, index_label=['OrgL3DivisionNode', 'OrgL4DepartmentDesc', 'Deptid'])"
   ]
  },
  {
   "cell_type": "code",
   "execution_count": 200,
   "id": "3df9d5da-69fc-4b57-b76d-107cf104d257",
   "metadata": {
    "tags": []
   },
   "outputs": [],
   "source": [
    "COENG_2023.to_csv('COENG_2023_15july24.csv', index = True, index_label=['OrgL3DivisionNode', 'OrgL4DepartmentDesc', 'Deptid'])"
   ]
  },
  {
   "cell_type": "code",
   "execution_count": 162,
   "id": "6deb61d0-fbea-42e7-b944-829c92c91c76",
   "metadata": {
    "tags": []
   },
   "outputs": [],
   "source": [
    "COCHM_2023.to_csv('COCHM_2023_10may24.csv', index = True, index_label=['OrgL3DivisionNode', 'OrgL4DepartmentDesc', 'Deptid'])\n",
    "DSDIV_2023.to_csv('DSDIV_2023_10may24.csv', index = True, index_label=['OrgL3DivisionNode', 'OrgL4DepartmentDesc', 'Deptid'])\n",
    "GSCPP_2023.to_csv('GSCPP_2023_10may24.csv', index = True, index_label=['OrgL3DivisionNode', 'OrgL4DepartmentDesc', 'Deptid'])\n",
    "HAAS3_2023.to_csv('HAAS3_2023_10may24.csv', index = True, index_label=['OrgL3DivisionNode', 'OrgL4DepartmentDesc', 'Deptid'])\n",
    "LS1PS_2023.to_csv('LS1PS_2023_10may24.csv', index = True, index_label=['OrgL3DivisionNode', 'OrgL4DepartmentDesc', 'Deptid'])\n",
    "LS1UI_2023.to_csv('LS1UI_2023_10may24.csv', index = True, index_label=['OrgL3DivisionNode', 'OrgL4DepartmentDesc', 'Deptid'])\n",
    "OT1VP_2023.to_csv('OT1VP_2023_10may24.csv', index = True, index_label=['OrgL3DivisionNode', 'OrgL4DepartmentDesc', 'Deptid'])\n",
    "SCEDU_2023.to_csv('SCEDU_2023_10may24.csv', index = True, index_label=['OrgL3DivisionNode', 'OrgL4DepartmentDesc', 'Deptid'])\n",
    "SCLAW_2023.to_csv('SCLAW_2023_10may24.csv', index = True, index_label=['OrgL3DivisionNode', 'OrgL4DepartmentDesc', 'Deptid'])\n",
    "SSALL_2023.to_csv('SSALL_2023_10may24.csv', index = True, index_label=['OrgL3DivisionNode', 'OrgL4DepartmentDesc', 'Deptid'])\n",
    "UCRLO_2023.to_csv('UCRLO_2023_10may24.csv', index = True, index_label=['OrgL3DivisionNode', 'OrgL4DepartmentDesc', 'Deptid'])\n",
    "UNEX3_2023.to_csv('UNEX3_2023_10may24.csv', index = True, index_label=['OrgL3DivisionNode', 'OrgL4DepartmentDesc', 'Deptid'])\n",
    "VCBAS_2023.to_csv('VCBAS_2023_10may24.csv', index = True, index_label=['OrgL3DivisionNode', 'OrgL4DepartmentDesc', 'Deptid'])\n",
    "VCEI3_2023.to_csv('VCEI3_2023_10may24.csv', index = True, index_label=['OrgL3DivisionNode', 'OrgL4DepartmentDesc', 'Deptid'])\n",
    "VCRAC_2023.to_csv('VCRAC_2023_10may24.csv', index = True, index_label=['OrgL3DivisionNode', 'OrgL4DepartmentDesc', 'Deptid'])\n",
    "VCRAU_2023.to_csv('VCRAU_2023_10may24.csv', index = True, index_label=['OrgL3DivisionNode', 'OrgL4DepartmentDesc', 'Deptid'])\n",
    "VCRMS_2023.to_csv('VCRMS_2023_10may24.csv', index = True, index_label=['OrgL3DivisionNode', 'OrgL4DepartmentDesc', 'Deptid'])\n",
    "VCUGA_2023.to_csv('VCUGA_2023_10may24.csv', index = True, index_label=['OrgL3DivisionNode', 'OrgL4DepartmentDesc', 'Deptid'])\n",
    "VR1GD_2023.to_csv('VR1GD_2023_10may24.csv', index = True, index_label=['OrgL3DivisionNode', 'OrgL4DepartmentDesc', 'Deptid'])"
   ]
  },
  {
   "cell_type": "markdown",
   "id": "5b42b2af-d1ec-40f4-ac79-9899c12ca904",
   "metadata": {},
   "source": [
    "##Major results per unit could be useful for reporting purposes \n",
    "Visual reports on their travel patterns \n",
    "month to month travel data\n",
    "international vs domestic \n",
    "how much money is spent \n",
    "carbon emissions associated with their travel \n",
    "figure out if we can request more columns of data (mileage, destinations, etc.)\n",
    "september 7th have a report ready for marina\n",
    "send marina pie graph about emissions - we can do this with 2023 now "
   ]
  }
 ],
 "metadata": {
  "kernelspec": {
   "display_name": "Python 3 (ipykernel)",
   "language": "python",
   "name": "python3"
  },
  "language_info": {
   "codemirror_mode": {
    "name": "ipython",
    "version": 3
   },
   "file_extension": ".py",
   "mimetype": "text/x-python",
   "name": "python",
   "nbconvert_exporter": "python",
   "pygments_lexer": "ipython3",
   "version": "3.11.5"
  }
 },
 "nbformat": 4,
 "nbformat_minor": 5
}
